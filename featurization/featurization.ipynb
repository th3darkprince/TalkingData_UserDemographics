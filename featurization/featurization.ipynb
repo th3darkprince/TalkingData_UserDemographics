{
 "cells": [
  {
   "cell_type": "markdown",
   "metadata": {},
   "source": [
    "## Import Libraries"
   ]
  },
  {
   "cell_type": "code",
   "execution_count": 1,
   "metadata": {},
   "outputs": [],
   "source": [
    "import pandas as pd\n",
    "from sklearn.preprocessing import Normalizer\n",
    "from tqdm import tqdm\n",
    "import math\n",
    "import numpy as np"
   ]
  },
  {
   "cell_type": "markdown",
   "metadata": {},
   "source": [
    "## Data Import"
   ]
  },
  {
   "cell_type": "code",
   "execution_count": 2,
   "metadata": {},
   "outputs": [],
   "source": [
    "df_train = pd.read_pickle(\"dataset/dataset_train_with_specs.pkl\")\n",
    "df_test = pd.read_pickle(\"dataset/dataset_test_with_specs.pkl\")"
   ]
  },
  {
   "cell_type": "code",
   "execution_count": 3,
   "metadata": {},
   "outputs": [
    {
     "name": "stdout",
     "output_type": "stream",
     "text": [
      "Index(['device_id', 'brand', 'model', 'installed_apps', 'activity', 'gender',\n",
      "       'age', 'group', 'installed_app_categories', 'app_usage',\n",
      "       'app_usage_session', 'active_app_categories', 'active_app_usage_time',\n",
      "       'active_apps', 'activity_hour', 'activity_day', 'num_travels',\n",
      "       'mean_latitude', 'mean_longitude', 'screen_size', 'ram_gb',\n",
      "       'release_month', 'release_year', 'camera'],\n",
      "      dtype='object')\n"
     ]
    }
   ],
   "source": [
    "print(df_train.columns)"
   ]
  },
  {
   "cell_type": "markdown",
   "metadata": {},
   "source": [
    "## Data Cleaning"
   ]
  },
  {
   "cell_type": "code",
   "execution_count": 4,
   "metadata": {},
   "outputs": [],
   "source": [
    "df_train.drop(columns=['activity'],inplace=True)\n",
    "df_test.drop(columns=['activity'],inplace=True)"
   ]
  },
  {
   "cell_type": "code",
   "execution_count": 5,
   "metadata": {},
   "outputs": [
    {
     "name": "stderr",
     "output_type": "stream",
     "text": [
      "C:\\Users\\ADMIN\\Anaconda3\\envs\\squad\\lib\\site-packages\\tqdm\\std.py:666: FutureWarning: The Panel class is removed from pandas. Accessing it from the top-level namespace will also be removed in the next version\n",
      "  from pandas import Panel\n"
     ]
    }
   ],
   "source": [
    "tqdm.pandas()\n",
    "pd.options.mode.chained_assignment = None  # default='warn'"
   ]
  },
  {
   "cell_type": "code",
   "execution_count": 6,
   "metadata": {},
   "outputs": [
    {
     "name": "stderr",
     "output_type": "stream",
     "text": [
      "100%|█████████████████████████████████████████████████████████████████████████| 74645/74645 [00:02<00:00, 29785.71it/s]\n",
      "100%|███████████████████████████████████████████████████████████████████████| 112071/112071 [00:02<00:00, 52484.07it/s]\n",
      "100%|█████████████████████████████████████████████████████████████████████████| 74645/74645 [00:01<00:00, 53833.91it/s]\n",
      "100%|███████████████████████████████████████████████████████████████████████| 112071/112071 [00:02<00:00, 55322.11it/s]\n"
     ]
    }
   ],
   "source": [
    "#returns all the installed apps as a string which can then be onehot encoded\n",
    "df_train['installed_apps_string'] = df_train.progress_apply(lambda x:\" \".join([str(i) for i in x['installed_apps']]), axis=1)\n",
    "df_test['installed_apps_string'] = df_test.progress_apply(lambda x:\" \".join([str(i) for i in x['installed_apps']]), axis=1)\n",
    "df_train['active_apps_string'] = df_train.progress_apply(lambda x:\" \".join([str(i) for i in x['active_apps']]), axis=1)\n",
    "df_test['active_apps_string'] = df_test.progress_apply(lambda x:\" \".join([str(i) for i in x['active_apps']]), axis=1)"
   ]
  },
  {
   "cell_type": "code",
   "execution_count": 7,
   "metadata": {},
   "outputs": [],
   "source": [
    "def specs_present(row):\n",
    "    \"\"\"Function that returns a boolean variable that tells whether the specifications of the device are present for the record\"\"\"\n",
    "    if row['screen_size']==0:\n",
    "        return 0\n",
    "    else:\n",
    "        return 1"
   ]
  },
  {
   "cell_type": "code",
   "execution_count": 8,
   "metadata": {},
   "outputs": [
    {
     "name": "stderr",
     "output_type": "stream",
     "text": [
      "100%|█████████████████████████████████████████████████████████████████████████| 74645/74645 [00:00<00:00, 76902.93it/s]\n",
      "100%|███████████████████████████████████████████████████████████████████████| 112071/112071 [00:01<00:00, 76291.39it/s]\n"
     ]
    }
   ],
   "source": [
    "df_train['specs_available'] = df_train.progress_apply(specs_present, axis=1)\n",
    "df_test['specs_available'] = df_test.progress_apply(specs_present, axis=1)"
   ]
  },
  {
   "cell_type": "code",
   "execution_count": 9,
   "metadata": {},
   "outputs": [],
   "source": [
    "app_labels = pd.read_csv(\"../dataset/label_categories.csv\")\n",
    "\n",
    "def installed_app_labels(row):\n",
    "    \"\"\"Fucntions that returns the labels of the installed apps on the device\"\"\"\n",
    "    \n",
    "    installed_labels=\"\"\n",
    "        \n",
    "    for i in list(row['installed_app_categories']):\n",
    "        \n",
    "        installed_labels += str(app_labels.loc[app_labels['label_id']==i,'category'].values[0]) + \" \"\n",
    "    \n",
    "    return installed_labels\n",
    "\n",
    "def active_app_labels(row):\n",
    "    \"\"\"Fucntions that returns the labels of the active apps on the device\"\"\"\n",
    "    \n",
    "    active_labels=\"\"        \n",
    "        \n",
    "    for j in list(row['active_app_categories']):\n",
    "        active_labels += str(app_labels.loc[app_labels['label_id']==j,'category'].values[0]) + \" \"\n",
    "    \n",
    "    return active_labels"
   ]
  },
  {
   "cell_type": "code",
   "execution_count": 10,
   "metadata": {},
   "outputs": [
    {
     "name": "stderr",
     "output_type": "stream",
     "text": [
      "100%|███████████████████████████████████████████████████████████████████████████| 74645/74645 [06:03<00:00, 205.10it/s]\n",
      "100%|█████████████████████████████████████████████████████████████████████████| 112071/112071 [09:00<00:00, 207.35it/s]\n"
     ]
    }
   ],
   "source": [
    "df_train['installed_app_labels'] = df_train.progress_apply(installed_app_labels, axis=1)\n",
    "df_test['installed_app_labels'] = df_test.progress_apply(installed_app_labels, axis=1)"
   ]
  },
  {
   "cell_type": "code",
   "execution_count": 11,
   "metadata": {},
   "outputs": [
    {
     "name": "stderr",
     "output_type": "stream",
     "text": [
      "100%|███████████████████████████████████████████████████████████████████████████| 74645/74645 [02:52<00:00, 431.98it/s]\n",
      "100%|█████████████████████████████████████████████████████████████████████████| 112071/112071 [04:20<00:00, 429.56it/s]\n"
     ]
    }
   ],
   "source": [
    "df_train['active_app_labels'] = df_train.progress_apply(active_app_labels, axis=1)\n",
    "df_test['active_app_labels'] = df_test.progress_apply(active_app_labels, axis=1)"
   ]
  },
  {
   "cell_type": "code",
   "execution_count": 12,
   "metadata": {},
   "outputs": [],
   "source": [
    "norm = Normalizer(norm = 'l1')"
   ]
  },
  {
   "cell_type": "code",
   "execution_count": 13,
   "metadata": {},
   "outputs": [
    {
     "name": "stderr",
     "output_type": "stream",
     "text": [
      "100%|██████████████████████████████████████████████████████████████████████████| 74645/74645 [00:12<00:00, 5891.85it/s]\n",
      "100%|████████████████████████████████████████████████████████████████████████| 112071/112071 [00:18<00:00, 5925.18it/s]\n",
      "100%|██████████████████████████████████████████████████████████████████████████| 74645/74645 [00:12<00:00, 5987.08it/s]\n",
      "100%|████████████████████████████████████████████████████████████████████████| 112071/112071 [00:18<00:00, 5946.81it/s]\n"
     ]
    }
   ],
   "source": [
    "df_train['activity_hour'] = df_train.progress_apply(lambda x: norm.transform([x['activity_hour']])[0], axis=1)\n",
    "df_test['activity_hour'] = df_test.progress_apply(lambda x: norm.transform([x['activity_hour']])[0], axis=1)\n",
    "df_train['activity_day'] = df_train.progress_apply(lambda x: norm.transform([x['activity_day']])[0], axis=1)\n",
    "df_test['activity_day'] = df_test.progress_apply(lambda x: norm.transform([x['activity_day']])[0], axis=1)"
   ]
  },
  {
   "cell_type": "code",
   "execution_count": 14,
   "metadata": {},
   "outputs": [],
   "source": [
    "def installed_app_onehot(row):\n",
    "    \"\"\"Function that returns onehot encoded values of installed apps\"\"\"\n",
    "    counts = {k:0 for k in list(df_train.loc[4]['active_app_usage_time'].keys())}\n",
    "    \n",
    "    for i in row['installed_app_categories']:\n",
    "        if i in counts.keys():\n",
    "            counts[i] = 1\n",
    "        else:\n",
    "            continue\n",
    "    return list(counts.values())"
   ]
  },
  {
   "cell_type": "code",
   "execution_count": 15,
   "metadata": {},
   "outputs": [
    {
     "name": "stderr",
     "output_type": "stream",
     "text": [
      "100%|██████████████████████████████████████████████████████████████████████████| 74645/74645 [00:15<00:00, 4883.51it/s]\n",
      "100%|████████████████████████████████████████████████████████████████████████| 112071/112071 [00:23<00:00, 4845.34it/s]\n"
     ]
    }
   ],
   "source": [
    "df_train['installed_app_onehot'] = df_train.progress_apply(installed_app_onehot, axis=1)\n",
    "df_test['installed_app_onehot'] = df_test.progress_apply(installed_app_onehot, axis=1)"
   ]
  },
  {
   "cell_type": "code",
   "execution_count": 16,
   "metadata": {},
   "outputs": [],
   "source": [
    "def active_app_onehot(row):\n",
    "    \"\"\"Function that returns onehot encoded values of active apps\"\"\"\n",
    "    \n",
    "    counts = {k:0 for k in list(df_train.loc[4]['active_app_usage_time'].keys())}\n",
    "    \n",
    "    for i in row['active_app_categories']:\n",
    "        if i in counts.keys():\n",
    "            counts[i] = 1\n",
    "        else:\n",
    "            continue\n",
    "    return list(counts.values())"
   ]
  },
  {
   "cell_type": "code",
   "execution_count": 17,
   "metadata": {},
   "outputs": [
    {
     "name": "stderr",
     "output_type": "stream",
     "text": [
      "100%|██████████████████████████████████████████████████████████████████████████| 74645/74645 [00:15<00:00, 4829.00it/s]\n",
      "100%|████████████████████████████████████████████████████████████████████████| 112071/112071 [00:22<00:00, 4891.70it/s]\n"
     ]
    }
   ],
   "source": [
    "df_train['active_app_onehot'] = df_train.progress_apply(active_app_onehot, axis=1)\n",
    "df_test['active_app_onehot'] = df_test.progress_apply(active_app_onehot, axis=1)"
   ]
  },
  {
   "cell_type": "code",
   "execution_count": 18,
   "metadata": {},
   "outputs": [],
   "source": [
    "def time_bin(seq):\n",
    "    \"\"\"Function that returns fraction of activity of the particular app category during the four timezones of the day\"\"\"\n",
    "    morning = sum(seq[6:12])                    #6AM to 12PM\n",
    "    afternoon = sum(seq[12:17])                 #12PM to 5PM\n",
    "    evening = sum(seq[17:23])                   #5PM to 11 PM\n",
    "    night = sum(seq[0:6]) + sum(seq[23:])       #11PM to 6AM\n",
    "            \n",
    "    usage = [morning, afternoon, evening, night]\n",
    "    usage = norm.transform([usage])[0]\n",
    "    \n",
    "    return usage"
   ]
  },
  {
   "cell_type": "code",
   "execution_count": 19,
   "metadata": {},
   "outputs": [],
   "source": [
    "def time_bin_app_usage(row):\n",
    "    \"\"\"Funtion that returns the active app usage time\"\"\"\n",
    "    \n",
    "    if row['active_app_usage_time']==0:\n",
    "        \n",
    "        time_binned_usage = [0.0 for i in range(4*485)]\n",
    "\n",
    "    else:\n",
    "        \n",
    "        time_binned_usage = []    \n",
    "    \n",
    "        for i in row['active_app_usage_time'].keys():\n",
    "            if sum(row['active_app_usage_time'][i])==0:\n",
    "                time_binned_usage.extend([0.0,0.0,0.0,0.0])\n",
    "            else:\n",
    "                time_binned_usage.extend(time_bin(row['active_app_usage_time'][i]))        \n",
    "\n",
    "    row['active_app_usage'] = time_binned_usage\n",
    "        \n",
    "    return row"
   ]
  },
  {
   "cell_type": "code",
   "execution_count": 20,
   "metadata": {},
   "outputs": [
    {
     "name": "stderr",
     "output_type": "stream",
     "text": [
      "100%|███████████████████████████████████████████████████████████████████████████| 74645/74645 [04:17<00:00, 289.65it/s]\n",
      "100%|█████████████████████████████████████████████████████████████████████████| 112071/112071 [07:20<00:00, 254.56it/s]\n"
     ]
    }
   ],
   "source": [
    "df_train = df_train.progress_apply(time_bin_app_usage, axis=1)\n",
    "df_test = df_test.progress_apply(time_bin_app_usage, axis=1)"
   ]
  },
  {
   "cell_type": "code",
   "execution_count": 21,
   "metadata": {},
   "outputs": [],
   "source": [
    "def location_outlier(row):\n",
    "    \"\"\"Function that tells whether the location of the record is an outlier\"\"\"\n",
    "    \n",
    "    if (row['mean_latitude'] == 0.0) & (row['mean_longitude'] == 0.0):\n",
    "        return 0\n",
    "    else:\n",
    "        return 1"
   ]
  },
  {
   "cell_type": "code",
   "execution_count": 22,
   "metadata": {},
   "outputs": [
    {
     "name": "stderr",
     "output_type": "stream",
     "text": [
      "100%|█████████████████████████████████████████████████████████████████████████| 74645/74645 [00:02<00:00, 25347.32it/s]\n",
      "100%|███████████████████████████████████████████████████████████████████████| 112071/112071 [00:02<00:00, 43883.33it/s]\n"
     ]
    }
   ],
   "source": [
    "df_train['location_available'] = df_train.progress_apply(location_outlier, axis=1)\n",
    "df_test['location_available'] = df_test.progress_apply(location_outlier, axis=1)"
   ]
  },
  {
   "cell_type": "code",
   "execution_count": 23,
   "metadata": {},
   "outputs": [
    {
     "name": "stdout",
     "output_type": "stream",
     "text": [
      "{2009: [1, 2, 3, 4], 2010: [5, 6, 7, 8], 2011: [9, 10, 11, 12], 2012: [13, 14, 15, 16], 2013: [17, 18, 19, 20], 2014: [21, 22, 23, 24], 2015: [25, 26, 27, 28], 2016: [29, 30, 31, 32], 2017: [33, 34, 35, 36], 2018: [37, 38, 39, 40], 2019: [41, 42, 43, 44], 2020: [45, 46, 47, 48]}\n"
     ]
    }
   ],
   "source": [
    "bins = {}\n",
    "for i in range(2009,2021):\n",
    "    bins[i]=[(i-2009)*4+j for j in range(1,5)]\n",
    "    \n",
    "print(bins)"
   ]
  },
  {
   "cell_type": "code",
   "execution_count": 24,
   "metadata": {},
   "outputs": [],
   "source": [
    "df_train.loc[df_train['release_year']==2.16,'release_year']=2016\n",
    "df_train.loc[df_train['release_year']==20116,'release_year']=2016\n",
    "df_test.loc[df_test['release_year']==2.16,'release_year']=2016\n",
    "df_test.loc[df_test['release_year']==20116,'release_year']=2016"
   ]
  },
  {
   "cell_type": "code",
   "execution_count": 25,
   "metadata": {},
   "outputs": [],
   "source": [
    "def release_bins(row):\n",
    "    \"\"\"Function that returns the time given the release year\"\"\"\n",
    "    if row['specs_available']==1:\n",
    "        row['release_bin'] = bins[row['release_year']][int(row['release_month']/4)]\n",
    "    else:\n",
    "        row['release_bin'] = 0\n",
    "    \n",
    "    return row"
   ]
  },
  {
   "cell_type": "code",
   "execution_count": 26,
   "metadata": {},
   "outputs": [
    {
     "name": "stderr",
     "output_type": "stream",
     "text": [
      "100%|██████████████████████████████████████████████████████████████████████████| 74645/74645 [00:51<00:00, 1446.13it/s]\n",
      "100%|████████████████████████████████████████████████████████████████████████| 112071/112071 [01:18<00:00, 1423.15it/s]\n"
     ]
    }
   ],
   "source": [
    "df_train = df_train.progress_apply(release_bins, axis=1)\n",
    "df_test = df_test.progress_apply(release_bins, axis=1)"
   ]
  },
  {
   "cell_type": "code",
   "execution_count": 28,
   "metadata": {},
   "outputs": [],
   "source": [
    "#dropping unwanted columns\n",
    "df_train.drop(columns=['installed_app_categories','active_app_usage_time','active_app_categories','release_month','release_year','installed_apps','active_apps'], inplace=True)\n",
    "df_test.drop(columns=['installed_app_categories','active_app_usage_time','active_app_categories','release_month','release_year','installed_apps','active_apps'], inplace=True)"
   ]
  },
  {
   "cell_type": "code",
   "execution_count": 29,
   "metadata": {},
   "outputs": [
    {
     "name": "stdout",
     "output_type": "stream",
     "text": [
      "Index(['device_id', 'brand', 'model', 'gender', 'age', 'group', 'app_usage',\n",
      "       'app_usage_session', 'activity_hour', 'activity_day', 'num_travels',\n",
      "       'mean_latitude', 'mean_longitude', 'screen_size', 'ram_gb', 'camera',\n",
      "       'installed_apps_string', 'active_apps_string', 'specs_available',\n",
      "       'installed_app_labels', 'active_app_labels', 'installed_app_onehot',\n",
      "       'active_app_onehot', 'active_app_usage', 'location_available',\n",
      "       'release_bin'],\n",
      "      dtype='object')\n",
      "Index(['device_id', 'brand', 'model', 'app_usage', 'app_usage_session',\n",
      "       'activity_hour', 'activity_day', 'num_travels', 'mean_latitude',\n",
      "       'mean_longitude', 'screen_size', 'ram_gb', 'camera',\n",
      "       'installed_apps_string', 'active_apps_string', 'specs_available',\n",
      "       'installed_app_labels', 'active_app_labels', 'installed_app_onehot',\n",
      "       'active_app_onehot', 'active_app_usage', 'location_available',\n",
      "       'release_bin'],\n",
      "      dtype='object')\n"
     ]
    }
   ],
   "source": [
    "print(df_train.columns)\n",
    "print(df_test.columns)"
   ]
  },
  {
   "cell_type": "code",
   "execution_count": 30,
   "metadata": {},
   "outputs": [],
   "source": [
    "df_train.to_pickle(\"dataset/train_features.pkl\")\n",
    "df_test.to_pickle(\"dataset/test_features.pkl\")"
   ]
  }
 ],
 "metadata": {
  "kernelspec": {
   "display_name": "Python 3",
   "language": "python",
   "name": "python3"
  },
  "language_info": {
   "codemirror_mode": {
    "name": "ipython",
    "version": 3
   },
   "file_extension": ".py",
   "mimetype": "text/x-python",
   "name": "python",
   "nbconvert_exporter": "python",
   "pygments_lexer": "ipython3",
   "version": "3.6.10"
  }
 },
 "nbformat": 4,
 "nbformat_minor": 4
}
