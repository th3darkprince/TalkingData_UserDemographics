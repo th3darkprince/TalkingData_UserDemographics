{
 "cells": [
  {
   "cell_type": "markdown",
   "metadata": {},
   "source": [
    "## Import Libraries"
   ]
  },
  {
   "cell_type": "code",
   "execution_count": 1,
   "metadata": {},
   "outputs": [],
   "source": [
    "import pandas as pd                                                         #import dataset\n",
    "from sklearn.preprocessing import LabelEncoder                              #encode targets\n",
    "from sklearn.model_selection import train_test_split                        #split dataset into train and test\n",
    "from sklearn.metrics import roc_auc_score, log_loss, confusion_matrix       #metrics\n",
    "import numpy as np                                                          #numpy operations                                     \n",
    "import seaborn as sns                                                       #plotting\n",
    "import matplotlib.pyplot as plt                                             #plotting\n",
    "from scipy.sparse import hstack, vstack                                     #concatenation of features\n",
    "import itertools                                                            #loop through hyperparameters\n",
    "from sklearn.neighbors import KNeighborsClassifier                          #K Nearest Neighbors\n",
    "from sklearn.linear_model import SGDClassifier                              #Logistic Regression, SVM\n",
    "from sklearn.naive_bayes import MultinomialNB                               #Naive Bayes\n",
    "from sklearn.ensemble import RandomForestClassifier                         #Random Forest\n",
    "from sklearn.calibration import CalibratedClassifierCV                      #to get probabilities\n",
    "import xgboost as xgb                                                       #XGBoost\n",
    "from sklearn.model_selection import RandomizedSearchCV                      #Hyperparameter Tuning\n",
    "from tqdm import tqdm                                                       #to track progress\n",
    "from sklearn.preprocessing import Normalizer, StandardScaler                #standardizing\n",
    "from sklearn.feature_extraction.text import TfidfVectorizer                 #TF IDF vectorizer\n",
    "from prettytable import PrettyTable                                         #summarize results"
   ]
  },
  {
   "cell_type": "markdown",
   "metadata": {},
   "source": [
    "## Data Import"
   ]
  },
  {
   "cell_type": "code",
   "execution_count": 2,
   "metadata": {},
   "outputs": [],
   "source": [
    "df_noevents = pd.read_pickle(\"dataset/dataset_train_noevents.pkl\")\n",
    "df_events = pd.read_pickle(\"dataset/dataset_train_events.pkl\")"
   ]
  },
  {
   "cell_type": "code",
   "execution_count": 6,
   "metadata": {},
   "outputs": [
    {
     "name": "stderr",
     "output_type": "stream",
     "text": [
      "100%|██████████████████████████████████████████████████████████████████████████| 51355/51355 [00:42<00:00, 1197.18it/s]\n"
     ]
    }
   ],
   "source": [
    "tqdm.pandas()\n",
    "df_noevents = df_noevents.progress_apply(release_bins, axis=1)"
   ]
  },
  {
   "cell_type": "code",
   "execution_count": 7,
   "metadata": {
    "scrolled": true
   },
   "outputs": [
    {
     "name": "stderr",
     "output_type": "stream",
     "text": [
      "100%|██████████████████████████████████████████████████████████████████████████| 23290/23290 [00:19<00:00, 1193.48it/s]\n"
     ]
    }
   ],
   "source": [
    "df_events = df_events.progress_apply(release_bins, axis=1)"
   ]
  },
  {
   "cell_type": "markdown",
   "metadata": {},
   "source": [
    "## Data Cleaning"
   ]
  },
  {
   "cell_type": "code",
   "execution_count": 9,
   "metadata": {},
   "outputs": [],
   "source": [
    "df_noevents.loc[df_noevents['specs_available']==0,'screen_size']=0\n",
    "df_noevents.loc[df_noevents['specs_available']==0,'ram_gb']=0\n",
    "df_noevents.loc[df_noevents['specs_available']==0,'camera']=0"
   ]
  },
  {
   "cell_type": "code",
   "execution_count": 10,
   "metadata": {},
   "outputs": [],
   "source": [
    "df_events.loc[df_events['specs_available']==0,'screen_size']=0\n",
    "df_events.loc[df_events['specs_available']==0,'ram_gb']=0\n",
    "df_events.loc[df_events['specs_available']==0,'camera']=0\n",
    "df_events.loc[df_events['app_usage'].isna(),'app_usage']=0\n",
    "df_events.loc[df_events['app_usage_session'].isna(),'app_usage_session']=0"
   ]
  },
  {
   "cell_type": "markdown",
   "metadata": {},
   "source": [
    "### Splitting into Train, Cross-Validate and Test Sets"
   ]
  },
  {
   "cell_type": "code",
   "execution_count": 14,
   "metadata": {},
   "outputs": [],
   "source": [
    "df_noevents_data, df_noevents_test = train_test_split(df_noevents, test_size = 0.2)\n",
    "df_noevents_train, df_noevents_cv = train_test_split(df_noevents_data, test_size = 0.2)"
   ]
  },
  {
   "cell_type": "code",
   "execution_count": 15,
   "metadata": {},
   "outputs": [],
   "source": [
    "df_events_data, df_events_test = train_test_split(df_events, test_size = 0.2)\n",
    "df_events_train, df_events_cv = train_test_split(df_events_data, test_size = 0.2)"
   ]
  },
  {
   "cell_type": "code",
   "execution_count": 16,
   "metadata": {},
   "outputs": [
    {
     "name": "stdout",
     "output_type": "stream",
     "text": [
      "(32867, 11) (8217, 11) (10271, 11)\n",
      "(14905, 24) (3727, 24) (4658, 24)\n"
     ]
    }
   ],
   "source": [
    "print(df_noevents_train.shape, df_noevents_cv.shape, df_noevents_test.shape)\n",
    "print(df_events_train.shape, df_events_cv.shape, df_events_test.shape)"
   ]
  },
  {
   "cell_type": "code",
   "execution_count": 17,
   "metadata": {},
   "outputs": [
    {
     "name": "stdout",
     "output_type": "stream",
     "text": [
      "Index(['device_id', 'brand', 'model', 'gender', 'age', 'group', 'screen_size',\n",
      "       'ram_gb', 'camera', 'specs_available', 'release_bin'],\n",
      "      dtype='object')\n",
      "Index(['device_id', 'brand', 'model', 'gender', 'age', 'group', 'app_usage',\n",
      "       'app_usage_session', 'active_app_usage_counts', 'activity_hour',\n",
      "       'activity_day', 'num_travels', 'mean_latitude', 'mean_longitude',\n",
      "       'screen_size', 'ram_gb', 'camera', 'installed_app_labels',\n",
      "       'active_app_labels', 'installed_app_counts', 'active_app_usage',\n",
      "       'location_available', 'specs_available', 'release_bin'],\n",
      "      dtype='object')\n"
     ]
    }
   ],
   "source": [
    "print(df_noevents_train.columns)\n",
    "print(df_events_train.columns)"
   ]
  },
  {
   "cell_type": "markdown",
   "metadata": {},
   "source": [
    "## Utility Functions"
   ]
  },
  {
   "cell_type": "code",
   "execution_count": 40,
   "metadata": {},
   "outputs": [],
   "source": [
    "def hyperparameter_tuning(classifier, hp_list, hp, X_train, y_train, X_cv, y_cv, X_test, y_test):\n",
    "    \"\"\"Function to perform Hyperparameter tuning of the models. Takes the model name, hyperparameter name and list \n",
    "    along with the train, cross validation and test datasets as input\"\"\"\n",
    "    \n",
    "    #stores the losses\n",
    "    cv_log_error_array = []\n",
    "    \n",
    "    #https://stackoverflow.com/questions/32438350/python-merging-two-lists-with-all-possible-permutations/32438848\n",
    "    if classifier == \"rf\":\n",
    "        hp_list = list(itertools.product(hp_list[0], hp_list[1]))\n",
    "    \n",
    "    for i in hp_list:\n",
    "        \n",
    "        if classifier == \"rf\":\n",
    "            #since random forest has two hyperparameters\n",
    "            print(\"for n_estimators = {}, max_depth = {}\".format(i[0],i[1]))\n",
    "        else:\n",
    "            print(\"for {} = {}\".format(hp,i))\n",
    "        \n",
    "        #initialize the classifier with the hyperparameter\n",
    "        if classifier == \"nb\":\n",
    "            clf = MultinomialNB(alpha=i)\n",
    "        elif classifier == \"knn\":\n",
    "            clf = KNeighborsClassifier(n_neighbors=i)\n",
    "        elif classifier == \"lrb\":\n",
    "            clf = SGDClassifier(class_weight='balanced', alpha=i, penalty='l2', loss='log', random_state=42)\n",
    "        elif classifier == \"lr\":\n",
    "            clf = SGDClassifier(alpha=i, penalty='l2', loss='log', random_state=42)\n",
    "        elif classifier == \"svm\":\n",
    "            clf = SGDClassifier(class_weight='balanced', alpha=i, penalty='l2', loss='hinge', random_state=42)\n",
    "        elif classifier == \"rf\":\n",
    "            clf = RandomForestClassifier(n_estimators=i[0], criterion='gini', max_depth=i[1], random_state=42, n_jobs=-1)\n",
    "        \n",
    "        #fit and train the model\n",
    "        clf.fit(X_train, y_train)\n",
    "        sig_clf = CalibratedClassifierCV(clf, method=\"sigmoid\")\n",
    "        sig_clf.fit(X_train, y_train)\n",
    "        sig_clf_probs = sig_clf.predict_proba(X_cv)\n",
    "        cv_log_error_array.append(log_loss(y_cv, sig_clf_probs, labels=clf.classes_, eps=1e-15))\n",
    "        \n",
    "        # to avoid rounding error while multiplying probabilites we use log-probability estimates\n",
    "        print(\"Log Loss :\",log_loss(y_cv, sig_clf_probs)) \n",
    "\n",
    "    #select the hyperparameter with the best performance metric\n",
    "    best_hp = np.argmin(cv_log_error_array)\n",
    "    \n",
    "    #retraining with the best hyperparameter\n",
    "    if classifier == \"nb\":\n",
    "        clf = MultinomialNB(alpha=hp_list[best_hp])\n",
    "    elif classifier == \"knn\":\n",
    "        clf = KNeighborsClassifier(n_neighbors=hp_list[best_hp])\n",
    "    elif classifier == \"lrb\":\n",
    "        clf = SGDClassifier(class_weight='balanced', alpha=hp_list[best_hp], penalty='l2', loss='log', random_state=42)\n",
    "    elif classifier == \"lr\":\n",
    "        clf = SGDClassifier(alpha=hp_list[best_hp], penalty='l2', loss='log', random_state=42)\n",
    "    elif classifier == \"svm\":\n",
    "        clf = SGDClassifier(class_weight='balanced', alpha=hp_list[best_hp], penalty='l2', loss='hinge', random_state=42)\n",
    "    elif classifier == \"rf\":\n",
    "        clf = RandomForestClassifier(n_estimators=hp_list[best_hp][0], criterion='gini', max_depth=hp_list[best_hp][1], random_state=42, n_jobs=-1)\n",
    "    \n",
    "    clf.fit(X_train, y_train)\n",
    "    sig_clf = CalibratedClassifierCV(clf, method=\"sigmoid\")\n",
    "    sig_clf.fit(X_train, y_train)\n",
    "    \n",
    "    #getting train, cross validation and test log loss\n",
    "    predict_y = sig_clf.predict_proba(X_train)\n",
    "    train_loss = log_loss(y_train, predict_y, labels=clf.classes_, eps=1e-15)\n",
    "    print('For values of best ',hp,' = ', hp_list[best_hp], \"The train log loss is:\", train_loss)\n",
    "    predict_y = sig_clf.predict_proba(X_cv)\n",
    "    cv_loss = log_loss(y_cv, predict_y, labels=clf.classes_, eps=1e-15)\n",
    "    print('For values of best ',hp,' = ', hp_list[best_hp], \"The cross validation log loss is:\", cv_loss)\n",
    "    predict_y = sig_clf.predict_proba(X_test)\n",
    "    test_loss = log_loss(y_test, predict_y, labels=clf.classes_, eps=1e-15)\n",
    "    print('For values of best ',hp,' = ', hp_list[best_hp], \"The test log loss is:\", test_loss)\n",
    "    \n",
    "    #number of misclassified records\n",
    "    mp = np.count_nonzero((sig_clf.predict(X_test)- y_test))/y_test.shape[0]\n",
    "    print(\"Percentage of missclassified points :\", mp)\n",
    "    \n",
    "    #accuracy\n",
    "    acc = (1-mp)*100\n",
    "    print(\"Accuracy: \", acc)\n",
    "    \n",
    "    predicted_y =np.argmax(predict_y, axis=1)\n",
    "    \n",
    "    #AUC\n",
    "    auc = roc_auc_score(y_test, predict_y[:,1])\n",
    "    print(\"AUC: \", auc)\n",
    "    \n",
    "    plot_confusion_matrix(y_test, predicted_y)\n",
    "    \n",
    "    return acc, auc, test_loss"
   ]
  },
  {
   "cell_type": "code",
   "execution_count": 37,
   "metadata": {},
   "outputs": [],
   "source": [
    "def plot_confusion_matrix(test_y, predict_y):\n",
    "    \"\"\"Function to plot the confusion matrix. Takes ground truth and predicttions as input parameters\"\"\"\n",
    "    \n",
    "    #confusion matrix values\n",
    "    C = confusion_matrix(test_y, predict_y)\n",
    "    \n",
    "    #recall matrix values\n",
    "    A =(((C.T)/(C.sum(axis=1))).T)\n",
    "    \n",
    "    #precision matrix values\n",
    "    B =(C/C.sum(axis=0))\n",
    "    \n",
    "    #drawing the canvas\n",
    "    plt.figure(figsize=(15,3))\n",
    "    \n",
    "    #number of labels/classes. Since each context has 10 sentences at the max, 10 classes\n",
    "    labels = ['F','M']\n",
    "    \n",
    "    # plotting confusion matrix\n",
    "    cmap=sns.light_palette(\"blue\")\n",
    "    plt.subplot(1, 3, 1)\n",
    "    sns.heatmap(C, annot=True, cmap=cmap, fmt=\".3f\", xticklabels=labels, yticklabels=labels)\n",
    "    plt.xlabel('Predicted Class')\n",
    "    plt.ylabel('Original Class')\n",
    "    plt.title(\"Confusion matrix\")\n",
    "    \n",
    "    # plotting precision matrix\n",
    "    plt.subplot(1, 3, 2)\n",
    "    sns.heatmap(B, annot=True, cmap=cmap, fmt=\".3f\", xticklabels=labels, yticklabels=labels)\n",
    "    plt.xlabel('Predicted Class')\n",
    "    plt.ylabel('Original Class')\n",
    "    plt.title(\"Precision matrix\")\n",
    "    \n",
    "    # plotting recall matrix\n",
    "    plt.subplot(1, 3, 3)\n",
    "    sns.heatmap(A, annot=True, cmap=cmap, fmt=\".3f\", xticklabels=labels, yticklabels=labels)\n",
    "    plt.xlabel('Predicted Class')\n",
    "    plt.ylabel('Original Class')\n",
    "    plt.title(\"Recall matrix\")\n",
    "    \n",
    "    plt.show()"
   ]
  },
  {
   "cell_type": "markdown",
   "metadata": {},
   "source": [
    "## No Events"
   ]
  },
  {
   "cell_type": "markdown",
   "metadata": {},
   "source": [
    "### Feature Variables"
   ]
  },
  {
   "cell_type": "code",
   "execution_count": 20,
   "metadata": {},
   "outputs": [],
   "source": [
    "noevents_brand_encoder = TfidfVectorizer()\n",
    "\n",
    "noevents_brand_train = noevents_brand_encoder.fit_transform(df_noevents_train['brand'])\n",
    "noevents_brand_cv = noevents_brand_encoder.transform(df_noevents_cv['brand'])\n",
    "noevents_brand_test = noevents_brand_encoder.transform(df_noevents_test['brand'])"
   ]
  },
  {
   "cell_type": "code",
   "execution_count": 21,
   "metadata": {},
   "outputs": [],
   "source": [
    "noevents_model_encoder = TfidfVectorizer()\n",
    "\n",
    "noevents_model_train = noevents_model_encoder.fit_transform(df_noevents_train['model'])\n",
    "noevents_model_cv = noevents_model_encoder.transform(df_noevents_cv['model'])\n",
    "noevents_model_test = noevents_model_encoder.transform(df_noevents_test['model'])"
   ]
  },
  {
   "cell_type": "code",
   "execution_count": 22,
   "metadata": {},
   "outputs": [],
   "source": [
    "noevents_x_train = hstack((noevents_brand_train, noevents_model_train))\n",
    "noevents_x_cv = hstack((noevents_brand_cv, noevents_model_cv))\n",
    "noevents_x_test = hstack((noevents_brand_test, noevents_model_test))"
   ]
  },
  {
   "cell_type": "markdown",
   "metadata": {},
   "source": [
    "### Target Variables"
   ]
  },
  {
   "cell_type": "code",
   "execution_count": 23,
   "metadata": {},
   "outputs": [],
   "source": [
    "noevents_y_encoder = LabelEncoder()\n",
    "\n",
    "noevents_y_train = noevents_y_encoder.fit_transform(df_noevents_train['gender'])\n",
    "noevents_y_cv = noevents_y_encoder.transform(df_noevents_cv['gender'])\n",
    "noevents_y_test = noevents_y_encoder.transform(df_noevents_test['gender'])"
   ]
  },
  {
   "cell_type": "markdown",
   "metadata": {},
   "source": [
    "## Random Model"
   ]
  },
  {
   "cell_type": "code",
   "execution_count": 38,
   "metadata": {},
   "outputs": [
    {
     "name": "stdout",
     "output_type": "stream",
     "text": [
      "Log loss on Test Data using Random Model 0.8802070835673116\n",
      "Percentage of missclassified point : 0.496251582124428\n",
      "Accuracy:  50.3748417875572\n",
      "AUC:  0.5080703958423932\n"
     ]
    },
    {
     "data": {
      "image/png": "[encoded data removed]",
      "text/plain": [
       "<Figure size 1080x216 with 6 Axes>"
      ]
     },
     "metadata": {
      "needs_background": "light"
     },
     "output_type": "display_data"
    }
   ],
   "source": [
    "noevents_model_rand = \"No Events - Random Model\"\n",
    "\n",
    "predicted_y = np.zeros((len(noevents_y_test),2))\n",
    "for i in range(len(noevents_y_test)):\n",
    "    rand_probs = np.random.rand(1,2)\n",
    "    predicted_y[i] = ((rand_probs/sum(sum(rand_probs)))[0])\n",
    "\n",
    "noevents_logloss_rand = log_loss(noevents_y_test, predicted_y, labels = list(range(2)), eps=1e-15)\n",
    "print(\"Log loss on Test Data using Random Model\", noevents_logloss_rand)\n",
    "\n",
    "predict_y =np.argmax(predicted_y, axis=1)\n",
    "mp = np.count_nonzero((predict_y- noevents_y_test))/noevents_y_test.shape[0]\n",
    "print(\"Percentage of missclassified point :\", mp)\n",
    "noevents_acc_rand = (1-mp)*100\n",
    "print(\"Accuracy: \", noevents_acc_rand)\n",
    "\n",
    "noevents_auc_rand = roc_auc_score(noevents_y_test, predicted_y[:,1])\n",
    "print(\"AUC: \", noevents_auc_rand)\n",
    "\n",
    "plot_confusion_matrix(noevents_y_test, predict_y)"
   ]
  },
  {
   "cell_type": "markdown",
   "metadata": {},
   "source": [
    "## Logistic Regression Model with Balanced Class Weights"
   ]
  },
  {
   "cell_type": "code",
   "execution_count": 42,
   "metadata": {},
   "outputs": [
    {
     "name": "stdout",
     "output_type": "stream",
     "text": [
      "for alpha = 1e-06\n",
      "Log Loss : 0.6505336545272709\n",
      "for alpha = 1e-05\n",
      "Log Loss : 0.6489301586177119\n",
      "for alpha = 0.0001\n",
      "Log Loss : 0.6466495227961564\n",
      "for alpha = 0.001\n",
      "Log Loss : 0.6465041029616588\n",
      "for alpha = 0.01\n",
      "Log Loss : 0.6493419922769229\n",
      "for alpha = 0.1\n",
      "Log Loss : 0.6516081751010573\n",
      "for alpha = 1\n",
      "Log Loss : 0.6524068519592795\n",
      "for alpha = 10\n",
      "Log Loss : 0.6525079586202323\n",
      "for alpha = 100\n",
      "Log Loss : 0.6525190318222682\n",
      "For values of best  alpha  =  0.001 The train log loss is: 0.6443222298773212\n",
      "For values of best  alpha  =  0.001 The cross validation log loss is: 0.6465041029616588\n",
      "For values of best  alpha  =  0.001 The test log loss is: 0.6431217313159853\n",
      "Percentage of missclassified points : 0.3541037873624769\n",
      "Accuracy:  64.58962126375232\n",
      "AUC:  0.574866326944862\n"
     ]
    },
    {
     "data": {
      "image/png": "[encoded data removed]",
      "text/plain": [
       "<Figure size 1080x216 with 6 Axes>"
      ]
     },
     "metadata": {
      "needs_background": "light"
     },
     "output_type": "display_data"
    }
   ],
   "source": [
    "noevents_model_lrb = \"No Events - Logistic Regression Balanced\"\n",
    "\n",
    "alpha = [10 ** x for x in range(-6, 3)]\n",
    "\n",
    "noevents_acc_lrb, noevents_auc_lrb, noevents_logloss_lrb = hyperparameter_tuning(\"lrb\", alpha, \"alpha\", noevents_x_train, noevents_y_train, noevents_x_cv, noevents_y_cv, noevents_x_test, noevents_y_test)"
   ]
  },
  {
   "cell_type": "markdown",
   "metadata": {},
   "source": [
    "## Support Vector Machines Model"
   ]
  },
  {
   "cell_type": "code",
   "execution_count": 43,
   "metadata": {},
   "outputs": [
    {
     "name": "stdout",
     "output_type": "stream",
     "text": [
      "for c = 1e-05\n",
      "Log Loss : 0.6488937988580705\n",
      "for c = 0.0001\n",
      "Log Loss : 0.6478783278137864\n",
      "for c = 0.001\n",
      "Log Loss : 0.6492088989085321\n",
      "for c = 0.01\n",
      "Log Loss : 0.6513382361789744\n",
      "for c = 0.1\n",
      "Log Loss : 0.6525223744723115\n",
      "for c = 1\n",
      "Log Loss : 0.6525215733455157\n",
      "for c = 10\n",
      "Log Loss : 0.6525215733454811\n",
      "for c = 100\n",
      "Log Loss : 0.6525215733455756\n",
      "For values of best  c  =  0.0001 The train log loss is: 0.6430289108050629\n",
      "For values of best  c  =  0.0001 The cross validation log loss is: 0.6478783278137864\n",
      "For values of best  c  =  0.0001 The test log loss is: 0.6442300287380124\n",
      "Percentage of missclassified points : 0.35692727095706356\n",
      "Accuracy:  64.30727290429364\n",
      "AUC:  0.5749522279117847\n"
     ]
    },
    {
     "name": "stderr",
     "output_type": "stream",
     "text": [
      "C:\\Users\\ADMIN\\Anaconda3\\envs\\appliedai\\lib\\site-packages\\ipykernel_launcher.py:11: RuntimeWarning: invalid value encountered in true_divide\n",
      "  # This is added back by InteractiveShellApp.init_path()\n"
     ]
    },
    {
     "data": {
      "image/png": "[encoded data removed]",
      "text/plain": [
       "<Figure size 1080x216 with 6 Axes>"
      ]
     },
     "metadata": {
      "needs_background": "light"
     },
     "output_type": "display_data"
    }
   ],
   "source": [
    "noevents_model_svm = \"No Events - Support Vector Machines\"\n",
    "\n",
    "c = [10 ** x for x in range(-5, 3)]\n",
    "\n",
    "noevents_acc_svm, noevents_auc_svm, noevents_logloss_svm = hyperparameter_tuning(\"svm\", c, \"c\", noevents_x_train, noevents_y_train, noevents_x_cv, noevents_y_cv, noevents_x_test, noevents_y_test)"
   ]
  },
  {
   "cell_type": "markdown",
   "metadata": {},
   "source": [
    "## Random Forest Model"
   ]
  },
  {
   "cell_type": "code",
   "execution_count": 44,
   "metadata": {},
   "outputs": [
    {
     "name": "stdout",
     "output_type": "stream",
     "text": [
      "for n_estimators = 100, max_depth = 5\n",
      "Log Loss : 0.648730485436175\n",
      "for n_estimators = 100, max_depth = 10\n",
      "Log Loss : 0.6486965239717835\n",
      "for n_estimators = 200, max_depth = 5\n",
      "Log Loss : 0.6486686948629407\n",
      "for n_estimators = 200, max_depth = 10\n",
      "Log Loss : 0.6484782542040891\n",
      "for n_estimators = 500, max_depth = 5\n",
      "Log Loss : 0.6488681683006732\n",
      "for n_estimators = 500, max_depth = 10\n",
      "Log Loss : 0.6483661247438516\n",
      "for n_estimators = 1000, max_depth = 5\n",
      "Log Loss : 0.6489606944079798\n",
      "for n_estimators = 1000, max_depth = 10\n",
      "Log Loss : 0.6484279754605314\n",
      "for n_estimators = 2000, max_depth = 5\n",
      "Log Loss : 0.6488574957704166\n",
      "for n_estimators = 2000, max_depth = 10\n",
      "Log Loss : 0.6484051172417304\n",
      "For values of best  n_estimator, max_depth  =  (500, 10) The train log loss is: 0.6446147553896424\n",
      "For values of best  n_estimator, max_depth  =  (500, 10) The cross validation log loss is: 0.6483661247438516\n",
      "For values of best  n_estimator, max_depth  =  (500, 10) The test log loss is: 0.6433900426382536\n",
      "Percentage of missclassified points : 0.355077402395093\n",
      "Accuracy:  64.4922597604907\n",
      "AUC:  0.5727238618431623\n"
     ]
    },
    {
     "data": {
      "image/png": "[encoded data removed]",
      "text/plain": [
       "<Figure size 1080x216 with 6 Axes>"
      ]
     },
     "metadata": {
      "needs_background": "light"
     },
     "output_type": "display_data"
    }
   ],
   "source": [
    "noevents_model_rf = \"No Events - Random Forest\"\n",
    "\n",
    "n_estimator = [100,200,500,1000,2000]\n",
    "max_depth = [5, 10]\n",
    "\n",
    "hp = [n_estimator, max_depth]\n",
    "\n",
    "noevents_acc_rf, noevents_auc_rf, noevents_logloss_rf = hyperparameter_tuning(\"rf\", hp, \"n_estimator, max_depth\", noevents_x_train, noevents_y_train, noevents_x_cv, noevents_y_cv, noevents_x_test, noevents_y_test)"
   ]
  },
  {
   "cell_type": "markdown",
   "metadata": {},
   "source": [
    "## XGBoost Model"
   ]
  },
  {
   "cell_type": "code",
   "execution_count": 46,
   "metadata": {},
   "outputs": [
    {
     "name": "stdout",
     "output_type": "stream",
     "text": [
      "Fitting 2 folds for each of 30 candidates, totalling 60 fits\n"
     ]
    },
    {
     "name": "stderr",
     "output_type": "stream",
     "text": [
      "[Parallel(n_jobs=8)]: Using backend LokyBackend with 8 concurrent workers.\n",
      "[Parallel(n_jobs=8)]: Done  35 tasks      | elapsed:    2.2s\n",
      "[Parallel(n_jobs=8)]: Done  60 out of  60 | elapsed:    4.4s finished\n"
     ]
    },
    {
     "name": "stdout",
     "output_type": "stream",
     "text": [
      "The test log loss is: 0.649878442548589\n",
      "Percentage of missclassified point : 0.35313017232986077\n",
      "Accuracy:  64.68698276701392\n",
      "AUC:  0.5710925487931947\n"
     ]
    },
    {
     "data": {
      "image/png": "[encoded data removed]",
      "text/plain": [
       "<Figure size 1080x216 with 6 Axes>"
      ]
     },
     "metadata": {
      "needs_background": "light"
     },
     "output_type": "display_data"
    }
   ],
   "source": [
    "noevents_model_xgb = \"No Events - XGBoost\"\n",
    "\n",
    "params = {\n",
    "         'eval_metric':['logloss'],\n",
    "         'eta':[0.02, 0.01, 0.1, 0.5],\n",
    "         'max_depth':[4,6,8,10],\n",
    "         'n_estimators':[5,10,20,50,100]\n",
    "         }\n",
    "\n",
    "clf = xgb.XGBClassifier(objective='binary:logistic')\n",
    "\n",
    "x = vstack((noevents_x_train, noevents_x_cv))\n",
    "y = np.concatenate([noevents_y_train, noevents_y_cv])\n",
    "\n",
    "#trying out 30 possible combinations of hyperparameters\n",
    "rs_clf = RandomizedSearchCV(clf, params, verbose = 2, cv = 2, n_iter = 30, n_jobs = 8)\n",
    "rs_clf.fit(x,y)\n",
    "\n",
    "best_clf = rs_clf.best_estimator_\n",
    "\n",
    "predict_y_proba = best_clf.predict_proba(noevents_x_test)\n",
    "predict_y = best_clf.predict(noevents_x_test)\n",
    "noevents_logloss_xgb = log_loss(noevents_y_test, predict_y_proba, labels=best_clf.classes_, eps=1e-15)\n",
    "print(\"The test log loss is:\",noevents_logloss_xgb)\n",
    "\n",
    "mp = np.count_nonzero((predict_y- noevents_y_test))/noevents_y_test.shape[0]\n",
    "print(\"Percentage of missclassified point :\", mp)\n",
    "\n",
    "noevents_acc_xgb = (1-mp)*100\n",
    "print(\"Accuracy: \", noevents_acc_xgb)\n",
    "\n",
    "noevents_auc_xgb = roc_auc_score(noevents_y_test, predict_y_proba[:,1])\n",
    "print(\"AUC: \", noevents_auc_xgb) \n",
    "\n",
    "plot_confusion_matrix(noevents_y_test, predict_y)"
   ]
  },
  {
   "cell_type": "markdown",
   "metadata": {},
   "source": [
    "## Results for records without events"
   ]
  },
  {
   "cell_type": "code",
   "execution_count": 47,
   "metadata": {},
   "outputs": [
    {
     "name": "stdout",
     "output_type": "stream",
     "text": [
      "+------------------------------------------+-------------------+--------------------+--------------------+\n",
      "|                  Model                   |      Accuracy     |        AUC         |      LogLoss       |\n",
      "+------------------------------------------+-------------------+--------------------+--------------------+\n",
      "|         No Events - Random Model         |  50.3748417875572 | 0.5080703958423932 | 0.8802070835673116 |\n",
      "| No Events - Logistic Regression Balanced | 64.58962126375232 | 0.574866326944862  | 0.6431217313159853 |\n",
      "|   No Events - Support Vector Machines    | 64.30727290429364 | 0.5749522279117847 | 0.6442300287380124 |\n",
      "|        No Events - Random Forest         |  64.4922597604907 | 0.5727238618431623 | 0.6433900426382536 |\n",
      "|           No Events - XGBoost            | 64.68698276701392 | 0.5710925487931947 | 0.649878442548589  |\n",
      "+------------------------------------------+-------------------+--------------------+--------------------+\n"
     ]
    }
   ],
   "source": [
    "#summarizing results\n",
    "from prettytable import PrettyTable\n",
    "\n",
    "table = PrettyTable()\n",
    "\n",
    "table.field_names = [\"Model\", \"Accuracy\", \"AUC\", \"LogLoss\"]\n",
    "\n",
    "table.add_row([noevents_model_rand, noevents_acc_rand, noevents_auc_rand, noevents_logloss_rand])\n",
    "table.add_row([noevents_model_lrb, noevents_acc_lrb, noevents_auc_lrb, noevents_logloss_lrb])\n",
    "table.add_row([noevents_model_svm, noevents_acc_svm, noevents_auc_svm, noevents_logloss_svm])\n",
    "table.add_row([noevents_model_rf, noevents_acc_rf, noevents_auc_rf, noevents_logloss_rf])\n",
    "table.add_row([noevents_model_xgb, noevents_acc_xgb, noevents_auc_xgb, noevents_logloss_xgb])\n",
    "\n",
    "print(table)"
   ]
  },
  {
   "cell_type": "markdown",
   "metadata": {},
   "source": [
    "## Including device specifications"
   ]
  },
  {
   "cell_type": "code",
   "execution_count": 48,
   "metadata": {},
   "outputs": [],
   "source": [
    "scaler = StandardScaler()"
   ]
  },
  {
   "cell_type": "code",
   "execution_count": 49,
   "metadata": {},
   "outputs": [],
   "source": [
    "noevents_screen_train = scaler.fit_transform(df_noevents_train['screen_size'].values.reshape(-1,1))\n",
    "noevents_screen_cv = scaler.transform(df_noevents_cv['screen_size'].values.reshape(-1,1))\n",
    "noevents_screen_test = scaler.transform(df_noevents_test['screen_size'].values.reshape(-1,1))"
   ]
  },
  {
   "cell_type": "code",
   "execution_count": 50,
   "metadata": {},
   "outputs": [],
   "source": [
    "noevents_ram_train = scaler.fit_transform(df_noevents_train['ram_gb'].values.reshape(-1,1))\n",
    "noevents_ram_cv = scaler.transform(df_noevents_cv['ram_gb'].values.reshape(-1,1))\n",
    "noevents_ram_test = scaler.transform(df_noevents_test['ram_gb'].values.reshape(-1,1))"
   ]
  },
  {
   "cell_type": "code",
   "execution_count": 51,
   "metadata": {},
   "outputs": [],
   "source": [
    "noevents_camera_train = scaler.fit_transform(df_noevents_train['camera'].values.reshape(-1,1))\n",
    "noevents_camera_cv = scaler.transform(df_noevents_cv['camera'].values.reshape(-1,1))\n",
    "noevents_camera_test = scaler.transform(df_noevents_test['camera'].values.reshape(-1,1))"
   ]
  },
  {
   "cell_type": "code",
   "execution_count": 52,
   "metadata": {},
   "outputs": [],
   "source": [
    "noevents_release_train = scaler.fit_transform(df_noevents_train['release_bin'].values.reshape(-1,1))\n",
    "noevents_release_cv = scaler.transform(df_noevents_cv['release_bin'].values.reshape(-1,1))\n",
    "noevents_release_test = scaler.transform(df_noevents_test['release_bin'].values.reshape(-1,1))"
   ]
  },
  {
   "cell_type": "code",
   "execution_count": 53,
   "metadata": {},
   "outputs": [],
   "source": [
    "noevents_x_train = hstack((noevents_brand_train, noevents_model_train, noevents_screen_train, noevents_ram_train, \n",
    "                           noevents_camera_train, noevents_release_train, df_noevents_train['specs_available'].values.reshape(-1,1)))\n",
    "noevents_x_cv = hstack((noevents_brand_cv, noevents_model_cv, noevents_screen_cv, noevents_ram_cv,\n",
    "                        noevents_camera_cv, noevents_release_cv, df_noevents_cv['specs_available'].values.reshape(-1,1)))\n",
    "noevents_x_test = hstack((noevents_brand_test, noevents_model_test, noevents_screen_test, noevents_ram_test,\n",
    "                          noevents_camera_test, noevents_release_test, df_noevents_test['specs_available'].values.reshape(-1,1)))"
   ]
  },
  {
   "cell_type": "markdown",
   "metadata": {},
   "source": [
    "## Logistic Regression Model with Balanced Class Weights"
   ]
  },
  {
   "cell_type": "code",
   "execution_count": 54,
   "metadata": {},
   "outputs": [
    {
     "name": "stdout",
     "output_type": "stream",
     "text": [
      "for alpha = 1e-06\n",
      "Log Loss : 0.6509337389198093\n",
      "for alpha = 1e-05\n",
      "Log Loss : 0.648256336119244\n",
      "for alpha = 0.0001\n",
      "Log Loss : 0.6466418440989202\n",
      "for alpha = 0.001\n",
      "Log Loss : 0.6465663927187774\n",
      "for alpha = 0.01\n",
      "Log Loss : 0.6484096343220772\n",
      "for alpha = 0.1\n",
      "Log Loss : 0.651165640248387\n",
      "for alpha = 1\n",
      "Log Loss : 0.6523190846457683\n",
      "for alpha = 10\n",
      "Log Loss : 0.6526504236682922\n",
      "for alpha = 100\n",
      "Log Loss : 0.6527000261754984\n",
      "For values of best  alpha  =  0.001 The train log loss is: 0.6443617049610587\n",
      "For values of best  alpha  =  0.001 The cross validation log loss is: 0.6465663927187774\n",
      "For values of best  alpha  =  0.001 The test log loss is: 0.6431428582895486\n",
      "Percentage of missclassified points : 0.35478531788530815\n",
      "Accuracy:  64.52146821146918\n",
      "AUC:  0.5767198261496584\n"
     ]
    },
    {
     "data": {
      "image/png": "[encoded data removed]",
      "text/plain": [
       "<Figure size 1080x216 with 6 Axes>"
      ]
     },
     "metadata": {
      "needs_background": "light"
     },
     "output_type": "display_data"
    }
   ],
   "source": [
    "noevents_model_lrb = \"No Events - Logistic Regression Balanced\"\n",
    "\n",
    "alpha = [10 ** x for x in range(-6, 3)]\n",
    "\n",
    "noevents_acc_lrb, noevents_auc_lrb, noevents_logloss_lrb = hyperparameter_tuning(\"lrb\", alpha, \"alpha\", noevents_x_train, noevents_y_train, noevents_x_cv, noevents_y_cv, noevents_x_test, noevents_y_test)"
   ]
  },
  {
   "cell_type": "markdown",
   "metadata": {},
   "source": [
    "## Support Vector Machines Model"
   ]
  },
  {
   "cell_type": "code",
   "execution_count": 55,
   "metadata": {},
   "outputs": [
    {
     "name": "stdout",
     "output_type": "stream",
     "text": [
      "for c = 1e-05\n",
      "Log Loss : 0.6478948291082713\n",
      "for c = 0.0001\n",
      "Log Loss : 0.6477416574320422\n",
      "for c = 0.001\n",
      "Log Loss : 0.6487266039628535\n",
      "for c = 0.01\n",
      "Log Loss : 0.650579058625441\n",
      "for c = 0.1\n",
      "Log Loss : 0.6525977694256516\n",
      "for c = 1\n",
      "Log Loss : 0.652699195670909\n",
      "for c = 10\n",
      "Log Loss : 0.6527006519828403\n",
      "for c = 100\n",
      "Log Loss : 0.6527006519577838\n",
      "For values of best  c  =  0.0001 The train log loss is: 0.6427249483403825\n",
      "For values of best  c  =  0.0001 The cross validation log loss is: 0.6477416574320422\n",
      "For values of best  c  =  0.0001 The test log loss is: 0.6437678171553595\n",
      "Percentage of missclassified points : 0.35692727095706356\n",
      "Accuracy:  64.30727290429364\n",
      "AUC:  0.5769475876076292\n"
     ]
    },
    {
     "name": "stderr",
     "output_type": "stream",
     "text": [
      "C:\\Users\\ADMIN\\Anaconda3\\envs\\appliedai\\lib\\site-packages\\ipykernel_launcher.py:11: RuntimeWarning: invalid value encountered in true_divide\n",
      "  # This is added back by InteractiveShellApp.init_path()\n"
     ]
    },
    {
     "data": {
      "image/png": "[encoded data removed]",
      "text/plain": [
       "<Figure size 1080x216 with 6 Axes>"
      ]
     },
     "metadata": {
      "needs_background": "light"
     },
     "output_type": "display_data"
    }
   ],
   "source": [
    "noevents_model_svm = \"No Events - Support Vector Machines\"\n",
    "\n",
    "c = [10 ** x for x in range(-5, 3)]\n",
    "\n",
    "noevents_acc_svm, noevents_auc_svm, noevents_logloss_svm = hyperparameter_tuning(\"svm\", c, \"c\", noevents_x_train, noevents_y_train, noevents_x_cv, noevents_y_cv, noevents_x_test, noevents_y_test)"
   ]
  },
  {
   "cell_type": "markdown",
   "metadata": {},
   "source": [
    "## Random Forest Model"
   ]
  },
  {
   "cell_type": "code",
   "execution_count": 56,
   "metadata": {},
   "outputs": [
    {
     "name": "stdout",
     "output_type": "stream",
     "text": [
      "for n_estimators = 100, max_depth = 5\n",
      "Log Loss : 0.6483059518272751\n",
      "for n_estimators = 100, max_depth = 10\n",
      "Log Loss : 0.6471526015901011\n",
      "for n_estimators = 200, max_depth = 5\n",
      "Log Loss : 0.6482450985424266\n",
      "for n_estimators = 200, max_depth = 10\n",
      "Log Loss : 0.6474295104600133\n",
      "for n_estimators = 500, max_depth = 5\n",
      "Log Loss : 0.6480323856951223\n",
      "for n_estimators = 500, max_depth = 10\n",
      "Log Loss : 0.6474826315898619\n",
      "for n_estimators = 1000, max_depth = 5\n",
      "Log Loss : 0.6481317285577348\n",
      "for n_estimators = 1000, max_depth = 10\n",
      "Log Loss : 0.6475443229437496\n",
      "for n_estimators = 2000, max_depth = 5\n",
      "Log Loss : 0.6479832943437204\n",
      "for n_estimators = 2000, max_depth = 10\n",
      "Log Loss : 0.6474983940402734\n",
      "For values of best  n_estimator, max_depth  =  (100, 10) The train log loss is: 0.6428637580562635\n",
      "For values of best  n_estimator, max_depth  =  (100, 10) The cross validation log loss is: 0.6471526015901011\n",
      "For values of best  n_estimator, max_depth  =  (100, 10) The test log loss is: 0.6422951822965546\n",
      "Percentage of missclassified points : 0.3561483789309707\n",
      "Accuracy:  64.38516210690292\n",
      "AUC:  0.5807111650194743\n"
     ]
    },
    {
     "data": {
      "image/png": "[encoded data removed]",
      "text/plain": [
       "<Figure size 1080x216 with 6 Axes>"
      ]
     },
     "metadata": {
      "needs_background": "light"
     },
     "output_type": "display_data"
    }
   ],
   "source": [
    "noevents_model_rf = \"No Events - Random Forest\"\n",
    "\n",
    "n_estimator = [100,200,500,1000,2000]\n",
    "max_depth = [5, 10]\n",
    "\n",
    "hp = [n_estimator, max_depth]\n",
    "\n",
    "noevents_acc_rf, noevents_auc_rf, noevents_logloss_rf = hyperparameter_tuning(\"rf\", hp, \"n_estimator, max_depth\", noevents_x_train, noevents_y_train, noevents_x_cv, noevents_y_cv, noevents_x_test, noevents_y_test)"
   ]
  },
  {
   "cell_type": "markdown",
   "metadata": {},
   "source": [
    "## XGBoost Model"
   ]
  },
  {
   "cell_type": "code",
   "execution_count": 57,
   "metadata": {},
   "outputs": [
    {
     "name": "stdout",
     "output_type": "stream",
     "text": [
      "Fitting 2 folds for each of 30 candidates, totalling 60 fits\n"
     ]
    },
    {
     "name": "stderr",
     "output_type": "stream",
     "text": [
      "[Parallel(n_jobs=8)]: Using backend LokyBackend with 8 concurrent workers.\n",
      "[Parallel(n_jobs=8)]: Done  25 tasks      | elapsed:    4.8s\n",
      "[Parallel(n_jobs=8)]: Done  60 out of  60 | elapsed:   10.2s finished\n"
     ]
    },
    {
     "name": "stdout",
     "output_type": "stream",
     "text": [
      "The test log loss is: 0.642795016830068\n",
      "Percentage of missclassified point : 0.3532275338331224\n",
      "Accuracy:  64.67724661668777\n",
      "AUC:  0.5832082606995229\n"
     ]
    },
    {
     "data": {
      "image/png": "[encoded data removed]",
      "text/plain": [
       "<Figure size 1080x216 with 6 Axes>"
      ]
     },
     "metadata": {
      "needs_background": "light"
     },
     "output_type": "display_data"
    }
   ],
   "source": [
    "noevents_model_xgb = \"No Events - XGBoost\"\n",
    "\n",
    "params = {\n",
    "         'eval_metric':['logloss'],\n",
    "         'eta':[0.02, 0.01, 0.1, 0.5],\n",
    "         'max_depth':[4,6,8,10],\n",
    "         'n_estimators':[5,10,20,50,100]\n",
    "         }\n",
    "\n",
    "clf = xgb.XGBClassifier(objective='binary:logistic')\n",
    "\n",
    "x = vstack((noevents_x_train, noevents_x_cv))\n",
    "y = np.concatenate([noevents_y_train, noevents_y_cv])\n",
    "\n",
    "#trying out 30 possible combinations of hyperparameters\n",
    "rs_clf = RandomizedSearchCV(clf, params, verbose = 2, cv = 2, n_iter = 30, n_jobs = 8)\n",
    "rs_clf.fit(x,y)\n",
    "\n",
    "best_clf = rs_clf.best_estimator_\n",
    "\n",
    "predict_y_proba = best_clf.predict_proba(noevents_x_test)\n",
    "predict_y = best_clf.predict(noevents_x_test)\n",
    "noevents_logloss_xgb = log_loss(noevents_y_test, predict_y_proba, labels=best_clf.classes_, eps=1e-15)\n",
    "print(\"The test log loss is:\",noevents_logloss_xgb)\n",
    "\n",
    "mp = np.count_nonzero((predict_y- noevents_y_test))/noevents_y_test.shape[0]\n",
    "print(\"Percentage of missclassified point :\", mp)\n",
    "\n",
    "noevents_acc_xgb = (1-mp)*100\n",
    "print(\"Accuracy: \", noevents_acc_xgb)\n",
    "\n",
    "noevents_auc_xgb = roc_auc_score(noevents_y_test, predict_y_proba[:,1])\n",
    "print(\"AUC: \", noevents_auc_xgb) \n",
    "\n",
    "plot_confusion_matrix(noevents_y_test, predict_y)"
   ]
  },
  {
   "cell_type": "markdown",
   "metadata": {},
   "source": [
    "## Results for records without events"
   ]
  },
  {
   "cell_type": "code",
   "execution_count": 58,
   "metadata": {},
   "outputs": [
    {
     "name": "stdout",
     "output_type": "stream",
     "text": [
      "+------------------------------------------+-------------------+--------------------+--------------------+\n",
      "|                  Model                   |      Accuracy     |        AUC         |      LogLoss       |\n",
      "+------------------------------------------+-------------------+--------------------+--------------------+\n",
      "|         No Events - Random Model         |  50.3748417875572 | 0.5080703958423932 | 0.8802070835673116 |\n",
      "| No Events - Logistic Regression Balanced | 64.52146821146918 | 0.5767198261496584 | 0.6431428582895486 |\n",
      "|   No Events - Support Vector Machines    | 64.30727290429364 | 0.5769475876076292 | 0.6437678171553595 |\n",
      "|        No Events - Random Forest         | 64.38516210690292 | 0.5807111650194743 | 0.6422951822965546 |\n",
      "|           No Events - XGBoost            | 64.67724661668777 | 0.5832082606995229 | 0.642795016830068  |\n",
      "+------------------------------------------+-------------------+--------------------+--------------------+\n"
     ]
    }
   ],
   "source": [
    "#summarizing results\n",
    "from prettytable import PrettyTable\n",
    "\n",
    "table = PrettyTable()\n",
    "\n",
    "table.field_names = [\"Model\", \"Accuracy\", \"AUC\", \"LogLoss\"]\n",
    "\n",
    "table.add_row([noevents_model_rand, noevents_acc_rand, noevents_auc_rand, noevents_logloss_rand])\n",
    "table.add_row([noevents_model_lrb, noevents_acc_lrb, noevents_auc_lrb, noevents_logloss_lrb])\n",
    "table.add_row([noevents_model_svm, noevents_acc_svm, noevents_auc_svm, noevents_logloss_svm])\n",
    "table.add_row([noevents_model_rf, noevents_acc_rf, noevents_auc_rf, noevents_logloss_rf])\n",
    "table.add_row([noevents_model_xgb, noevents_acc_xgb, noevents_auc_xgb, noevents_logloss_xgb])\n",
    "\n",
    "print(table)"
   ]
  },
  {
   "cell_type": "markdown",
   "metadata": {},
   "source": [
    "## With Events"
   ]
  },
  {
   "cell_type": "code",
   "execution_count": 62,
   "metadata": {},
   "outputs": [
    {
     "name": "stdout",
     "output_type": "stream",
     "text": [
      "Index(['device_id', 'brand', 'model', 'gender', 'age', 'group', 'app_usage',\n",
      "       'app_usage_session', 'active_app_usage_counts', 'activity_hour',\n",
      "       'activity_day', 'num_travels', 'mean_latitude', 'mean_longitude',\n",
      "       'screen_size', 'ram_gb', 'camera', 'installed_app_labels',\n",
      "       'active_app_labels', 'installed_app_counts', 'active_app_usage',\n",
      "       'location_available', 'specs_available', 'release_bin'],\n",
      "      dtype='object')\n"
     ]
    }
   ],
   "source": [
    "print(df_events_train.columns)"
   ]
  },
  {
   "cell_type": "code",
   "execution_count": 63,
   "metadata": {},
   "outputs": [],
   "source": [
    "events_brand_encoder = TfidfVectorizer()\n",
    "\n",
    "events_brand_train = events_brand_encoder.fit_transform(df_events_train['brand'])\n",
    "events_brand_cv = events_brand_encoder.transform(df_events_cv['brand'])\n",
    "events_brand_test = events_brand_encoder.transform(df_events_test['brand'])"
   ]
  },
  {
   "cell_type": "code",
   "execution_count": 64,
   "metadata": {},
   "outputs": [],
   "source": [
    "events_model_encoder = TfidfVectorizer()\n",
    "\n",
    "events_model_train = events_model_encoder.fit_transform(df_events_train['model'])\n",
    "events_model_cv = events_model_encoder.transform(df_events_cv['model'])\n",
    "events_model_test = events_model_encoder.transform(df_events_test['model'])"
   ]
  },
  {
   "cell_type": "code",
   "execution_count": 65,
   "metadata": {},
   "outputs": [],
   "source": [
    "events_active_labels_encoder = TfidfVectorizer()\n",
    "\n",
    "events_active_labels_train = events_active_labels_encoder.fit_transform(df_events_train['active_app_labels'])\n",
    "events_active_labels_cv = events_active_labels_encoder.transform(df_events_cv['active_app_labels'])\n",
    "events_active_labels_test = events_active_labels_encoder.transform(df_events_test['active_app_labels'])"
   ]
  },
  {
   "cell_type": "code",
   "execution_count": 66,
   "metadata": {},
   "outputs": [],
   "source": [
    "events_installed_labels_encoder = TfidfVectorizer()\n",
    "\n",
    "events_installed_labels_train = events_installed_labels_encoder.fit_transform(df_events_train['installed_app_labels'])\n",
    "events_installed_labels_cv = events_installed_labels_encoder.transform(df_events_cv['installed_app_labels'])\n",
    "events_installed_labels_test = events_installed_labels_encoder.transform(df_events_test['installed_app_labels'])"
   ]
  },
  {
   "cell_type": "code",
   "execution_count": 67,
   "metadata": {},
   "outputs": [],
   "source": [
    "scaler = StandardScaler()"
   ]
  },
  {
   "cell_type": "code",
   "execution_count": 71,
   "metadata": {},
   "outputs": [],
   "source": [
    "events_lat_train = scaler.fit_transform(df_events_train['mean_latitude'].values.reshape(-1,1))\n",
    "events_lat_cv = scaler.transform(df_events_cv['mean_latitude'].values.reshape(-1,1))\n",
    "events_lat_test = scaler.transform(df_events_test['mean_latitude'].values.reshape(-1,1))"
   ]
  },
  {
   "cell_type": "code",
   "execution_count": 72,
   "metadata": {},
   "outputs": [],
   "source": [
    "events_long_train = scaler.fit_transform(df_events_train['mean_longitude'].values.reshape(-1,1))\n",
    "events_long_cv = scaler.transform(df_events_cv['mean_longitude'].values.reshape(-1,1))\n",
    "events_long_test = scaler.transform(df_events_test['mean_longitude'].values.reshape(-1,1))"
   ]
  },
  {
   "cell_type": "code",
   "execution_count": 73,
   "metadata": {},
   "outputs": [],
   "source": [
    "events_travels_train = scaler.fit_transform(df_events_train['num_travels'].values.reshape(-1,1))\n",
    "events_travels_cv = scaler.transform(df_events_cv['num_travels'].values.reshape(-1,1))\n",
    "events_travels_test = scaler.transform(df_events_test['num_travels'].values.reshape(-1,1))"
   ]
  },
  {
   "cell_type": "code",
   "execution_count": 84,
   "metadata": {},
   "outputs": [],
   "source": [
    "events_x_train = hstack((events_brand_train, events_model_train, events_installed_labels_train, events_active_labels_train,\n",
    "                         events_lat_train, events_long_train, events_travels_train, df_events_train['location_available'].values.reshape(-1,1), \n",
    "                         np.array(df_events_train['activity_hour'].to_list()), np.array(df_events_train['activity_day'].to_list()), \n",
    "                         df_events_train['app_usage'].values.reshape(-1,1), df_events_train['app_usage_session'].values.reshape(-1,1), \n",
    "                         np.array(df_events_train['installed_app_counts'].to_list()), np.array(df_events_train['active_app_usage_counts'].to_list()), \n",
    "                         np.array(df_events_train['active_app_usage'].to_list())))"
   ]
  },
  {
   "cell_type": "code",
   "execution_count": 85,
   "metadata": {},
   "outputs": [],
   "source": [
    "events_x_cv = hstack((events_brand_cv, events_model_cv, events_installed_labels_cv, events_active_labels_cv,\n",
    "                         events_lat_cv, events_long_cv, events_travels_cv, df_events_cv['location_available'].values.reshape(-1,1), \n",
    "                         np.array(df_events_cv['activity_hour'].to_list()), np.array(df_events_cv['activity_day'].to_list()), \n",
    "                         df_events_cv['app_usage'].values.reshape(-1,1), df_events_cv['app_usage_session'].values.reshape(-1,1), \n",
    "                         np.array(df_events_cv['installed_app_counts'].to_list()), np.array(df_events_cv['active_app_usage_counts'].to_list()), \n",
    "                         np.array(df_events_cv['active_app_usage'].to_list())))"
   ]
  },
  {
   "cell_type": "code",
   "execution_count": 86,
   "metadata": {},
   "outputs": [],
   "source": [
    "events_x_test = hstack((events_brand_test, events_model_test, events_installed_labels_test, events_active_labels_test,\n",
    "                         events_lat_test, events_long_test, events_travels_test, df_events_test['location_available'].values.reshape(-1,1), \n",
    "                         np.array(df_events_test['activity_hour'].to_list()), np.array(df_events_test['activity_day'].to_list()), \n",
    "                         df_events_test['app_usage'].values.reshape(-1,1), df_events_test['app_usage_session'].values.reshape(-1,1), \n",
    "                         np.array(df_events_test['installed_app_counts'].to_list()), np.array(df_events_test['active_app_usage_counts'].to_list()), \n",
    "                         np.array(df_events_test['active_app_usage'].to_list())))"
   ]
  },
  {
   "cell_type": "markdown",
   "metadata": {},
   "source": [
    "### Target Variables"
   ]
  },
  {
   "cell_type": "code",
   "execution_count": 87,
   "metadata": {},
   "outputs": [],
   "source": [
    "events_y_encoder = LabelEncoder()\n",
    "\n",
    "events_y_train = events_y_encoder.fit_transform(df_events_train['gender'])\n",
    "events_y_cv = events_y_encoder.transform(df_events_cv['gender'])\n",
    "events_y_test = events_y_encoder.transform(df_events_test['gender'])"
   ]
  },
  {
   "cell_type": "markdown",
   "metadata": {},
   "source": [
    "## Random Model"
   ]
  },
  {
   "cell_type": "code",
   "execution_count": 91,
   "metadata": {},
   "outputs": [
    {
     "name": "stdout",
     "output_type": "stream",
     "text": [
      "Log loss on Test Data using Random Model 0.8880323659542394\n",
      "Percentage of missclassified point : 0.5008587376556461\n",
      "Accuracy:  49.914126234435386\n",
      "AUC:  0.5012614819350888\n"
     ]
    },
    {
     "data": {
      "image/png": "[encoded data removed]",
      "text/plain": [
       "<Figure size 1080x216 with 6 Axes>"
      ]
     },
     "metadata": {
      "needs_background": "light"
     },
     "output_type": "display_data"
    }
   ],
   "source": [
    "events_model_rand = \"Events - Random Model\"\n",
    "\n",
    "predicted_y = np.zeros((len(events_y_test),2))\n",
    "for i in range(len(events_y_test)):\n",
    "    rand_probs = np.random.rand(1,2)\n",
    "    predicted_y[i] = ((rand_probs/sum(sum(rand_probs)))[0])\n",
    "\n",
    "events_logloss_rand = log_loss(events_y_test, predicted_y, labels = list(range(2)), eps=1e-15)\n",
    "print(\"Log loss on Test Data using Random Model\", events_logloss_rand)\n",
    "\n",
    "predict_y =np.argmax(predicted_y, axis=1)\n",
    "mp = np.count_nonzero((predict_y- events_y_test))/events_y_test.shape[0]\n",
    "print(\"Percentage of missclassified point :\", mp)\n",
    "events_acc_rand = (1-mp)*100\n",
    "print(\"Accuracy: \", events_acc_rand)\n",
    "\n",
    "events_auc_rand = roc_auc_score(events_y_test, predicted_y[:,1])\n",
    "print(\"AUC: \", events_auc_rand)\n",
    "\n",
    "plot_confusion_matrix(events_y_test, predict_y)"
   ]
  },
  {
   "cell_type": "markdown",
   "metadata": {},
   "source": [
    "## Logistic Regression Model with Balanced Class Weights"
   ]
  },
  {
   "cell_type": "code",
   "execution_count": 92,
   "metadata": {},
   "outputs": [
    {
     "name": "stdout",
     "output_type": "stream",
     "text": [
      "for alpha = 1e-06\n",
      "Log Loss : 0.5882998935135769\n",
      "for alpha = 1e-05\n",
      "Log Loss : 0.5720844826097352\n",
      "for alpha = 0.0001\n",
      "Log Loss : 0.5472423250415698\n",
      "for alpha = 0.001\n",
      "Log Loss : 0.5465222231676108\n",
      "for alpha = 0.01\n",
      "Log Loss : 0.5638315589662249\n",
      "for alpha = 0.1\n",
      "Log Loss : 0.5948037606519968\n",
      "for alpha = 1\n",
      "Log Loss : 0.6200330795808037\n",
      "for alpha = 10\n",
      "Log Loss : 0.6257186655889829\n",
      "for alpha = 100\n",
      "Log Loss : 0.6263748360417437\n",
      "For values of best  alpha  =  0.001 The train log loss is: 0.5056839491659889\n",
      "For values of best  alpha  =  0.001 The cross validation log loss is: 0.5465222231676108\n",
      "For values of best  alpha  =  0.001 The test log loss is: 0.5280133257535259\n",
      "Percentage of missclassified points : 0.2608415629025333\n",
      "Accuracy:  73.91584370974667\n",
      "AUC:  0.7872894282692201\n"
     ]
    },
    {
     "data": {
      "image/png": "[encoded data removed]",
      "text/plain": [
       "<Figure size 1080x216 with 6 Axes>"
      ]
     },
     "metadata": {
      "needs_background": "light"
     },
     "output_type": "display_data"
    }
   ],
   "source": [
    "events_model_lrb = \"Events - Logistic Regression Balanced\"\n",
    "\n",
    "alpha = [10 ** x for x in range(-6, 3)]\n",
    "\n",
    "events_acc_lrb, events_auc_lrb, events_logloss_lrb = hyperparameter_tuning(\"lrb\", alpha, \"alpha\", events_x_train, events_y_train, events_x_cv, events_y_cv, events_x_test, events_y_test)"
   ]
  },
  {
   "cell_type": "markdown",
   "metadata": {},
   "source": [
    "## Support Vector Machines Model"
   ]
  },
  {
   "cell_type": "code",
   "execution_count": 93,
   "metadata": {},
   "outputs": [
    {
     "name": "stdout",
     "output_type": "stream",
     "text": [
      "for c = 1e-05\n",
      "Log Loss : 0.5738034374597055\n",
      "for c = 0.0001\n",
      "Log Loss : 0.5506879985281838\n",
      "for c = 0.001\n",
      "Log Loss : 0.5460232153110046\n",
      "for c = 0.01\n",
      "Log Loss : 0.5615070016871105\n",
      "for c = 0.1\n",
      "Log Loss : 0.6024584903974415\n",
      "for c = 1\n",
      "Log Loss : 0.6264954504980393\n",
      "for c = 10\n",
      "Log Loss : 0.6264917889999514\n",
      "for c = 100\n",
      "Log Loss : 0.6264920502136134\n",
      "For values of best  c  =  0.001 The train log loss is: 0.49675182332544054\n",
      "For values of best  c  =  0.001 The cross validation log loss is: 0.5460232153110046\n",
      "For values of best  c  =  0.001 The test log loss is: 0.5257974960513053\n",
      "Percentage of missclassified points : 0.25697724345212536\n",
      "Accuracy:  74.30227565478746\n",
      "AUC:  0.7912219562433892\n"
     ]
    },
    {
     "data": {
      "image/png": "[encoded data removed]",
      "text/plain": [
       "<Figure size 1080x216 with 6 Axes>"
      ]
     },
     "metadata": {
      "needs_background": "light"
     },
     "output_type": "display_data"
    }
   ],
   "source": [
    "events_model_svm = \"Events - Support Vector Machines\"\n",
    "\n",
    "c = [10 ** x for x in range(-5, 3)]\n",
    "\n",
    "events_acc_svm, events_auc_svm, events_logloss_svm = hyperparameter_tuning(\"svm\", c, \"c\", events_x_train, events_y_train, events_x_cv, events_y_cv, events_x_test, events_y_test)"
   ]
  },
  {
   "cell_type": "markdown",
   "metadata": {},
   "source": [
    "## Random Forest Model"
   ]
  },
  {
   "cell_type": "code",
   "execution_count": 94,
   "metadata": {},
   "outputs": [
    {
     "name": "stdout",
     "output_type": "stream",
     "text": [
      "for n_estimators = 100, max_depth = 5\n",
      "Log Loss : 0.5687573434370442\n",
      "for n_estimators = 100, max_depth = 10\n",
      "Log Loss : 0.5516839127760814\n",
      "for n_estimators = 200, max_depth = 5\n",
      "Log Loss : 0.5677929809927218\n",
      "for n_estimators = 200, max_depth = 10\n",
      "Log Loss : 0.5522350570096686\n",
      "for n_estimators = 500, max_depth = 5\n",
      "Log Loss : 0.5669498846275429\n",
      "for n_estimators = 500, max_depth = 10\n",
      "Log Loss : 0.5517570237028778\n",
      "for n_estimators = 1000, max_depth = 5\n",
      "Log Loss : 0.566386836227565\n",
      "for n_estimators = 1000, max_depth = 10\n",
      "Log Loss : 0.5512805495401437\n",
      "for n_estimators = 2000, max_depth = 5\n",
      "Log Loss : 0.5664131748689261\n",
      "for n_estimators = 2000, max_depth = 10\n",
      "Log Loss : 0.5513373367526462\n",
      "For values of best  n_estimator, max_depth  =  (1000, 10) The train log loss is: 0.42496618038683587\n",
      "For values of best  n_estimator, max_depth  =  (1000, 10) The cross validation log loss is: 0.5512805495401437\n",
      "For values of best  n_estimator, max_depth  =  (1000, 10) The test log loss is: 0.5392773748238496\n",
      "Percentage of missclassified points : 0.26534993559467585\n",
      "Accuracy:  73.46500644053242\n",
      "AUC:  0.771511338964437\n"
     ]
    },
    {
     "data": {
      "image/png": "[encoded data removed]",
      "text/plain": [
       "<Figure size 1080x216 with 6 Axes>"
      ]
     },
     "metadata": {
      "needs_background": "light"
     },
     "output_type": "display_data"
    }
   ],
   "source": [
    "events_model_rf = \"Events - Random Forest\"\n",
    "\n",
    "n_estimator = [100,200,500,1000,2000]\n",
    "max_depth = [5, 10]\n",
    "\n",
    "hp = [n_estimator, max_depth]\n",
    "\n",
    "events_acc_rf, events_auc_rf, events_logloss_rf = hyperparameter_tuning(\"rf\", hp, \"n_estimator, max_depth\", events_x_train, events_y_train, events_x_cv, events_y_cv, events_x_test, events_y_test)"
   ]
  },
  {
   "cell_type": "markdown",
   "metadata": {},
   "source": [
    "## XGBoost Model"
   ]
  },
  {
   "cell_type": "code",
   "execution_count": 95,
   "metadata": {},
   "outputs": [
    {
     "name": "stdout",
     "output_type": "stream",
     "text": [
      "Fitting 2 folds for each of 30 candidates, totalling 60 fits\n"
     ]
    },
    {
     "name": "stderr",
     "output_type": "stream",
     "text": [
      "[Parallel(n_jobs=8)]: Using backend LokyBackend with 8 concurrent workers.\n",
      "[Parallel(n_jobs=8)]: Done  25 tasks      | elapsed:  3.0min\n",
      "[Parallel(n_jobs=8)]: Done  60 out of  60 | elapsed:  6.4min finished\n"
     ]
    },
    {
     "name": "stdout",
     "output_type": "stream",
     "text": [
      "The test log loss is: 0.5070646712882384\n",
      "Percentage of missclassified point : 0.24431086303134392\n",
      "Accuracy:  75.56891369686561\n",
      "AUC:  0.8048699093591373\n"
     ]
    },
    {
     "data": {
      "image/png": "[encoded data removed]",
      "text/plain": [
       "<Figure size 1080x216 with 6 Axes>"
      ]
     },
     "metadata": {
      "needs_background": "light"
     },
     "output_type": "display_data"
    }
   ],
   "source": [
    "events_model_xgb = \"Events - XGBoost\"\n",
    "\n",
    "params = {\n",
    "         'eval_metric':['logloss'],\n",
    "         'eta':[0.02, 0.01, 0.1, 0.5],\n",
    "         'max_depth':[4,6,8,10],\n",
    "         'n_estimators':[5,10,20,50,100]\n",
    "         }\n",
    "\n",
    "clf = xgb.XGBClassifier(objective='binary:logistic')\n",
    "\n",
    "x = vstack((events_x_train, events_x_cv))\n",
    "y = np.concatenate([events_y_train, events_y_cv])\n",
    "\n",
    "#trying out 30 possible combinations of hyperparameters\n",
    "rs_clf = RandomizedSearchCV(clf, params, verbose = 2, cv = 2, n_iter = 30, n_jobs = 8)\n",
    "rs_clf.fit(x,y)\n",
    "\n",
    "best_clf = rs_clf.best_estimator_\n",
    "\n",
    "predict_y_proba = best_clf.predict_proba(events_x_test)\n",
    "predict_y = best_clf.predict(events_x_test)\n",
    "events_logloss_xgb = log_loss(events_y_test, predict_y_proba, labels=best_clf.classes_, eps=1e-15)\n",
    "print(\"The test log loss is:\",events_logloss_xgb)\n",
    "\n",
    "mp = np.count_nonzero((predict_y- events_y_test))/events_y_test.shape[0]\n",
    "print(\"Percentage of missclassified point :\", mp)\n",
    "\n",
    "events_acc_xgb = (1-mp)*100\n",
    "print(\"Accuracy: \", events_acc_xgb)\n",
    "\n",
    "events_auc_xgb = roc_auc_score(events_y_test, predict_y_proba[:,1])\n",
    "print(\"AUC: \", events_auc_xgb) \n",
    "\n",
    "plot_confusion_matrix(events_y_test, predict_y)"
   ]
  },
  {
   "cell_type": "markdown",
   "metadata": {},
   "source": [
    "## Results for records with events"
   ]
  },
  {
   "cell_type": "code",
   "execution_count": 97,
   "metadata": {},
   "outputs": [
    {
     "name": "stdout",
     "output_type": "stream",
     "text": [
      "+---------------------------------------+--------------------+--------------------+--------------------+\n",
      "|                 Model                 |      Accuracy      |        AUC         |      LogLoss       |\n",
      "+---------------------------------------+--------------------+--------------------+--------------------+\n",
      "|         Events - Random Model         | 49.914126234435386 | 0.5012614819350888 | 0.8880323659542394 |\n",
      "| Events - Logistic Regression Balanced | 73.91584370974667  | 0.7872894282692201 | 0.5280133257535259 |\n",
      "|    Events - Support Vector Machines   | 74.30227565478746  | 0.7912219562433892 | 0.5257974960513053 |\n",
      "|         Events - Random Forest        | 73.46500644053242  | 0.771511338964437  | 0.5392773748238496 |\n",
      "|            Events - XGBoost           | 75.56891369686561  | 0.8048699093591373 | 0.5070646712882384 |\n",
      "+---------------------------------------+--------------------+--------------------+--------------------+\n"
     ]
    }
   ],
   "source": [
    "#summarizing results\n",
    "table = PrettyTable()\n",
    "\n",
    "table.field_names = [\"Model\", \"Accuracy\", \"AUC\", \"LogLoss\"]\n",
    "\n",
    "table.add_row([events_model_rand, events_acc_rand, events_auc_rand, events_logloss_rand])\n",
    "table.add_row([events_model_lrb, events_acc_lrb, events_auc_lrb, events_logloss_lrb])\n",
    "table.add_row([events_model_svm, events_acc_svm, events_auc_svm, events_logloss_svm])\n",
    "table.add_row([events_model_rf, events_acc_rf, events_auc_rf, events_logloss_rf])\n",
    "table.add_row([events_model_xgb, events_acc_xgb, events_auc_xgb, events_logloss_xgb])\n",
    "\n",
    "print(table)"
   ]
  },
  {
   "cell_type": "markdown",
   "metadata": {},
   "source": [
    "## Including device specifications"
   ]
  },
  {
   "cell_type": "code",
   "execution_count": 98,
   "metadata": {},
   "outputs": [],
   "source": [
    "scaler = StandardScaler()"
   ]
  },
  {
   "cell_type": "code",
   "execution_count": 99,
   "metadata": {},
   "outputs": [],
   "source": [
    "events_screen_train = scaler.fit_transform(df_events_train['screen_size'].values.reshape(-1,1))\n",
    "events_screen_cv = scaler.transform(df_events_cv['screen_size'].values.reshape(-1,1))\n",
    "events_screen_test = scaler.transform(df_events_test['screen_size'].values.reshape(-1,1))"
   ]
  },
  {
   "cell_type": "code",
   "execution_count": 100,
   "metadata": {},
   "outputs": [],
   "source": [
    "events_ram_train = scaler.fit_transform(df_events_train['ram_gb'].values.reshape(-1,1))\n",
    "events_ram_cv = scaler.transform(df_events_cv['ram_gb'].values.reshape(-1,1))\n",
    "events_ram_test = scaler.transform(df_events_test['ram_gb'].values.reshape(-1,1))"
   ]
  },
  {
   "cell_type": "code",
   "execution_count": 101,
   "metadata": {},
   "outputs": [],
   "source": [
    "events_camera_train = scaler.fit_transform(df_events_train['camera'].values.reshape(-1,1))\n",
    "events_camera_cv = scaler.transform(df_events_cv['camera'].values.reshape(-1,1))\n",
    "events_camera_test = scaler.transform(df_events_test['camera'].values.reshape(-1,1))"
   ]
  },
  {
   "cell_type": "code",
   "execution_count": 102,
   "metadata": {},
   "outputs": [],
   "source": [
    "events_release_train = scaler.fit_transform(df_events_train['release_bin'].values.reshape(-1,1))\n",
    "events_release_cv = scaler.transform(df_events_cv['release_bin'].values.reshape(-1,1))\n",
    "events_release_test = scaler.transform(df_events_test['release_bin'].values.reshape(-1,1))"
   ]
  },
  {
   "cell_type": "code",
   "execution_count": 103,
   "metadata": {},
   "outputs": [],
   "source": [
    "events_x_train = hstack((events_brand_train, events_model_train, events_installed_labels_train, events_active_labels_train,\n",
    "                         events_lat_train, events_long_train, events_travels_train, df_events_train['location_available'].values.reshape(-1,1), \n",
    "                         np.array(df_events_train['activity_hour'].to_list()), np.array(df_events_train['activity_day'].to_list()), \n",
    "                         df_events_train['app_usage'].values.reshape(-1,1), df_events_train['app_usage_session'].values.reshape(-1,1), \n",
    "                         np.array(df_events_train['installed_app_counts'].to_list()), np.array(df_events_train['active_app_usage_counts'].to_list()), \n",
    "                         np.array(df_events_train['active_app_usage'].to_list()), events_screen_train, events_ram_train,\n",
    "                         events_camera_train, events_release_train, df_events_train['specs_available'].values.reshape(-1,1)))"
   ]
  },
  {
   "cell_type": "code",
   "execution_count": 104,
   "metadata": {},
   "outputs": [],
   "source": [
    "events_x_cv = hstack((events_brand_cv, events_model_cv, events_installed_labels_cv, events_active_labels_cv,\n",
    "                         events_lat_cv, events_long_cv, events_travels_cv, df_events_cv['location_available'].values.reshape(-1,1), \n",
    "                         np.array(df_events_cv['activity_hour'].to_list()), np.array(df_events_cv['activity_day'].to_list()), \n",
    "                         df_events_cv['app_usage'].values.reshape(-1,1), df_events_cv['app_usage_session'].values.reshape(-1,1), \n",
    "                         np.array(df_events_cv['installed_app_counts'].to_list()), np.array(df_events_cv['active_app_usage_counts'].to_list()), \n",
    "                         np.array(df_events_cv['active_app_usage'].to_list()), events_screen_cv, events_ram_cv,\n",
    "                         events_camera_cv, events_release_cv, df_events_cv['specs_available'].values.reshape(-1,1)))"
   ]
  },
  {
   "cell_type": "code",
   "execution_count": 106,
   "metadata": {},
   "outputs": [],
   "source": [
    "events_x_test = hstack((events_brand_test, events_model_test, events_installed_labels_test, events_active_labels_test,\n",
    "                         events_lat_test, events_long_test, events_travels_test, df_events_test['location_available'].values.reshape(-1,1), \n",
    "                         np.array(df_events_test['activity_hour'].to_list()), np.array(df_events_test['activity_day'].to_list()), \n",
    "                         df_events_test['app_usage'].values.reshape(-1,1), df_events_test['app_usage_session'].values.reshape(-1,1), \n",
    "                         np.array(df_events_test['installed_app_counts'].to_list()), np.array(df_events_test['active_app_usage_counts'].to_list()), \n",
    "                         np.array(df_events_test['active_app_usage'].to_list()), events_screen_test, events_ram_test,\n",
    "                         events_camera_test, events_release_test, df_events_test['specs_available'].values.reshape(-1,1)))"
   ]
  },
  {
   "cell_type": "markdown",
   "metadata": {},
   "source": [
    "## Logistic Regression Model with Balanced Class Weights"
   ]
  },
  {
   "cell_type": "code",
   "execution_count": 107,
   "metadata": {},
   "outputs": [
    {
     "name": "stdout",
     "output_type": "stream",
     "text": [
      "for alpha = 1e-06\n",
      "Log Loss : 0.5887362909388626\n",
      "for alpha = 1e-05\n",
      "Log Loss : 0.5754005040206249\n",
      "for alpha = 0.0001\n",
      "Log Loss : 0.5471162285060095\n",
      "for alpha = 0.001\n",
      "Log Loss : 0.5471682956081951\n",
      "for alpha = 0.01\n",
      "Log Loss : 0.56321437461823\n",
      "for alpha = 0.1\n",
      "Log Loss : 0.594480391852629\n",
      "for alpha = 1\n",
      "Log Loss : 0.6199917689004909\n",
      "for alpha = 10\n",
      "Log Loss : 0.6260919378861914\n",
      "for alpha = 100\n",
      "Log Loss : 0.6268106742650358\n",
      "For values of best  alpha  =  0.0001 The train log loss is: 0.4831802591963152\n",
      "For values of best  alpha  =  0.0001 The cross validation log loss is: 0.5471162285060095\n",
      "For values of best  alpha  =  0.0001 The test log loss is: 0.5320284559132478\n",
      "Percentage of missclassified points : 0.2606268784886217\n",
      "Accuracy:  73.93731215113783\n",
      "AUC:  0.7854409822210302\n"
     ]
    },
    {
     "data": {
      "image/png": "[encoded data removed]",
      "text/plain": [
       "<Figure size 1080x216 with 6 Axes>"
      ]
     },
     "metadata": {
      "needs_background": "light"
     },
     "output_type": "display_data"
    }
   ],
   "source": [
    "events_model_lrb = \"Events - Logistic Regression Balanced\"\n",
    "\n",
    "alpha = [10 ** x for x in range(-6, 3)]\n",
    "\n",
    "events_acc_lrb, events_auc_lrb, events_logloss_lrb = hyperparameter_tuning(\"lrb\", alpha, \"alpha\", events_x_train, events_y_train, events_x_cv, events_y_cv, events_x_test, events_y_test)"
   ]
  },
  {
   "cell_type": "markdown",
   "metadata": {},
   "source": [
    "## Support Vector Machines Model"
   ]
  },
  {
   "cell_type": "code",
   "execution_count": 108,
   "metadata": {},
   "outputs": [
    {
     "name": "stdout",
     "output_type": "stream",
     "text": [
      "for c = 1e-05\n",
      "Log Loss : 0.5719316270605944\n",
      "for c = 0.0001\n",
      "Log Loss : 0.5511410286781205\n",
      "for c = 0.001\n",
      "Log Loss : 0.5460000044675664\n",
      "for c = 0.01\n",
      "Log Loss : 0.56053356258665\n",
      "for c = 0.1\n",
      "Log Loss : 0.6011824885463206\n",
      "for c = 1\n",
      "Log Loss : 0.6269295840381267\n",
      "for c = 10\n",
      "Log Loss : 0.6269327868450224\n",
      "for c = 100\n",
      "Log Loss : 0.6269331772119171\n",
      "For values of best  c  =  0.001 The train log loss is: 0.4967812922277764\n",
      "For values of best  c  =  0.001 The cross validation log loss is: 0.5460000044675664\n",
      "For values of best  c  =  0.001 The test log loss is: 0.5259249157769489\n",
      "Percentage of missclassified points : 0.25805066552168315\n",
      "Accuracy:  74.19493344783167\n",
      "AUC:  0.7912472607835297\n"
     ]
    },
    {
     "data": {
      "image/png": "[encoded data removed]",
      "text/plain": [
       "<Figure size 1080x216 with 6 Axes>"
      ]
     },
     "metadata": {
      "needs_background": "light"
     },
     "output_type": "display_data"
    }
   ],
   "source": [
    "events_model_svm = \"Events - Support Vector Machines\"\n",
    "\n",
    "c = [10 ** x for x in range(-5, 3)]\n",
    "\n",
    "events_acc_svm, events_auc_svm, events_logloss_svm = hyperparameter_tuning(\"svm\", c, \"c\", events_x_train, events_y_train, events_x_cv, events_y_cv, events_x_test, events_y_test)"
   ]
  },
  {
   "cell_type": "markdown",
   "metadata": {},
   "source": [
    "## Random Forest Model"
   ]
  },
  {
   "cell_type": "code",
   "execution_count": 109,
   "metadata": {},
   "outputs": [
    {
     "name": "stdout",
     "output_type": "stream",
     "text": [
      "for n_estimators = 100, max_depth = 5\n",
      "Log Loss : 0.566586130821141\n",
      "for n_estimators = 100, max_depth = 10\n",
      "Log Loss : 0.5516383041832267\n",
      "for n_estimators = 200, max_depth = 5\n",
      "Log Loss : 0.5665157348190104\n",
      "for n_estimators = 200, max_depth = 10\n",
      "Log Loss : 0.5512540683279573\n",
      "for n_estimators = 500, max_depth = 5\n",
      "Log Loss : 0.5662015073407826\n",
      "for n_estimators = 500, max_depth = 10\n",
      "Log Loss : 0.5512909540441254\n",
      "for n_estimators = 1000, max_depth = 5\n",
      "Log Loss : 0.5663330022964311\n",
      "for n_estimators = 1000, max_depth = 10\n",
      "Log Loss : 0.5512376519778429\n",
      "for n_estimators = 2000, max_depth = 5\n",
      "Log Loss : 0.5660149593243409\n",
      "for n_estimators = 2000, max_depth = 10\n",
      "Log Loss : 0.5512825793571999\n",
      "For values of best  n_estimator, max_depth  =  (1000, 10) The train log loss is: 0.425249086719289\n",
      "For values of best  n_estimator, max_depth  =  (1000, 10) The cross validation log loss is: 0.5512376519778429\n",
      "For values of best  n_estimator, max_depth  =  (1000, 10) The test log loss is: 0.5397134083553882\n",
      "Percentage of missclassified points : 0.2664233576642336\n",
      "Accuracy:  73.35766423357664\n",
      "AUC:  0.7709947214729266\n"
     ]
    },
    {
     "data": {
      "image/png": "[encoded data removed]",
      "text/plain": [
       "<Figure size 1080x216 with 6 Axes>"
      ]
     },
     "metadata": {
      "needs_background": "light"
     },
     "output_type": "display_data"
    }
   ],
   "source": [
    "events_model_rf = \"Events - Random Forest\"\n",
    "\n",
    "n_estimator = [100,200,500,1000,2000]\n",
    "max_depth = [5, 10]\n",
    "\n",
    "hp = [n_estimator, max_depth]\n",
    "\n",
    "events_acc_rf, events_auc_rf, events_logloss_rf = hyperparameter_tuning(\"rf\", hp, \"n_estimator, max_depth\", events_x_train, events_y_train, events_x_cv, events_y_cv, events_x_test, events_y_test)"
   ]
  },
  {
   "cell_type": "markdown",
   "metadata": {},
   "source": [
    "## XGBoost Model"
   ]
  },
  {
   "cell_type": "code",
   "execution_count": 110,
   "metadata": {},
   "outputs": [
    {
     "name": "stdout",
     "output_type": "stream",
     "text": [
      "Fitting 2 folds for each of 30 candidates, totalling 60 fits\n"
     ]
    },
    {
     "name": "stderr",
     "output_type": "stream",
     "text": [
      "[Parallel(n_jobs=8)]: Using backend LokyBackend with 8 concurrent workers.\n",
      "[Parallel(n_jobs=8)]: Done  25 tasks      | elapsed:  1.1min\n",
      "[Parallel(n_jobs=8)]: Done  60 out of  60 | elapsed:  4.6min finished\n"
     ]
    },
    {
     "name": "stdout",
     "output_type": "stream",
     "text": [
      "The test log loss is: 0.5121644688478262\n",
      "Percentage of missclassified point : 0.24924860455130957\n",
      "Accuracy:  75.07513954486905\n",
      "AUC:  0.8015356819320523\n"
     ]
    },
    {
     "data": {
      "image/png": "[encoded data removed]",
      "text/plain": [
       "<Figure size 1080x216 with 6 Axes>"
      ]
     },
     "metadata": {
      "needs_background": "light"
     },
     "output_type": "display_data"
    }
   ],
   "source": [
    "events_model_xgb = \"Events - XGBoost\"\n",
    "\n",
    "params = {\n",
    "         'eval_metric':['logloss'],\n",
    "         'eta':[0.02, 0.01, 0.1, 0.5],\n",
    "         'max_depth':[4,6,8,10],\n",
    "         'n_estimators':[5,10,20,50,100]\n",
    "         }\n",
    "\n",
    "clf = xgb.XGBClassifier(objective='binary:logistic')\n",
    "\n",
    "x = vstack((events_x_train, events_x_cv))\n",
    "y = np.concatenate([events_y_train, events_y_cv])\n",
    "\n",
    "#trying out 30 possible combinations of hyperparameters\n",
    "rs_clf = RandomizedSearchCV(clf, params, verbose = 2, cv = 2, n_iter = 30, n_jobs = 8)\n",
    "rs_clf.fit(x,y)\n",
    "\n",
    "best_clf = rs_clf.best_estimator_\n",
    "\n",
    "predict_y_proba = best_clf.predict_proba(events_x_test)\n",
    "predict_y = best_clf.predict(events_x_test)\n",
    "events_logloss_xgb = log_loss(events_y_test, predict_y_proba, labels=best_clf.classes_, eps=1e-15)\n",
    "print(\"The test log loss is:\",events_logloss_xgb)\n",
    "\n",
    "mp = np.count_nonzero((predict_y- events_y_test))/events_y_test.shape[0]\n",
    "print(\"Percentage of missclassified point :\", mp)\n",
    "\n",
    "events_acc_xgb = (1-mp)*100\n",
    "print(\"Accuracy: \", events_acc_xgb)\n",
    "\n",
    "events_auc_xgb = roc_auc_score(events_y_test, predict_y_proba[:,1])\n",
    "print(\"AUC: \", events_auc_xgb) \n",
    "\n",
    "plot_confusion_matrix(events_y_test, predict_y)"
   ]
  },
  {
   "cell_type": "markdown",
   "metadata": {},
   "source": [
    "## Results for records with events"
   ]
  },
  {
   "cell_type": "code",
   "execution_count": 111,
   "metadata": {},
   "outputs": [
    {
     "name": "stdout",
     "output_type": "stream",
     "text": [
      "+---------------------------------------+--------------------+--------------------+--------------------+\n",
      "|                 Model                 |      Accuracy      |        AUC         |      LogLoss       |\n",
      "+---------------------------------------+--------------------+--------------------+--------------------+\n",
      "|         Events - Random Model         | 49.914126234435386 | 0.5012614819350888 | 0.8880323659542394 |\n",
      "| Events - Logistic Regression Balanced | 73.93731215113783  | 0.7854409822210302 | 0.5320284559132478 |\n",
      "|    Events - Support Vector Machines   | 74.19493344783167  | 0.7912472607835297 | 0.5259249157769489 |\n",
      "|         Events - Random Forest        | 73.35766423357664  | 0.7709947214729266 | 0.5397134083553882 |\n",
      "|            Events - XGBoost           | 75.07513954486905  | 0.8015356819320523 | 0.5121644688478262 |\n",
      "+---------------------------------------+--------------------+--------------------+--------------------+\n"
     ]
    }
   ],
   "source": [
    "#summarizing results\n",
    "table = PrettyTable()\n",
    "\n",
    "table.field_names = [\"Model\", \"Accuracy\", \"AUC\", \"LogLoss\"]\n",
    "\n",
    "table.add_row([events_model_rand, events_acc_rand, events_auc_rand, events_logloss_rand])\n",
    "table.add_row([events_model_lrb, events_acc_lrb, events_auc_lrb, events_logloss_lrb])\n",
    "table.add_row([events_model_svm, events_acc_svm, events_auc_svm, events_logloss_svm])\n",
    "table.add_row([events_model_rf, events_acc_rf, events_auc_rf, events_logloss_rf])\n",
    "table.add_row([events_model_xgb, events_acc_xgb, events_auc_xgb, events_logloss_xgb])\n",
    "\n",
    "print(table)"
   ]
  },
  {
   "cell_type": "markdown",
   "metadata": {},
   "source": [
    "## Adding Gender Predictions as a feature"
   ]
  },
  {
   "cell_type": "code",
   "execution_count": 112,
   "metadata": {},
   "outputs": [],
   "source": [
    "noevents_x_train = hstack((noevents_brand_train, noevents_model_train))\n",
    "noevents_x_cv = hstack((noevents_brand_cv, noevents_model_cv))\n",
    "noevents_x_test = hstack((noevents_brand_test, noevents_model_test))"
   ]
  },
  {
   "cell_type": "code",
   "execution_count": 118,
   "metadata": {},
   "outputs": [
    {
     "name": "stdout",
     "output_type": "stream",
     "text": [
      "Fitting 2 folds for each of 30 candidates, totalling 60 fits\n"
     ]
    },
    {
     "name": "stderr",
     "output_type": "stream",
     "text": [
      "[Parallel(n_jobs=8)]: Using backend LokyBackend with 8 concurrent workers.\n",
      "[Parallel(n_jobs=8)]: Done  25 tasks      | elapsed:    3.6s\n",
      "[Parallel(n_jobs=8)]: Done  60 out of  60 | elapsed:    7.0s finished\n"
     ]
    },
    {
     "name": "stdout",
     "output_type": "stream",
     "text": [
      "The test log loss is: 0.6504839752632924\n",
      "Percentage of missclassified point : 0.35351961834290724\n",
      "Accuracy:  64.64803816570928\n",
      "AUC:  0.5720669259389122\n"
     ]
    }
   ],
   "source": [
    "noevents_model_xgb = \"No Events - XGBoost\"\n",
    "\n",
    "params = {\n",
    "         'eval_metric':['logloss'],\n",
    "         'eta':[0.02, 0.01, 0.1, 0.5],\n",
    "         'max_depth':[4,6,8,10],\n",
    "         'n_estimators':[5,10,20,50,100]\n",
    "         }\n",
    "\n",
    "clf = xgb.XGBClassifier(objective='binary:logistic')\n",
    "\n",
    "x = vstack((noevents_x_train, noevents_x_cv))\n",
    "y = np.concatenate([noevents_y_train, noevents_y_cv])\n",
    "\n",
    "#trying out 30 possible combinations of hyperparameters\n",
    "rs_clf = RandomizedSearchCV(clf, params, verbose = 2, cv = 2, n_iter = 30, n_jobs = 8)\n",
    "rs_clf.fit(x,y)\n",
    "\n",
    "noevents_best_clf = rs_clf.best_estimator_\n",
    "\n",
    "predict_y_proba = noevents_best_clf.predict_proba(noevents_x_test)\n",
    "predict_y = noevents_best_clf.predict(noevents_x_test)\n",
    "noevents_logloss_xgb = log_loss(noevents_y_test, predict_y_proba, labels=best_clf.classes_, eps=1e-15)\n",
    "print(\"The test log loss is:\",noevents_logloss_xgb)\n",
    "\n",
    "mp = np.count_nonzero((predict_y- noevents_y_test))/noevents_y_test.shape[0]\n",
    "print(\"Percentage of missclassified point :\", mp)\n",
    "\n",
    "noevents_acc_xgb = (1-mp)*100\n",
    "print(\"Accuracy: \", noevents_acc_xgb)\n",
    "\n",
    "noevents_auc_xgb = roc_auc_score(noevents_y_test, predict_y_proba[:,1])\n",
    "print(\"AUC: \", noevents_auc_xgb)"
   ]
  },
  {
   "cell_type": "code",
   "execution_count": 114,
   "metadata": {},
   "outputs": [],
   "source": [
    "events_x_train = hstack((events_brand_train, events_model_train, events_installed_labels_train, events_active_labels_train,\n",
    "                         events_lat_train, events_long_train, events_travels_train, df_events_train['location_available'].values.reshape(-1,1), \n",
    "                         np.array(df_events_train['activity_hour'].to_list()), np.array(df_events_train['activity_day'].to_list()), \n",
    "                         df_events_train['app_usage'].values.reshape(-1,1), df_events_train['app_usage_session'].values.reshape(-1,1), \n",
    "                         np.array(df_events_train['installed_app_counts'].to_list()), np.array(df_events_train['active_app_usage_counts'].to_list()), \n",
    "                         np.array(df_events_train['active_app_usage'].to_list())))"
   ]
  },
  {
   "cell_type": "code",
   "execution_count": 115,
   "metadata": {},
   "outputs": [],
   "source": [
    "events_x_cv = hstack((events_brand_cv, events_model_cv, events_installed_labels_cv, events_active_labels_cv,\n",
    "                         events_lat_cv, events_long_cv, events_travels_cv, df_events_cv['location_available'].values.reshape(-1,1), \n",
    "                         np.array(df_events_cv['activity_hour'].to_list()), np.array(df_events_cv['activity_day'].to_list()), \n",
    "                         df_events_cv['app_usage'].values.reshape(-1,1), df_events_cv['app_usage_session'].values.reshape(-1,1), \n",
    "                         np.array(df_events_cv['installed_app_counts'].to_list()), np.array(df_events_cv['active_app_usage_counts'].to_list()), \n",
    "                         np.array(df_events_cv['active_app_usage'].to_list())))"
   ]
  },
  {
   "cell_type": "code",
   "execution_count": 116,
   "metadata": {},
   "outputs": [],
   "source": [
    "events_x_test = hstack((events_brand_test, events_model_test, events_installed_labels_test, events_active_labels_test,\n",
    "                         events_lat_test, events_long_test, events_travels_test, df_events_test['location_available'].values.reshape(-1,1), \n",
    "                         np.array(df_events_test['activity_hour'].to_list()), np.array(df_events_test['activity_day'].to_list()), \n",
    "                         df_events_test['app_usage'].values.reshape(-1,1), df_events_test['app_usage_session'].values.reshape(-1,1), \n",
    "                         np.array(df_events_test['installed_app_counts'].to_list()), np.array(df_events_test['active_app_usage_counts'].to_list()), \n",
    "                         np.array(df_events_test['active_app_usage'].to_list())))"
   ]
  },
  {
   "cell_type": "code",
   "execution_count": 119,
   "metadata": {},
   "outputs": [
    {
     "name": "stdout",
     "output_type": "stream",
     "text": [
      "Fitting 2 folds for each of 30 candidates, totalling 60 fits\n"
     ]
    },
    {
     "name": "stderr",
     "output_type": "stream",
     "text": [
      "[Parallel(n_jobs=8)]: Using backend LokyBackend with 8 concurrent workers.\n",
      "[Parallel(n_jobs=8)]: Done  25 tasks      | elapsed:  2.7min\n",
      "[Parallel(n_jobs=8)]: Done  60 out of  60 | elapsed:  6.6min finished\n"
     ]
    },
    {
     "name": "stdout",
     "output_type": "stream",
     "text": [
      "The test log loss is: 0.5070646712882384\n",
      "Percentage of missclassified point : 0.24431086303134392\n",
      "Accuracy:  75.56891369686561\n",
      "AUC:  0.8048699093591373\n"
     ]
    }
   ],
   "source": [
    "events_model_xgb = \"Events - XGBoost\"\n",
    "\n",
    "params = {\n",
    "         'eval_metric':['logloss'],\n",
    "         'eta':[0.02, 0.01, 0.1, 0.5],\n",
    "         'max_depth':[4,6,8,10],\n",
    "         'n_estimators':[5,10,20,50,100]\n",
    "         }\n",
    "\n",
    "clf = xgb.XGBClassifier(objective='binary:logistic')\n",
    "\n",
    "x = vstack((events_x_train, events_x_cv))\n",
    "y = np.concatenate([events_y_train, events_y_cv])\n",
    "\n",
    "#trying out 30 possible combinations of hyperparameters\n",
    "rs_clf = RandomizedSearchCV(clf, params, verbose = 2, cv = 2, n_iter = 30, n_jobs = 8)\n",
    "rs_clf.fit(x,y)\n",
    "\n",
    "events_best_clf = rs_clf.best_estimator_\n",
    "\n",
    "predict_y_proba = events_best_clf.predict_proba(events_x_test)\n",
    "predict_y = events_best_clf.predict(events_x_test)\n",
    "events_logloss_xgb = log_loss(events_y_test, predict_y_proba, labels=best_clf.classes_, eps=1e-15)\n",
    "print(\"The test log loss is:\",events_logloss_xgb)\n",
    "\n",
    "mp = np.count_nonzero((predict_y- events_y_test))/events_y_test.shape[0]\n",
    "print(\"Percentage of missclassified point :\", mp)\n",
    "\n",
    "events_acc_xgb = (1-mp)*100\n",
    "print(\"Accuracy: \", events_acc_xgb)\n",
    "\n",
    "events_auc_xgb = roc_auc_score(events_y_test, predict_y_proba[:,1])\n",
    "print(\"AUC: \", events_auc_xgb) "
   ]
  },
  {
   "cell_type": "code",
   "execution_count": 146,
   "metadata": {},
   "outputs": [],
   "source": [
    "df_train_noevents = pd.read_pickle(\"dataset/dataset_train_noevents.pkl\")\n",
    "df_train_events = pd.read_pickle(\"dataset/dataset_train_events.pkl\")\n",
    "df_test_noevents = pd.read_pickle(\"dataset/dataset_test_noevents.pkl\")"
   ]
  },
  {
   "cell_type": "code",
   "execution_count": 147,
   "metadata": {},
   "outputs": [],
   "source": [
    "df1 = pd.read_pickle(\"dataset_test_events1.pkl\")\n",
    "df2 = pd.read_pickle(\"dataset_test_events2.pkl\")\n",
    "df3 = pd.read_pickle(\"dataset_test_events3.pkl\")\n",
    "df4 = pd.read_pickle(\"dataset_test_events4.pkl\")\n",
    "df5 = pd.read_pickle(\"dataset_test_events5.pkl\")\n",
    "df6 = pd.read_pickle(\"dataset_test_events6.pkl\")\n",
    "df7 = pd.read_pickle(\"dataset_test_events7.pkl\")\n",
    "df8 = pd.read_pickle(\"dataset_test_events8.pkl\")\n",
    "df9 = pd.read_pickle(\"dataset_test_events9.pkl\")\n",
    "df10 = pd.read_pickle(\"dataset_test_events10.pkl\")"
   ]
  },
  {
   "cell_type": "code",
   "execution_count": 148,
   "metadata": {},
   "outputs": [],
   "source": [
    "df_test_events = pd.concat([df1, df2, df3, df4, df5, df6, df7, df8, df9, df10])"
   ]
  },
  {
   "cell_type": "code",
   "execution_count": 149,
   "metadata": {},
   "outputs": [],
   "source": [
    "df_train_events.loc[df_train_events['app_usage'].isna(),'app_usage']=0\n",
    "df_train_events.loc[df_train_events['app_usage_session'].isna(),'app_usage_session']=0"
   ]
  },
  {
   "cell_type": "code",
   "execution_count": 150,
   "metadata": {},
   "outputs": [],
   "source": [
    "df_test_events.loc[df_test_events['app_usage'].isna(),'app_usage']=0\n",
    "df_test_events.loc[df_test_events['app_usage_session'].isna(),'app_usage_session']=0"
   ]
  },
  {
   "cell_type": "markdown",
   "metadata": {},
   "source": [
    "### No Events"
   ]
  },
  {
   "cell_type": "code",
   "execution_count": 151,
   "metadata": {},
   "outputs": [],
   "source": [
    "noevents_brand_train = noevents_brand_encoder.transform(df_train_noevents['brand'])\n",
    "noevents_brand_test = noevents_brand_encoder.transform(df_test_noevents['brand'])"
   ]
  },
  {
   "cell_type": "code",
   "execution_count": 152,
   "metadata": {},
   "outputs": [],
   "source": [
    "noevents_model_train = noevents_model_encoder.transform(df_train_noevents['model'])\n",
    "noevents_model_test = noevents_model_encoder.transform(df_test_noevents['model'])"
   ]
  },
  {
   "cell_type": "code",
   "execution_count": 153,
   "metadata": {},
   "outputs": [],
   "source": [
    "noevents_x_train = hstack((noevents_brand_train, noevents_model_train))\n",
    "noevents_x_test = hstack((noevents_brand_test, noevents_model_test))"
   ]
  },
  {
   "cell_type": "code",
   "execution_count": 154,
   "metadata": {},
   "outputs": [],
   "source": [
    "gender_pred_train = noevents_best_clf.predict_proba(noevents_x_train)\n",
    "gender_pred_test = noevents_best_clf.predict_proba(noevents_x_test)"
   ]
  },
  {
   "cell_type": "code",
   "execution_count": 164,
   "metadata": {},
   "outputs": [
    {
     "name": "stdout",
     "output_type": "stream",
     "text": [
      "Index(['device_id', 'brand', 'model', 'gender', 'age', 'group', 'screen_size',\n",
      "       'ram_gb', 'release_month', 'release_year', 'camera', 'specs_available'],\n",
      "      dtype='object')\n"
     ]
    }
   ],
   "source": [
    "print(df_train_noevents.columns)"
   ]
  },
  {
   "cell_type": "code",
   "execution_count": 165,
   "metadata": {},
   "outputs": [],
   "source": [
    "df_train_noevents['female_pred'] = gender_pred_train[:,0]\n",
    "df_train_noevents['male_pred'] = gender_pred_train[:,1]"
   ]
  },
  {
   "cell_type": "code",
   "execution_count": 167,
   "metadata": {},
   "outputs": [],
   "source": [
    "df_test_noevents['female_pred'] = gender_pred_test[:,0]\n",
    "df_test_noevents['male_pred'] = gender_pred_test[:,1]"
   ]
  },
  {
   "cell_type": "markdown",
   "metadata": {},
   "source": [
    "### Events"
   ]
  },
  {
   "cell_type": "code",
   "execution_count": 169,
   "metadata": {},
   "outputs": [],
   "source": [
    "events_brand_train = events_brand_encoder.transform(df_train_events['brand'])\n",
    "events_brand_test = events_brand_encoder.transform(df_test_events['brand'])"
   ]
  },
  {
   "cell_type": "code",
   "execution_count": 168,
   "metadata": {},
   "outputs": [],
   "source": [
    "events_model_train = events_model_encoder.transform(df_train_events['model'])\n",
    "events_model_test = events_model_encoder.transform(df_test_events['model'])"
   ]
  },
  {
   "cell_type": "code",
   "execution_count": 170,
   "metadata": {},
   "outputs": [],
   "source": [
    "events_active_labels_train = events_active_labels_encoder.transform(df_train_events['active_app_labels'])\n",
    "events_active_labels_test = events_active_labels_encoder.transform(df_test_events['active_app_labels'])"
   ]
  },
  {
   "cell_type": "code",
   "execution_count": 171,
   "metadata": {},
   "outputs": [],
   "source": [
    "events_installed_labels_train = events_installed_labels_encoder.transform(df_train_events['installed_app_labels'])\n",
    "events_installed_labels_test = events_installed_labels_encoder.transform(df_test_events['installed_app_labels'])"
   ]
  },
  {
   "cell_type": "code",
   "execution_count": 172,
   "metadata": {},
   "outputs": [],
   "source": [
    "scaler = StandardScaler()"
   ]
  },
  {
   "cell_type": "code",
   "execution_count": 173,
   "metadata": {},
   "outputs": [],
   "source": [
    "events_lat_train = scaler.fit_transform(df_train_events['mean_latitude'].values.reshape(-1,1))\n",
    "events_lat_test = scaler.transform(df_test_events['mean_latitude'].values.reshape(-1,1))"
   ]
  },
  {
   "cell_type": "code",
   "execution_count": 174,
   "metadata": {},
   "outputs": [],
   "source": [
    "events_long_train = scaler.fit_transform(df_train_events['mean_longitude'].values.reshape(-1,1))\n",
    "events_long_test = scaler.transform(df_test_events['mean_longitude'].values.reshape(-1,1))"
   ]
  },
  {
   "cell_type": "code",
   "execution_count": 175,
   "metadata": {},
   "outputs": [],
   "source": [
    "events_travels_train = scaler.fit_transform(df_train_events['num_travels'].values.reshape(-1,1))\n",
    "events_travels_test = scaler.transform(df_test_events['num_travels'].values.reshape(-1,1))"
   ]
  },
  {
   "cell_type": "code",
   "execution_count": 176,
   "metadata": {},
   "outputs": [],
   "source": [
    "events_x_train = hstack((events_brand_train, events_model_train, events_installed_labels_train, events_active_labels_train,\n",
    "                         events_lat_train, events_long_train, events_travels_train, df_train_events['location_available'].values.reshape(-1,1), \n",
    "                         np.array(df_train_events['activity_hour'].to_list()), np.array(df_train_events['activity_day'].to_list()), \n",
    "                         df_train_events['app_usage'].values.reshape(-1,1), df_train_events['app_usage_session'].values.reshape(-1,1), \n",
    "                         np.array(df_train_events['installed_app_counts'].to_list()), np.array(df_train_events['active_app_usage_counts'].to_list()), \n",
    "                         np.array(df_train_events['active_app_usage'].to_list())))"
   ]
  },
  {
   "cell_type": "code",
   "execution_count": 177,
   "metadata": {},
   "outputs": [],
   "source": [
    "events_x_test = hstack((events_brand_test, events_model_test, events_installed_labels_test, events_active_labels_test,\n",
    "                         events_lat_test, events_long_test, events_travels_test, df_test_events['location_available'].values.reshape(-1,1), \n",
    "                         np.array(df_test_events['activity_hour'].to_list()), np.array(df_test_events['activity_day'].to_list()), \n",
    "                         df_test_events['app_usage'].values.reshape(-1,1), df_test_events['app_usage_session'].values.reshape(-1,1), \n",
    "                         np.array(df_test_events['installed_app_counts'].to_list()), np.array(df_test_events['active_app_usage_counts'].to_list()), \n",
    "                         np.array(df_test_events['active_app_usage'].to_list())))"
   ]
  },
  {
   "cell_type": "code",
   "execution_count": 179,
   "metadata": {},
   "outputs": [],
   "source": [
    "gender_pred_train = events_best_clf.predict_proba(events_x_train)\n",
    "gender_pred_test = events_best_clf.predict_proba(events_x_test)"
   ]
  },
  {
   "cell_type": "code",
   "execution_count": 180,
   "metadata": {},
   "outputs": [],
   "source": [
    "df_train_events['female_pred'] = gender_pred_train[:,0]\n",
    "df_train_events['male_pred'] = gender_pred_train[:,1]"
   ]
  },
  {
   "cell_type": "code",
   "execution_count": 181,
   "metadata": {},
   "outputs": [],
   "source": [
    "df_test_events['female_pred'] = gender_pred_test[:,0]\n",
    "df_test_events['male_pred'] = gender_pred_test[:,1]"
   ]
  },
  {
   "cell_type": "code",
   "execution_count": 185,
   "metadata": {},
   "outputs": [
    {
     "name": "stdout",
     "output_type": "stream",
     "text": [
      "Index(['device_id', 'brand', 'model', 'gender', 'age', 'group', 'screen_size',\n",
      "       'ram_gb', 'release_month', 'release_year', 'camera', 'specs_available',\n",
      "       'female_pred', 'male_pred'],\n",
      "      dtype='object') Index(['device_id', 'brand', 'model', 'screen_size', 'ram_gb', 'release_month',\n",
      "       'release_year', 'camera', 'specs_available', 'female_pred',\n",
      "       'male_pred'],\n",
      "      dtype='object') Index(['device_id', 'brand', 'model', 'gender', 'age', 'group', 'app_usage',\n",
      "       'app_usage_session', 'active_app_usage_counts', 'activity_hour',\n",
      "       'activity_day', 'num_travels', 'mean_latitude', 'mean_longitude',\n",
      "       'screen_size', 'ram_gb', 'release_month', 'release_year', 'camera',\n",
      "       'installed_app_labels', 'active_app_labels', 'installed_app_counts',\n",
      "       'active_app_usage', 'location_available', 'specs_available',\n",
      "       'female_pred', 'male_pred'],\n",
      "      dtype='object') Index(['device_id', 'brand', 'model', 'app_usage', 'app_usage_session',\n",
      "       'active_app_usage_counts', 'activity_hour', 'activity_day',\n",
      "       'num_travels', 'mean_latitude', 'mean_longitude', 'screen_size',\n",
      "       'ram_gb', 'release_month', 'release_year', 'camera',\n",
      "       'installed_app_labels', 'active_app_labels', 'installed_app_counts',\n",
      "       'active_app_usage', 'location_available', 'specs_available',\n",
      "       'female_pred', 'male_pred'],\n",
      "      dtype='object')\n"
     ]
    }
   ],
   "source": [
    "print(df_train_noevents.columns, df_test_noevents.columns, df_train_events.columns, df_test_events.columns)"
   ]
  },
  {
   "cell_type": "code",
   "execution_count": 183,
   "metadata": {},
   "outputs": [],
   "source": [
    "df_train_noevents.to_pickle(\"dataset/gender_predictions/df_train_noevents.pkl\")\n",
    "df_train_events.to_pickle(\"dataset/gender_predictions/df_train_events.pkl\")\n",
    "df_test_noevents.to_pickle(\"dataset/gender_predictions/df_test_noevents.pkl\")\n",
    "df_test_events.to_pickle(\"dataset/gender_predictions/df_test_events.pkl\")"
   ]
  }
 ],
 "metadata": {
  "kernelspec": {
   "display_name": "Python 3",
   "language": "python",
   "name": "python3"
  },
  "language_info": {
   "codemirror_mode": {
    "name": "ipython",
    "version": 3
   },
   "file_extension": ".py",
   "mimetype": "text/x-python",
   "name": "python",
   "nbconvert_exporter": "python",
   "pygments_lexer": "ipython3",
   "version": "3.6.10"
  }
 },
 "nbformat": 4,
 "nbformat_minor": 4
}
