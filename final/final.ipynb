{
 "cells": [
  {
   "cell_type": "markdown",
   "metadata": {
    "colab_type": "text",
    "id": "1h6HNGk8QNx6"
   },
   "source": [
    "## Importing Libraries"
   ]
  },
  {
   "cell_type": "code",
   "execution_count": 1,
   "metadata": {
    "colab": {
     "base_uri": "https://localhost:8080/",
     "height": 34
    },
    "colab_type": "code",
    "id": "1wbZUVgaQNx7",
    "outputId": "e5d57ffb-0fdb-4312-96c3-d47c13cbc912"
   },
   "outputs": [
    {
     "name": "stderr",
     "output_type": "stream",
     "text": [
      "Using TensorFlow backend.\n"
     ]
    }
   ],
   "source": [
    "import pandas as pd\n",
    "from keras.preprocessing.sequence import pad_sequences\n",
    "import pickle\n",
    "from scipy.sparse import hstack"
   ]
  },
  {
   "cell_type": "markdown",
   "metadata": {
    "colab_type": "text",
    "id": "wbTfQz9iQNx-"
   },
   "source": [
    "## Creating Model Class"
   ]
  },
  {
   "cell_type": "code",
   "execution_count": 2,
   "metadata": {
    "colab": {},
    "colab_type": "code",
    "id": "FtxkrD0Gsd91"
   },
   "outputs": [],
   "source": [
    "class agegroup():\n",
    "  def __init__(self):\n",
    "        self.model_events = pickle.load(open(\"xgb_model_events.pkl\", \"rb\")) \n",
    "        self.model_noevents = pickle.load(open(\"xgb_model_noevents.pkl\", \"rb\")) \n",
    "        \n",
    "        self.noevents_brand = pickle.load(open(\"noevents_vectorizers/brand_vec.pkl\", \"rb\")) \n",
    "        self.noevents_model = pickle.load(open(\"noevents_vectorizers/model_vec.pkl\", \"rb\")) \n",
    "        self.noevents_y = pickle.load(open(\"noevents_vectorizers/y_encoder.pkl\", \"rb\")) \n",
    "        \n",
    "        self.events_brand = pickle.load(open(\"events_vectorizers/brand_vec.pkl\", \"rb\")) \n",
    "        self.events_model = pickle.load(open(\"events_vectorizers/model_vec.pkl\", \"rb\")) \n",
    "        self.events_installed = pickle.load(open(\"events_vectorizers/installed_vec.pkl\", \"rb\")) \n",
    "        self.events_active = pickle.load(open(\"events_vectorizers/active_vec.pkl\", \"rb\")) \n",
    "        self.events_y = pickle.load(open(\"events_vectorizers/y_encoder.pkl\", \"rb\")) \n",
    "        \n",
    "            \n",
    "  def __determine_model(self):\n",
    "        if self.inputs.shape[0]==14:\n",
    "            self.model = self.model_noevents\n",
    "        else:\n",
    "            self.model = self.model_events\n",
    "                \n",
    "  def __create_feature_vector(self):\n",
    "        if self.inputs.shape[0]==14:\n",
    "            self.x = hstack((self.noevents_brand.transform([self.inputs['brand']]), self.noevents_model.transform([self.inputs['model']]), \n",
    "                             self.inputs['screen_size'], self.inputs['ram_gb'], self.inputs['camera'], self.inputs['specs_available'], \n",
    "                             self.inputs['release_bin'], self.inputs['female_pred'], self.inputs['male_pred'],\n",
    "                             self.inputs['pred_age']))\n",
    "        else:\n",
    "            self.x = hstack((self.events_brand.transform([self.inputs['brand']]), self.events_model.transform([self.inputs['model']]), \n",
    "                             self.events_installed.transform([self.inputs['installed_apps_string']]), self.events_active.transform([self.inputs['active_apps_string']]),  \n",
    "                             self.inputs['screen_size'], self.inputs['ram_gb'], self.inputs['camera'], self.inputs['specs_available'], \n",
    "                             self.inputs['release_bin'], self.inputs['female_pred'], self.inputs['male_pred'], self.inputs['pred_age'], \n",
    "                             self.inputs['num_travels'], self.inputs['mean_latitude'], self.inputs['mean_longitude'], self.inputs['app_usage'], \n",
    "                             self.inputs['app_usage_session'], self.inputs['activity_hour'], self.inputs['activity_day'], self.inputs['installed_app_onehot'], \n",
    "                             self.inputs['active_app_onehot'], self.inputs['active_app_usage'], self.inputs['location_available'])) \n",
    "        \n",
    "                        \n",
    "  def predict(self, inputs):\n",
    "        self.inputs = inputs\n",
    "        self.__determine_model()\n",
    "        self.__create_feature_vector()\n",
    "        \n",
    "        self.y = self.model.predict(self.x)\n",
    "        \n",
    "        if self.inputs.shape[0]==14:\n",
    "            print(self.noevents_y.inverse_transform(self.y)[0])\n",
    "        else:\n",
    "            print(self.events_y.inverse_transform(self.y)[0])"
   ]
  },
  {
   "cell_type": "markdown",
   "metadata": {
    "colab_type": "text",
    "id": "0kL5T2zmQNyB"
   },
   "source": [
    "## Loading the Dataset to obtain test data"
   ]
  },
  {
   "cell_type": "code",
   "execution_count": 5,
   "metadata": {
    "colab": {},
    "colab_type": "code",
    "id": "34dVAvVfQNyB"
   },
   "outputs": [],
   "source": [
    "df_noevents = pd.read_pickle(\"eval_data/noevents_test.pkl\")\n",
    "df_events = pd.read_pickle(\"eval_data/events_test.pkl\")"
   ]
  },
  {
   "cell_type": "code",
   "execution_count": 6,
   "metadata": {},
   "outputs": [],
   "source": [
    "test_event = df_events.loc[40174]\n",
    "test_noevent = df_noevents.loc[29491]"
   ]
  },
  {
   "cell_type": "code",
   "execution_count": 7,
   "metadata": {
    "colab": {
     "base_uri": "https://localhost:8080/",
     "height": 34
    },
    "colab_type": "code",
    "id": "eIVNCXqI3V2-",
    "outputId": "b4e5df77-0689-4863-86a5-d940107d3ab9"
   },
   "outputs": [],
   "source": [
    "model = agegroup()"
   ]
  },
  {
   "cell_type": "markdown",
   "metadata": {
    "colab_type": "text",
    "id": "XwAv_HTVDctq"
   },
   "source": [
    "## Prediction"
   ]
  },
  {
   "cell_type": "code",
   "execution_count": 8,
   "metadata": {
    "colab": {
     "base_uri": "https://localhost:8080/",
     "height": 34
    },
    "colab_type": "code",
    "id": "vZ--EgybESjJ",
    "outputId": "2a2d63f2-b7b6-4993-e34e-441d83e87224"
   },
   "outputs": [
    {
     "name": "stdout",
     "output_type": "stream",
     "text": [
      "M23-26\n"
     ]
    }
   ],
   "source": [
    "model.predict(test_noevent)"
   ]
  },
  {
   "cell_type": "code",
   "execution_count": 9,
   "metadata": {},
   "outputs": [
    {
     "name": "stdout",
     "output_type": "stream",
     "text": [
      "M22-\n"
     ]
    }
   ],
   "source": [
    "model.predict(test_event)"
   ]
  }
 ],
 "metadata": {
  "colab": {
   "collapsed_sections": [],
   "name": "final_notebook_old.ipynb",
   "provenance": [],
   "toc_visible": true
  },
  "kernelspec": {
   "display_name": "Python 3",
   "language": "python",
   "name": "python3"
  },
  "language_info": {
   "codemirror_mode": {
    "name": "ipython",
    "version": 3
   },
   "file_extension": ".py",
   "mimetype": "text/x-python",
   "name": "python",
   "nbconvert_exporter": "python",
   "pygments_lexer": "ipython3",
   "version": "3.6.10"
  }
 },
 "nbformat": 4,
 "nbformat_minor": 1
}
