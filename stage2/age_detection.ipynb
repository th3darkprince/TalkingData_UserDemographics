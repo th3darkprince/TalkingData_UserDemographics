{
 "cells": [
  {
   "cell_type": "markdown",
   "metadata": {},
   "source": [
    "## Import Libraries"
   ]
  },
  {
   "cell_type": "code",
   "execution_count": 1,
   "metadata": {},
   "outputs": [],
   "source": [
    "import pandas as pd                                                #import dataset\n",
    "from sklearn.model_selection import train_test_split               #split dataset into train and test\n",
    "from sklearn.metrics import mean_squared_error                     #metrics\n",
    "import numpy as np                                                 #numpy operations\n",
    "import seaborn as sns                                              #plotting\n",
    "import matplotlib.pyplot as plt                                    #plotting\n",
    "from scipy.sparse import hstack, vstack                            #concatenation of features\n",
    "import itertools                                                   #loop through hyperparameters\n",
    "import xgboost as xgb                                              #XGBoost Regressor\n",
    "from sklearn.model_selection import RandomizedSearchCV             #hyperparamter tuning\n",
    "from tqdm import tqdm                                              #to track progress\n",
    "from sklearn.preprocessing import Normalizer, StandardScaler       #standardizing\n",
    "from sklearn.feature_extraction.text import TfidfVectorizer        #TF IDF Vectorizer\n",
    "from prettytable import PrettyTable                                #summarize results\n",
    "from sklearn.linear_model import SGDRegressor                      #Linear regressor\n",
    "from sklearn.svm import SVR                                        #SVM regressor"
   ]
  },
  {
   "cell_type": "markdown",
   "metadata": {},
   "source": [
    "## Data Import"
   ]
  },
  {
   "cell_type": "code",
   "execution_count": 2,
   "metadata": {},
   "outputs": [],
   "source": [
    "df_noevents = pd.read_pickle(\"dataset/gender_predictions/df_train_noevents.pkl\")\n",
    "df_events = pd.read_pickle(\"dataset/gender_predictions/df_train_events.pkl\")"
   ]
  },
  {
   "cell_type": "markdown",
   "metadata": {},
   "source": [
    "## Data Cleaning"
   ]
  },
  {
   "cell_type": "code",
   "execution_count": 3,
   "metadata": {},
   "outputs": [],
   "source": [
    "df_noevents.loc[df_noevents['specs_available']==0,'screen_size']=0\n",
    "df_noevents.loc[df_noevents['specs_available']==0,'ram_gb']=0\n",
    "df_noevents.loc[df_noevents['specs_available']==0,'camera']=0"
   ]
  },
  {
   "cell_type": "code",
   "execution_count": 4,
   "metadata": {},
   "outputs": [],
   "source": [
    "df_events.loc[df_events['specs_available']==0,'screen_size']=0\n",
    "df_events.loc[df_events['specs_available']==0,'ram_gb']=0\n",
    "df_events.loc[df_events['specs_available']==0,'camera']=0\n",
    "df_events.loc[df_events['app_usage'].isna(),'app_usage']=0\n",
    "df_events.loc[df_events['app_usage_session'].isna(),'app_usage_session']=0"
   ]
  },
  {
   "cell_type": "markdown",
   "metadata": {},
   "source": [
    "### Splitting into Train, Cross-Validate and Test Sets"
   ]
  },
  {
   "cell_type": "code",
   "execution_count": 5,
   "metadata": {},
   "outputs": [],
   "source": [
    "df_noevents_data, df_noevents_test = train_test_split(df_noevents, test_size = 0.2)\n",
    "df_noevents_train, df_noevents_cv = train_test_split(df_noevents_data, test_size = 0.2)"
   ]
  },
  {
   "cell_type": "code",
   "execution_count": 6,
   "metadata": {},
   "outputs": [],
   "source": [
    "df_events_data, df_events_test = train_test_split(df_events, test_size = 0.2)\n",
    "df_events_train, df_events_cv = train_test_split(df_events_data, test_size = 0.2)"
   ]
  },
  {
   "cell_type": "code",
   "execution_count": 7,
   "metadata": {},
   "outputs": [
    {
     "name": "stdout",
     "output_type": "stream",
     "text": [
      "(32867, 13) (8217, 13) (10271, 13)\n",
      "(14905, 26) (3727, 26) (4658, 26)\n"
     ]
    }
   ],
   "source": [
    "print(df_noevents_train.shape, df_noevents_cv.shape, df_noevents_test.shape)\n",
    "print(df_events_train.shape, df_events_cv.shape, df_events_test.shape)"
   ]
  },
  {
   "cell_type": "code",
   "execution_count": 8,
   "metadata": {},
   "outputs": [
    {
     "name": "stdout",
     "output_type": "stream",
     "text": [
      "Index(['device_id', 'brand', 'model', 'gender', 'age', 'group', 'screen_size',\n",
      "       'ram_gb', 'camera', 'specs_available', 'female_pred', 'male_pred',\n",
      "       'release_bin'],\n",
      "      dtype='object')\n",
      "Index(['device_id', 'brand', 'model', 'gender', 'age', 'group', 'app_usage',\n",
      "       'app_usage_session', 'active_app_usage_counts', 'activity_hour',\n",
      "       'activity_day', 'num_travels', 'mean_latitude', 'mean_longitude',\n",
      "       'screen_size', 'ram_gb', 'camera', 'installed_app_labels',\n",
      "       'active_app_labels', 'installed_app_counts', 'active_app_usage',\n",
      "       'location_available', 'specs_available', 'female_pred', 'male_pred',\n",
      "       'release_bin'],\n",
      "      dtype='object')\n"
     ]
    }
   ],
   "source": [
    "print(df_noevents_train.columns)\n",
    "print(df_events_train.columns)"
   ]
  },
  {
   "cell_type": "markdown",
   "metadata": {},
   "source": [
    "## No Events"
   ]
  },
  {
   "cell_type": "markdown",
   "metadata": {},
   "source": [
    "## Utility Functions"
   ]
  },
  {
   "cell_type": "code",
   "execution_count": 9,
   "metadata": {},
   "outputs": [],
   "source": [
    "def hyperparameter_tuning(regressor, hp_list, hp, X_train, y_train, X_cv, y_cv, X_test, y_test):\n",
    "    \"\"\"Function to perform Hyperparameter tuning of the models. Takes the model name, hyperparameter name and list \n",
    "    along with the train, cross validation and test datasets as input\"\"\"\n",
    "    \n",
    "    #stores the losses\n",
    "    cv_log_error_array = []\n",
    "    \n",
    "    for i in hp_list:\n",
    "        \n",
    "        print(\"for {} = {}\".format(hp,i))\n",
    "        \n",
    "        #initialize the classifier with the hyperparameter\n",
    "        if regressor == \"lr-l2\":\n",
    "            reg = SGDRegressor(penalty='l2', alpha=i)\n",
    "        elif regressor == \"lr-l1\":\n",
    "            reg = SGDRegressor(penalty='l1', alpha=i)\n",
    "        elif regressor == \"svr-rbf\":\n",
    "            reg = SVR(kernel='rbf', C=i)\n",
    "        elif regressor == \"svr-l\":\n",
    "            reg = SVR(kernel='linear', C=i)\n",
    "        \n",
    "        \n",
    "        #fit and train the model\n",
    "        reg.fit(X_train, y_train)\n",
    "        reg_pred = reg.predict(X_cv)\n",
    "        cv_log_error_array.append(mean_squared_error(y_cv, reg_pred))\n",
    "        \n",
    "        # to avoid rounding error while multiplying probabilites we use log-probability estimates\n",
    "        print(\"Squared error :\",mean_squared_error(y_cv, reg_pred)) \n",
    "\n",
    "    #select the hyperparameter with the best performance metric\n",
    "    best_hp = np.argmin(cv_log_error_array)\n",
    "    \n",
    "    #retraining with the best hyperparameter\n",
    "    if regressor == \"lr-l2\":\n",
    "        reg = SGDRegressor(penalty='l2', alpha=hp_list[best_hp])\n",
    "    elif regressor == \"lr-l1\":\n",
    "        reg = SGDRegressor(penalty='l1', alpha=hp_list[best_hp])\n",
    "    elif regressor == \"svr-rbf\":\n",
    "        reg = SVR(kernel='rbf', C=hp_list[best_hp])\n",
    "    elif regressor == \"svr-l\":\n",
    "        reg = SVR(kernel='linear', C=hp_list[best_hp])\n",
    "    \n",
    "    reg.fit(X_train, y_train)\n",
    "       \n",
    "    #getting train, cross validation and test log loss\n",
    "    predict_y = reg.predict(X_train)\n",
    "    train_loss = mean_squared_error(y_train, predict_y)\n",
    "    print('For values of best ',hp,' = ', hp_list[best_hp], \"The train squared error is:\", train_loss)\n",
    "    predict_y = reg.predict(X_cv)\n",
    "    cv_loss = mean_squared_error(y_cv, predict_y)\n",
    "    print('For values of best ',hp,' = ', hp_list[best_hp], \"The cross validation squared error is:\", cv_loss)\n",
    "    predict_y = reg.predict(X_test)\n",
    "    test_loss = mean_squared_error(y_test, predict_y)\n",
    "    print('For values of best ',hp,' = ', hp_list[best_hp], \"The test squared error is:\", test_loss)\n",
    "    \n",
    "    return test_loss"
   ]
  },
  {
   "cell_type": "markdown",
   "metadata": {},
   "source": [
    "### Feature Variables"
   ]
  },
  {
   "cell_type": "code",
   "execution_count": 10,
   "metadata": {},
   "outputs": [],
   "source": [
    "noevents_brand_encoder = TfidfVectorizer()\n",
    "\n",
    "noevents_brand_train = noevents_brand_encoder.fit_transform(df_noevents_train['brand'])\n",
    "noevents_brand_cv = noevents_brand_encoder.transform(df_noevents_cv['brand'])\n",
    "noevents_brand_test = noevents_brand_encoder.transform(df_noevents_test['brand'])"
   ]
  },
  {
   "cell_type": "code",
   "execution_count": 11,
   "metadata": {},
   "outputs": [],
   "source": [
    "noevents_model_encoder = TfidfVectorizer()\n",
    "\n",
    "noevents_model_train = noevents_model_encoder.fit_transform(df_noevents_train['model'])\n",
    "noevents_model_cv = noevents_model_encoder.transform(df_noevents_cv['model'])\n",
    "noevents_model_test = noevents_model_encoder.transform(df_noevents_test['model'])"
   ]
  },
  {
   "cell_type": "code",
   "execution_count": 12,
   "metadata": {},
   "outputs": [],
   "source": [
    "noevents_x_train = hstack((noevents_brand_train, noevents_model_train))\n",
    "noevents_x_cv = hstack((noevents_brand_cv, noevents_model_cv))\n",
    "noevents_x_test = hstack((noevents_brand_test, noevents_model_test))"
   ]
  },
  {
   "cell_type": "markdown",
   "metadata": {},
   "source": [
    "### Target Variables"
   ]
  },
  {
   "cell_type": "code",
   "execution_count": 13,
   "metadata": {},
   "outputs": [],
   "source": [
    "noevents_y_train = df_noevents_train['age']\n",
    "noevents_y_cv = df_noevents_cv['age']\n",
    "noevents_y_test = df_noevents_test['age']"
   ]
  },
  {
   "cell_type": "code",
   "execution_count": 14,
   "metadata": {},
   "outputs": [
    {
     "name": "stdout",
     "output_type": "stream",
     "text": [
      "for alpha = 1e-06\n",
      "Squared error : 95.52341878415832\n",
      "for alpha = 1e-05\n",
      "Squared error : 95.50810322309036\n",
      "for alpha = 0.0001\n",
      "Squared error : 95.32938806965176\n",
      "for alpha = 0.001\n",
      "Squared error : 95.16945076640057\n",
      "for alpha = 0.01\n",
      "Squared error : 94.88997206694378\n",
      "for alpha = 0.1\n",
      "Squared error : 95.58721524962007\n",
      "for alpha = 1\n",
      "Squared error : 96.82189480643736\n",
      "for alpha = 10\n",
      "Squared error : 97.30932627133294\n",
      "for alpha = 100\n",
      "Squared error : 97.32446422966807\n",
      "For values of best  alpha  =  0.01 The train squared error is: 94.34106077957861\n",
      "For values of best  alpha  =  0.01 The cross validation squared error is: 94.89081637561932\n",
      "For values of best  alpha  =  0.01 The test squared error is: 94.59755890108413\n"
     ]
    }
   ],
   "source": [
    "noevents_model_lrl2 = \"No Events - Ridge Regression\"\n",
    "\n",
    "alpha = [10 ** x for x in range(-6, 3)]\n",
    "\n",
    "noevents_mse_lrl2 = hyperparameter_tuning(\"lr-l2\", alpha, \"alpha\", noevents_x_train, noevents_y_train, noevents_x_cv, noevents_y_cv, noevents_x_test, noevents_y_test)"
   ]
  },
  {
   "cell_type": "code",
   "execution_count": 15,
   "metadata": {},
   "outputs": [
    {
     "name": "stdout",
     "output_type": "stream",
     "text": [
      "for alpha = 1e-06\n",
      "Squared error : 95.52666786890819\n",
      "for alpha = 1e-05\n",
      "Squared error : 95.51671118308965\n",
      "for alpha = 0.0001\n",
      "Squared error : 95.45144436024934\n",
      "for alpha = 0.001\n",
      "Squared error : 95.38433272908036\n",
      "for alpha = 0.01\n",
      "Squared error : 95.17970006723331\n",
      "for alpha = 0.1\n",
      "Squared error : 96.35832921316091\n",
      "for alpha = 1\n",
      "Squared error : 97.3441000975766\n",
      "for alpha = 10\n",
      "Squared error : 97.34355760971404\n",
      "for alpha = 100\n",
      "Squared error : 97.34347832879641\n",
      "For values of best  alpha  =  0.01 The train squared error is: 94.9684364042655\n",
      "For values of best  alpha  =  0.01 The cross validation squared error is: 95.18445276310342\n",
      "For values of best  alpha  =  0.01 The test squared error is: 95.15704461367886\n"
     ]
    }
   ],
   "source": [
    "noevents_model_lrl1 = \"No Events - Lasso Regression\"\n",
    "\n",
    "alpha = [10 ** x for x in range(-6, 3)]\n",
    "\n",
    "noevents_mse_lrl1 = hyperparameter_tuning(\"lr-l1\", alpha, \"alpha\", noevents_x_train, noevents_y_train, noevents_x_cv, noevents_y_cv, noevents_x_test, noevents_y_test)"
   ]
  },
  {
   "cell_type": "code",
   "execution_count": 16,
   "metadata": {},
   "outputs": [
    {
     "name": "stdout",
     "output_type": "stream",
     "text": [
      "Fitting 2 folds for each of 30 candidates, totalling 60 fits\n"
     ]
    },
    {
     "name": "stderr",
     "output_type": "stream",
     "text": [
      "[Parallel(n_jobs=8)]: Using backend LokyBackend with 8 concurrent workers.\n",
      "[Parallel(n_jobs=8)]: Done  25 tasks      | elapsed:    3.6s\n",
      "[Parallel(n_jobs=8)]: Done  60 out of  60 | elapsed:    7.5s finished\n"
     ]
    },
    {
     "name": "stdout",
     "output_type": "stream",
     "text": [
      "The test mean squared error is: 94.32567334444948\n"
     ]
    }
   ],
   "source": [
    "noevents_model_xgb = \"No Events - RBF XGBRegressor\"\n",
    "\n",
    "params = {\n",
    "'eta':[0.02, 0.01, 0.1, 0.5],\n",
    "'max_depth':[4,6,8,10],\n",
    "'n_estimators':[5,10,20,50,100]\n",
    "}\n",
    "reg_age_noevents = xgb.XGBRegressor()\n",
    "x = vstack((noevents_x_train, noevents_x_cv))\n",
    "y = np.concatenate([df_noevents_train['age'], df_noevents_cv['age']])\n",
    "#trying out 30 possible combinations of hyperparameters\n",
    "rs_reg = RandomizedSearchCV(reg_age_noevents, params, verbose = 2, cv = 2, n_iter = 30, n_jobs=8)\n",
    "rs_reg.fit(x,y)\n",
    "best_reg_age_noevents = rs_reg.best_estimator_\n",
    "predict_y = best_reg_age_noevents.predict(noevents_x_test)\n",
    "noevents_mse_xgb = mean_squared_error(df_noevents_test['age'], predict_y)\n",
    "print(\"The test mean squared error is:\",noevents_mse_xgb)"
   ]
  },
  {
   "cell_type": "markdown",
   "metadata": {},
   "source": [
    "## Results for records without events"
   ]
  },
  {
   "cell_type": "code",
   "execution_count": 17,
   "metadata": {},
   "outputs": [
    {
     "name": "stdout",
     "output_type": "stream",
     "text": [
      "+------------------------------+-------------------+\n",
      "|            Model             |        MSE        |\n",
      "+------------------------------+-------------------+\n",
      "| No Events - Ridge Regression | 94.59755890108413 |\n",
      "| No Events - Lasso Regression | 95.15704461367886 |\n",
      "| No Events - RBF XGBRegressor | 94.32567334444948 |\n",
      "+------------------------------+-------------------+\n"
     ]
    }
   ],
   "source": [
    "#summarizing results\n",
    "from prettytable import PrettyTable\n",
    "\n",
    "table = PrettyTable()\n",
    "\n",
    "table.field_names = [\"Model\", \"MSE\"]\n",
    "\n",
    "table.add_row([noevents_model_lrl2, noevents_mse_lrl2])\n",
    "table.add_row([noevents_model_lrl1, noevents_mse_lrl1])\n",
    "table.add_row([noevents_model_xgb, noevents_mse_xgb])\n",
    "\n",
    "print(table)"
   ]
  },
  {
   "cell_type": "markdown",
   "metadata": {},
   "source": [
    "## Including device specifications"
   ]
  },
  {
   "cell_type": "code",
   "execution_count": 18,
   "metadata": {},
   "outputs": [],
   "source": [
    "scaler = StandardScaler()"
   ]
  },
  {
   "cell_type": "code",
   "execution_count": 19,
   "metadata": {},
   "outputs": [],
   "source": [
    "noevents_screen_train = scaler.fit_transform(df_noevents_train['screen_size'].values.reshape(-1,1))\n",
    "noevents_screen_cv = scaler.transform(df_noevents_cv['screen_size'].values.reshape(-1,1))\n",
    "noevents_screen_test = scaler.transform(df_noevents_test['screen_size'].values.reshape(-1,1))"
   ]
  },
  {
   "cell_type": "code",
   "execution_count": 20,
   "metadata": {},
   "outputs": [],
   "source": [
    "noevents_ram_train = scaler.fit_transform(df_noevents_train['ram_gb'].values.reshape(-1,1))\n",
    "noevents_ram_cv = scaler.transform(df_noevents_cv['ram_gb'].values.reshape(-1,1))\n",
    "noevents_ram_test = scaler.transform(df_noevents_test['ram_gb'].values.reshape(-1,1))"
   ]
  },
  {
   "cell_type": "code",
   "execution_count": 21,
   "metadata": {},
   "outputs": [],
   "source": [
    "noevents_camera_train = scaler.fit_transform(df_noevents_train['camera'].values.reshape(-1,1))\n",
    "noevents_camera_cv = scaler.transform(df_noevents_cv['camera'].values.reshape(-1,1))\n",
    "noevents_camera_test = scaler.transform(df_noevents_test['camera'].values.reshape(-1,1))"
   ]
  },
  {
   "cell_type": "code",
   "execution_count": 22,
   "metadata": {},
   "outputs": [],
   "source": [
    "noevents_release_train = scaler.fit_transform(df_noevents_train['release_bin'].values.reshape(-1,1))\n",
    "noevents_release_cv = scaler.transform(df_noevents_cv['release_bin'].values.reshape(-1,1))\n",
    "noevents_release_test = scaler.transform(df_noevents_test['release_bin'].values.reshape(-1,1))"
   ]
  },
  {
   "cell_type": "code",
   "execution_count": 23,
   "metadata": {},
   "outputs": [],
   "source": [
    "noevents_x_train = hstack((noevents_brand_train, noevents_model_train, noevents_screen_train, noevents_ram_train, \n",
    "                           noevents_camera_train, noevents_release_train, df_noevents_train['specs_available'].values.reshape(-1,1)))\n",
    "noevents_x_cv = hstack((noevents_brand_cv, noevents_model_cv, noevents_screen_cv, noevents_ram_cv,\n",
    "                        noevents_camera_cv, noevents_release_cv, df_noevents_cv['specs_available'].values.reshape(-1,1)))\n",
    "noevents_x_test = hstack((noevents_brand_test, noevents_model_test, noevents_screen_test, noevents_ram_test,\n",
    "                          noevents_camera_test, noevents_release_test, df_noevents_test['specs_available'].values.reshape(-1,1)))"
   ]
  },
  {
   "cell_type": "code",
   "execution_count": 24,
   "metadata": {},
   "outputs": [
    {
     "name": "stdout",
     "output_type": "stream",
     "text": [
      "for alpha = 1e-06\n",
      "Squared error : 95.9081269485412\n",
      "for alpha = 1e-05\n",
      "Squared error : 95.89260543077627\n",
      "for alpha = 0.0001\n",
      "Squared error : 95.83876979811068\n",
      "for alpha = 0.001\n",
      "Squared error : 96.33217765732775\n",
      "for alpha = 0.01\n",
      "Squared error : 97.2888999447876\n",
      "for alpha = 0.1\n",
      "Squared error : 95.46657129687436\n",
      "for alpha = 1\n",
      "Squared error : 96.46977323562638\n",
      "for alpha = 10\n",
      "Squared error : 97.20566582660639\n",
      "for alpha = 100\n",
      "Squared error : 97.30888558721028\n",
      "For values of best  alpha  =  0.1 The train squared error is: 95.54667338706129\n",
      "For values of best  alpha  =  0.1 The cross validation squared error is: 95.45510525067715\n",
      "For values of best  alpha  =  0.1 The test squared error is: 95.27041430554122\n"
     ]
    }
   ],
   "source": [
    "noevents_model_lrl2 = \"No Events - Ridge Regression\"\n",
    "\n",
    "alpha = [10 ** x for x in range(-6, 3)]\n",
    "\n",
    "noevents_mse_lrl2 = hyperparameter_tuning(\"lr-l2\", alpha, \"alpha\", noevents_x_train, noevents_y_train, noevents_x_cv, noevents_y_cv, noevents_x_test, noevents_y_test)"
   ]
  },
  {
   "cell_type": "code",
   "execution_count": 25,
   "metadata": {},
   "outputs": [
    {
     "name": "stdout",
     "output_type": "stream",
     "text": [
      "for alpha = 1e-06\n",
      "Squared error : 95.92020183839617\n",
      "for alpha = 1e-05\n",
      "Squared error : 95.90242361792455\n",
      "for alpha = 0.0001\n",
      "Squared error : 95.89707843956855\n",
      "for alpha = 0.001\n",
      "Squared error : 96.29568419260394\n",
      "for alpha = 0.01\n",
      "Squared error : 98.34012079932197\n",
      "for alpha = 0.1\n",
      "Squared error : 99.40409663061499\n",
      "for alpha = 1\n",
      "Squared error : 99.74208489713766\n",
      "for alpha = 10\n",
      "Squared error : 97.34381374761597\n",
      "for alpha = 100\n",
      "Squared error : 97.34348158444246\n",
      "For values of best  alpha  =  0.0001 The train squared error is: 92.98299255698304\n",
      "For values of best  alpha  =  0.0001 The cross validation squared error is: 95.99105299033506\n",
      "For values of best  alpha  =  0.0001 The test squared error is: 95.4478632277314\n"
     ]
    }
   ],
   "source": [
    "noevents_model_lrl1 = \"No Events - Lasso Regression\"\n",
    "\n",
    "alpha = [10 ** x for x in range(-6, 3)]\n",
    "\n",
    "noevents_mse_lrl1 = hyperparameter_tuning(\"lr-l1\", alpha, \"alpha\", noevents_x_train, noevents_y_train, noevents_x_cv, noevents_y_cv, noevents_x_test, noevents_y_test)"
   ]
  },
  {
   "cell_type": "code",
   "execution_count": 26,
   "metadata": {},
   "outputs": [
    {
     "name": "stdout",
     "output_type": "stream",
     "text": [
      "Fitting 2 folds for each of 30 candidates, totalling 60 fits\n"
     ]
    },
    {
     "name": "stderr",
     "output_type": "stream",
     "text": [
      "[Parallel(n_jobs=8)]: Using backend LokyBackend with 8 concurrent workers.\n",
      "[Parallel(n_jobs=8)]: Done  25 tasks      | elapsed:    3.1s\n",
      "[Parallel(n_jobs=8)]: Done  60 out of  60 | elapsed:    6.6s finished\n"
     ]
    },
    {
     "name": "stdout",
     "output_type": "stream",
     "text": [
      "The test mean squared error is: 94.2153166085976\n"
     ]
    }
   ],
   "source": [
    "noevents_model_xgb = \"No Events - RBF XGBRegressor\"\n",
    "\n",
    "params = {\n",
    "'eta':[0.02, 0.01, 0.1, 0.5],\n",
    "'max_depth':[4,6,8,10],\n",
    "'n_estimators':[5,10,20,50,100]\n",
    "}\n",
    "reg_age_noevents = xgb.XGBRegressor()\n",
    "x = vstack((noevents_x_train, noevents_x_cv))\n",
    "y = np.concatenate([df_noevents_train['age'], df_noevents_cv['age']])\n",
    "#trying out 30 possible combinations of hyperparameters\n",
    "rs_reg = RandomizedSearchCV(reg_age_noevents, params, verbose = 2, cv = 2, n_iter = 30, n_jobs=8)\n",
    "rs_reg.fit(x,y)\n",
    "best_reg_age_noevents = rs_reg.best_estimator_\n",
    "predict_y = best_reg_age_noevents.predict(noevents_x_test)\n",
    "noevents_mse_xgb = mean_squared_error(df_noevents_test['age'], predict_y)\n",
    "print(\"The test mean squared error is:\",noevents_mse_xgb)"
   ]
  },
  {
   "cell_type": "markdown",
   "metadata": {},
   "source": [
    "## Results for records without events"
   ]
  },
  {
   "cell_type": "code",
   "execution_count": 27,
   "metadata": {},
   "outputs": [
    {
     "name": "stdout",
     "output_type": "stream",
     "text": [
      "+------------------------------+-------------------+\n",
      "|            Model             |        MSE        |\n",
      "+------------------------------+-------------------+\n",
      "| No Events - Ridge Regression | 95.27041430554122 |\n",
      "| No Events - Lasso Regression |  95.4478632277314 |\n",
      "| No Events - RBF XGBRegressor |  94.2153166085976 |\n",
      "+------------------------------+-------------------+\n"
     ]
    }
   ],
   "source": [
    "#summarizing results\n",
    "from prettytable import PrettyTable\n",
    "\n",
    "table = PrettyTable()\n",
    "\n",
    "table.field_names = [\"Model\", \"MSE\"]\n",
    "\n",
    "table.add_row([noevents_model_lrl2, noevents_mse_lrl2])\n",
    "table.add_row([noevents_model_lrl1, noevents_mse_lrl1])\n",
    "table.add_row([noevents_model_xgb, noevents_mse_xgb])\n",
    "\n",
    "print(table)"
   ]
  },
  {
   "cell_type": "markdown",
   "metadata": {},
   "source": [
    "## With Events"
   ]
  },
  {
   "cell_type": "code",
   "execution_count": 28,
   "metadata": {},
   "outputs": [],
   "source": [
    "events_brand_encoder = TfidfVectorizer()\n",
    "\n",
    "events_brand_train = events_brand_encoder.fit_transform(df_events_train['brand'])\n",
    "events_brand_cv = events_brand_encoder.transform(df_events_cv['brand'])\n",
    "events_brand_test = events_brand_encoder.transform(df_events_test['brand'])"
   ]
  },
  {
   "cell_type": "code",
   "execution_count": 29,
   "metadata": {},
   "outputs": [],
   "source": [
    "events_model_encoder = TfidfVectorizer()\n",
    "\n",
    "events_model_train = events_model_encoder.fit_transform(df_events_train['model'])\n",
    "events_model_cv = events_model_encoder.transform(df_events_cv['model'])\n",
    "events_model_test = events_model_encoder.transform(df_events_test['model'])"
   ]
  },
  {
   "cell_type": "code",
   "execution_count": 30,
   "metadata": {},
   "outputs": [],
   "source": [
    "events_active_labels_encoder = TfidfVectorizer()\n",
    "\n",
    "events_active_labels_train = events_active_labels_encoder.fit_transform(df_events_train['active_app_labels'])\n",
    "events_active_labels_cv = events_active_labels_encoder.transform(df_events_cv['active_app_labels'])\n",
    "events_active_labels_test = events_active_labels_encoder.transform(df_events_test['active_app_labels'])"
   ]
  },
  {
   "cell_type": "code",
   "execution_count": 31,
   "metadata": {},
   "outputs": [],
   "source": [
    "events_installed_labels_encoder = TfidfVectorizer()\n",
    "\n",
    "events_installed_labels_train = events_installed_labels_encoder.fit_transform(df_events_train['installed_app_labels'])\n",
    "events_installed_labels_cv = events_installed_labels_encoder.transform(df_events_cv['installed_app_labels'])\n",
    "events_installed_labels_test = events_installed_labels_encoder.transform(df_events_test['installed_app_labels'])"
   ]
  },
  {
   "cell_type": "code",
   "execution_count": 32,
   "metadata": {},
   "outputs": [],
   "source": [
    "scaler = StandardScaler()"
   ]
  },
  {
   "cell_type": "code",
   "execution_count": 33,
   "metadata": {},
   "outputs": [],
   "source": [
    "events_lat_train = scaler.fit_transform(df_events_train['mean_latitude'].values.reshape(-1,1))\n",
    "events_lat_cv = scaler.transform(df_events_cv['mean_latitude'].values.reshape(-1,1))\n",
    "events_lat_test = scaler.transform(df_events_test['mean_latitude'].values.reshape(-1,1))"
   ]
  },
  {
   "cell_type": "code",
   "execution_count": 34,
   "metadata": {},
   "outputs": [],
   "source": [
    "events_long_train = scaler.fit_transform(df_events_train['mean_longitude'].values.reshape(-1,1))\n",
    "events_long_cv = scaler.transform(df_events_cv['mean_longitude'].values.reshape(-1,1))\n",
    "events_long_test = scaler.transform(df_events_test['mean_longitude'].values.reshape(-1,1))"
   ]
  },
  {
   "cell_type": "code",
   "execution_count": 35,
   "metadata": {},
   "outputs": [],
   "source": [
    "events_travels_train = scaler.fit_transform(df_events_train['num_travels'].values.reshape(-1,1))\n",
    "events_travels_cv = scaler.transform(df_events_cv['num_travels'].values.reshape(-1,1))\n",
    "events_travels_test = scaler.transform(df_events_test['num_travels'].values.reshape(-1,1))"
   ]
  },
  {
   "cell_type": "code",
   "execution_count": 36,
   "metadata": {},
   "outputs": [],
   "source": [
    "events_x_train = hstack((events_brand_train, events_model_train, events_installed_labels_train, events_active_labels_train,\n",
    "                         events_lat_train, events_long_train, events_travels_train, df_events_train['location_available'].values.reshape(-1,1), \n",
    "                         np.array(df_events_train['activity_hour'].to_list()), np.array(df_events_train['activity_day'].to_list()), \n",
    "                         df_events_train['app_usage'].values.reshape(-1,1), df_events_train['app_usage_session'].values.reshape(-1,1), \n",
    "                         np.array(df_events_train['installed_app_counts'].to_list()), np.array(df_events_train['active_app_usage_counts'].to_list()), \n",
    "                         np.array(df_events_train['active_app_usage'].to_list())))"
   ]
  },
  {
   "cell_type": "code",
   "execution_count": 37,
   "metadata": {},
   "outputs": [],
   "source": [
    "events_x_cv = hstack((events_brand_cv, events_model_cv, events_installed_labels_cv, events_active_labels_cv,\n",
    "                         events_lat_cv, events_long_cv, events_travels_cv, df_events_cv['location_available'].values.reshape(-1,1), \n",
    "                         np.array(df_events_cv['activity_hour'].to_list()), np.array(df_events_cv['activity_day'].to_list()), \n",
    "                         df_events_cv['app_usage'].values.reshape(-1,1), df_events_cv['app_usage_session'].values.reshape(-1,1), \n",
    "                         np.array(df_events_cv['installed_app_counts'].to_list()), np.array(df_events_cv['active_app_usage_counts'].to_list()), \n",
    "                         np.array(df_events_cv['active_app_usage'].to_list())))"
   ]
  },
  {
   "cell_type": "code",
   "execution_count": 38,
   "metadata": {},
   "outputs": [],
   "source": [
    "events_x_test = hstack((events_brand_test, events_model_test, events_installed_labels_test, events_active_labels_test,\n",
    "                         events_lat_test, events_long_test, events_travels_test, df_events_test['location_available'].values.reshape(-1,1), \n",
    "                         np.array(df_events_test['activity_hour'].to_list()), np.array(df_events_test['activity_day'].to_list()), \n",
    "                         df_events_test['app_usage'].values.reshape(-1,1), df_events_test['app_usage_session'].values.reshape(-1,1), \n",
    "                         np.array(df_events_test['installed_app_counts'].to_list()), np.array(df_events_test['active_app_usage_counts'].to_list()), \n",
    "                         np.array(df_events_test['active_app_usage'].to_list())))"
   ]
  },
  {
   "cell_type": "markdown",
   "metadata": {},
   "source": [
    "### Target Variables"
   ]
  },
  {
   "cell_type": "code",
   "execution_count": 39,
   "metadata": {},
   "outputs": [],
   "source": [
    "events_y_train = df_events_train['age']\n",
    "events_y_cv = df_events_cv['age']\n",
    "events_y_test = df_events_test['age']"
   ]
  },
  {
   "cell_type": "code",
   "execution_count": 40,
   "metadata": {},
   "outputs": [
    {
     "name": "stdout",
     "output_type": "stream",
     "text": [
      "for alpha = 1e-06\n",
      "Squared error : 81.97201095961623\n",
      "for alpha = 1e-05\n",
      "Squared error : 81.68781027898974\n",
      "for alpha = 0.0001\n",
      "Squared error : 81.13223551783504\n",
      "for alpha = 0.001\n",
      "Squared error : 80.3038834034991\n",
      "for alpha = 0.01\n",
      "Squared error : 82.65088112082486\n",
      "for alpha = 0.1\n",
      "Squared error : 88.73556225646409\n",
      "for alpha = 1\n",
      "Squared error : 91.97050104339642\n",
      "for alpha = 10\n",
      "Squared error : 96.11970593589973\n",
      "for alpha = 100\n",
      "Squared error : 96.87325591020655\n",
      "For values of best  alpha  =  0.001 The train squared error is: 69.48994999180032\n",
      "For values of best  alpha  =  0.001 The cross validation squared error is: 80.33694141827215\n",
      "For values of best  alpha  =  0.001 The test squared error is: 77.44646388606094\n"
     ]
    }
   ],
   "source": [
    "events_model_lrl2 = \"Events - Ridge Regression\"\n",
    "\n",
    "alpha = [10 ** x for x in range(-6, 3)]\n",
    "\n",
    "events_mse_lrl2 = hyperparameter_tuning(\"lr-l2\", alpha, \"alpha\", events_x_train, events_y_train, events_x_cv, events_y_cv, events_x_test, events_y_test)"
   ]
  },
  {
   "cell_type": "code",
   "execution_count": 41,
   "metadata": {},
   "outputs": [
    {
     "name": "stdout",
     "output_type": "stream",
     "text": [
      "for alpha = 1e-06\n",
      "Squared error : 81.49304104650524\n",
      "for alpha = 1e-05\n",
      "Squared error : 81.56764432200532\n",
      "for alpha = 0.0001\n",
      "Squared error : 81.14212712449111\n",
      "for alpha = 0.001\n",
      "Squared error : 80.11998843787917\n",
      "for alpha = 0.01\n",
      "Squared error : 80.90649734195249\n",
      "for alpha = 0.1\n",
      "Squared error : 91.7375661812818\n",
      "for alpha = 1\n",
      "Squared error : 97.01301798594282\n",
      "for alpha = 10\n",
      "Squared error : 97.0238551575374\n",
      "for alpha = 100\n",
      "Squared error : 97.0226677938974\n",
      "For values of best  alpha  =  0.001 The train squared error is: 69.00880045438521\n",
      "For values of best  alpha  =  0.001 The cross validation squared error is: 80.14887723398519\n",
      "For values of best  alpha  =  0.001 The test squared error is: 77.29103567323254\n"
     ]
    }
   ],
   "source": [
    "events_model_lrl1 = \"Events - Lasso Regression\"\n",
    "\n",
    "alpha = [10 ** x for x in range(-6, 3)]\n",
    "\n",
    "events_mse_lrl1 = hyperparameter_tuning(\"lr-l1\", alpha, \"alpha\", events_x_train, events_y_train, events_x_cv, events_y_cv, events_x_test, events_y_test)"
   ]
  },
  {
   "cell_type": "code",
   "execution_count": 42,
   "metadata": {},
   "outputs": [
    {
     "name": "stdout",
     "output_type": "stream",
     "text": [
      "Fitting 2 folds for each of 30 candidates, totalling 60 fits\n"
     ]
    },
    {
     "name": "stderr",
     "output_type": "stream",
     "text": [
      "[Parallel(n_jobs=8)]: Using backend LokyBackend with 8 concurrent workers.\n",
      "[Parallel(n_jobs=8)]: Done  25 tasks      | elapsed:  3.2min\n",
      "[Parallel(n_jobs=8)]: Done  60 out of  60 | elapsed:  4.9min finished\n"
     ]
    },
    {
     "name": "stdout",
     "output_type": "stream",
     "text": [
      "The test mean squared error is: 72.41928931227304\n"
     ]
    }
   ],
   "source": [
    "events_model_xgb = \"Events - RBF XGBRegressor\"\n",
    "\n",
    "params = {\n",
    "'eta':[0.02, 0.01, 0.1, 0.5],\n",
    "'max_depth':[4,6,8,10],\n",
    "'n_estimators':[5,10,20,50,100]\n",
    "}\n",
    "reg_age_events = xgb.XGBRegressor()\n",
    "x = vstack((events_x_train, events_x_cv))\n",
    "y = np.concatenate([df_events_train['age'], df_events_cv['age']])\n",
    "#trying out 30 possible combinations of hyperparameters\n",
    "rs_reg = RandomizedSearchCV(reg_age_events, params, verbose = 2, cv = 2, n_iter = 30, n_jobs=8)\n",
    "rs_reg.fit(x,y)\n",
    "best_reg_age_events = rs_reg.best_estimator_\n",
    "predict_y = best_reg_age_events.predict(events_x_test)\n",
    "events_mse_xgb = mean_squared_error(df_events_test['age'], predict_y)\n",
    "print(\"The test mean squared error is:\",events_mse_xgb)"
   ]
  },
  {
   "cell_type": "markdown",
   "metadata": {},
   "source": [
    "## Results for records with events"
   ]
  },
  {
   "cell_type": "code",
   "execution_count": 43,
   "metadata": {},
   "outputs": [
    {
     "name": "stdout",
     "output_type": "stream",
     "text": [
      "+---------------------------+-------------------+\n",
      "|           Model           |        MSE        |\n",
      "+---------------------------+-------------------+\n",
      "| Events - Ridge Regression | 77.44646388606094 |\n",
      "| Events - Lasso Regression | 77.29103567323254 |\n",
      "| Events - RBF XGBRegressor | 72.41928931227304 |\n",
      "+---------------------------+-------------------+\n"
     ]
    }
   ],
   "source": [
    "#summarizing results\n",
    "from prettytable import PrettyTable\n",
    "\n",
    "table = PrettyTable()\n",
    "\n",
    "table.field_names = [\"Model\", \"MSE\"]\n",
    "\n",
    "table.add_row([events_model_lrl2, events_mse_lrl2])\n",
    "table.add_row([events_model_lrl1, events_mse_lrl1])\n",
    "table.add_row([events_model_xgb, events_mse_xgb])\n",
    "\n",
    "print(table)"
   ]
  },
  {
   "cell_type": "markdown",
   "metadata": {},
   "source": [
    "## Including device specifications"
   ]
  },
  {
   "cell_type": "code",
   "execution_count": 44,
   "metadata": {},
   "outputs": [],
   "source": [
    "scaler = StandardScaler()"
   ]
  },
  {
   "cell_type": "code",
   "execution_count": 45,
   "metadata": {},
   "outputs": [],
   "source": [
    "events_screen_train = scaler.fit_transform(df_events_train['screen_size'].values.reshape(-1,1))\n",
    "events_screen_cv = scaler.transform(df_events_cv['screen_size'].values.reshape(-1,1))\n",
    "events_screen_test = scaler.transform(df_events_test['screen_size'].values.reshape(-1,1))"
   ]
  },
  {
   "cell_type": "code",
   "execution_count": 46,
   "metadata": {},
   "outputs": [],
   "source": [
    "events_ram_train = scaler.fit_transform(df_events_train['ram_gb'].values.reshape(-1,1))\n",
    "events_ram_cv = scaler.transform(df_events_cv['ram_gb'].values.reshape(-1,1))\n",
    "events_ram_test = scaler.transform(df_events_test['ram_gb'].values.reshape(-1,1))"
   ]
  },
  {
   "cell_type": "code",
   "execution_count": 47,
   "metadata": {},
   "outputs": [],
   "source": [
    "events_camera_train = scaler.fit_transform(df_events_train['camera'].values.reshape(-1,1))\n",
    "events_camera_cv = scaler.transform(df_events_cv['camera'].values.reshape(-1,1))\n",
    "events_camera_test = scaler.transform(df_events_test['camera'].values.reshape(-1,1))"
   ]
  },
  {
   "cell_type": "code",
   "execution_count": 48,
   "metadata": {},
   "outputs": [],
   "source": [
    "events_release_train = scaler.fit_transform(df_events_train['release_bin'].values.reshape(-1,1))\n",
    "events_release_cv = scaler.transform(df_events_cv['release_bin'].values.reshape(-1,1))\n",
    "events_release_test = scaler.transform(df_events_test['release_bin'].values.reshape(-1,1))"
   ]
  },
  {
   "cell_type": "code",
   "execution_count": 49,
   "metadata": {},
   "outputs": [],
   "source": [
    "events_x_train = hstack((events_brand_train, events_model_train, events_installed_labels_train, events_active_labels_train,\n",
    "                         events_lat_train, events_long_train, events_travels_train, df_events_train['location_available'].values.reshape(-1,1), \n",
    "                         np.array(df_events_train['activity_hour'].to_list()), np.array(df_events_train['activity_day'].to_list()), \n",
    "                         df_events_train['app_usage'].values.reshape(-1,1), df_events_train['app_usage_session'].values.reshape(-1,1), \n",
    "                         np.array(df_events_train['installed_app_counts'].to_list()), np.array(df_events_train['active_app_usage_counts'].to_list()), \n",
    "                         np.array(df_events_train['active_app_usage'].to_list()), events_screen_train, events_ram_train,\n",
    "                         events_camera_train, events_release_train, df_events_train['specs_available'].values.reshape(-1,1)))"
   ]
  },
  {
   "cell_type": "code",
   "execution_count": 50,
   "metadata": {},
   "outputs": [],
   "source": [
    "events_x_cv = hstack((events_brand_cv, events_model_cv, events_installed_labels_cv, events_active_labels_cv,\n",
    "                         events_lat_cv, events_long_cv, events_travels_cv, df_events_cv['location_available'].values.reshape(-1,1), \n",
    "                         np.array(df_events_cv['activity_hour'].to_list()), np.array(df_events_cv['activity_day'].to_list()), \n",
    "                         df_events_cv['app_usage'].values.reshape(-1,1), df_events_cv['app_usage_session'].values.reshape(-1,1), \n",
    "                         np.array(df_events_cv['installed_app_counts'].to_list()), np.array(df_events_cv['active_app_usage_counts'].to_list()), \n",
    "                         np.array(df_events_cv['active_app_usage'].to_list()), events_screen_cv, events_ram_cv,\n",
    "                         events_camera_cv, events_release_cv, df_events_cv['specs_available'].values.reshape(-1,1)))"
   ]
  },
  {
   "cell_type": "code",
   "execution_count": 51,
   "metadata": {},
   "outputs": [],
   "source": [
    "events_x_test = hstack((events_brand_test, events_model_test, events_installed_labels_test, events_active_labels_test,\n",
    "                         events_lat_test, events_long_test, events_travels_test, df_events_test['location_available'].values.reshape(-1,1), \n",
    "                         np.array(df_events_test['activity_hour'].to_list()), np.array(df_events_test['activity_day'].to_list()), \n",
    "                         df_events_test['app_usage'].values.reshape(-1,1), df_events_test['app_usage_session'].values.reshape(-1,1), \n",
    "                         np.array(df_events_test['installed_app_counts'].to_list()), np.array(df_events_test['active_app_usage_counts'].to_list()), \n",
    "                         np.array(df_events_test['active_app_usage'].to_list()), events_screen_test, events_ram_test,\n",
    "                         events_camera_test, events_release_test, df_events_test['specs_available'].values.reshape(-1,1)))"
   ]
  },
  {
   "cell_type": "code",
   "execution_count": 52,
   "metadata": {},
   "outputs": [
    {
     "name": "stdout",
     "output_type": "stream",
     "text": [
      "for alpha = 1e-06\n",
      "Squared error : 80.91990292767196\n",
      "for alpha = 1e-05\n",
      "Squared error : 80.78643286011881\n",
      "for alpha = 0.0001\n",
      "Squared error : 80.8562210444454\n",
      "for alpha = 0.001\n",
      "Squared error : 79.91564603481207\n",
      "for alpha = 0.01\n",
      "Squared error : 81.23092823365289\n",
      "for alpha = 0.1\n",
      "Squared error : 89.36693261048036\n",
      "for alpha = 1\n",
      "Squared error : 91.0143459893718\n",
      "for alpha = 10\n",
      "Squared error : 95.55084852391376\n",
      "for alpha = 100\n",
      "Squared error : 96.81708829741255\n",
      "For values of best  alpha  =  0.001 The train squared error is: 68.89550593293215\n",
      "For values of best  alpha  =  0.001 The cross validation squared error is: 79.84256852391462\n",
      "For values of best  alpha  =  0.001 The test squared error is: 76.87472817283391\n"
     ]
    }
   ],
   "source": [
    "events_model_lrl2 = \"Events - Ridge Regression\"\n",
    "\n",
    "alpha = [10 ** x for x in range(-6, 3)]\n",
    "\n",
    "events_mse_lrl2 = hyperparameter_tuning(\"lr-l2\", alpha, \"alpha\", events_x_train, events_y_train, events_x_cv, events_y_cv, events_x_test, events_y_test)"
   ]
  },
  {
   "cell_type": "code",
   "execution_count": 53,
   "metadata": {},
   "outputs": [
    {
     "name": "stdout",
     "output_type": "stream",
     "text": [
      "for alpha = 1e-06\n",
      "Squared error : 80.92866315020876\n",
      "for alpha = 1e-05\n",
      "Squared error : 81.07936663908835\n",
      "for alpha = 0.0001\n",
      "Squared error : 80.6223811086326\n",
      "for alpha = 0.001\n",
      "Squared error : 79.76426568547355\n",
      "for alpha = 0.01\n",
      "Squared error : 80.96990997598805\n",
      "for alpha = 0.1\n",
      "Squared error : 93.25368990686066\n",
      "for alpha = 1\n",
      "Squared error : 103.06126515849023\n",
      "for alpha = 10\n",
      "Squared error : 97.02115060232052\n",
      "for alpha = 100\n",
      "Squared error : 97.02251024550876\n",
      "For values of best  alpha  =  0.001 The train squared error is: 68.68584252086916\n",
      "For values of best  alpha  =  0.001 The cross validation squared error is: 79.84549816886901\n",
      "For values of best  alpha  =  0.001 The test squared error is: 76.67542165571683\n"
     ]
    }
   ],
   "source": [
    "events_model_lrl1 = \"Events - Lasso Regression\"\n",
    "\n",
    "alpha = [10 ** x for x in range(-6, 3)]\n",
    "\n",
    "events_mse_lrl1 = hyperparameter_tuning(\"lr-l1\", alpha, \"alpha\", events_x_train, events_y_train, events_x_cv, events_y_cv, events_x_test, events_y_test)"
   ]
  },
  {
   "cell_type": "code",
   "execution_count": 54,
   "metadata": {},
   "outputs": [
    {
     "name": "stdout",
     "output_type": "stream",
     "text": [
      "Fitting 2 folds for each of 30 candidates, totalling 60 fits\n"
     ]
    },
    {
     "name": "stderr",
     "output_type": "stream",
     "text": [
      "[Parallel(n_jobs=8)]: Using backend LokyBackend with 8 concurrent workers.\n",
      "[Parallel(n_jobs=8)]: Done  25 tasks      | elapsed:  2.7min\n",
      "[Parallel(n_jobs=8)]: Done  60 out of  60 | elapsed:  5.4min finished\n"
     ]
    },
    {
     "name": "stdout",
     "output_type": "stream",
     "text": [
      "The test mean squared error is: 71.39284904074094\n"
     ]
    }
   ],
   "source": [
    "events_model_xgb = \"Events - RBF XGBRegressor\"\n",
    "\n",
    "params = {\n",
    "'eta':[0.02, 0.01, 0.1, 0.5],\n",
    "'max_depth':[4,6,8,10],\n",
    "'n_estimators':[5,10,20,50,100]\n",
    "}\n",
    "reg_age_events = xgb.XGBRegressor()\n",
    "x = vstack((events_x_train, events_x_cv))\n",
    "y = np.concatenate([df_events_train['age'], df_events_cv['age']])\n",
    "#trying out 30 possible combinations of hyperparameters\n",
    "rs_reg = RandomizedSearchCV(reg_age_events, params, verbose = 2, cv = 2, n_iter = 30, n_jobs=8)\n",
    "rs_reg.fit(x,y)\n",
    "best_reg_age_events = rs_reg.best_estimator_\n",
    "predict_y = best_reg_age_events.predict(events_x_test)\n",
    "events_mse_xgb = mean_squared_error(df_events_test['age'], predict_y)\n",
    "print(\"The test mean squared error is:\",events_mse_xgb)"
   ]
  },
  {
   "cell_type": "markdown",
   "metadata": {},
   "source": [
    "## Results for records with events"
   ]
  },
  {
   "cell_type": "code",
   "execution_count": 55,
   "metadata": {},
   "outputs": [
    {
     "name": "stdout",
     "output_type": "stream",
     "text": [
      "+---------------------------+-------------------+\n",
      "|           Model           |        MSE        |\n",
      "+---------------------------+-------------------+\n",
      "| Events - Ridge Regression | 76.87472817283391 |\n",
      "| Events - Lasso Regression | 76.67542165571683 |\n",
      "| Events - RBF XGBRegressor | 71.39284904074094 |\n",
      "+---------------------------+-------------------+\n"
     ]
    }
   ],
   "source": [
    "#summarizing results\n",
    "from prettytable import PrettyTable\n",
    "\n",
    "table = PrettyTable()\n",
    "\n",
    "table.field_names = [\"Model\", \"MSE\"]\n",
    "\n",
    "table.add_row([events_model_lrl2, events_mse_lrl2])\n",
    "table.add_row([events_model_lrl1, events_mse_lrl1])\n",
    "table.add_row([events_model_xgb, events_mse_xgb])\n",
    "\n",
    "print(table)"
   ]
  },
  {
   "cell_type": "markdown",
   "metadata": {},
   "source": [
    "## Adding Gender Predictions as a feature"
   ]
  },
  {
   "cell_type": "code",
   "execution_count": 56,
   "metadata": {},
   "outputs": [],
   "source": [
    "noevents_x_train = hstack((noevents_brand_train, noevents_model_train))\n",
    "noevents_x_cv = hstack((noevents_brand_cv, noevents_model_cv))\n",
    "noevents_x_test = hstack((noevents_brand_test, noevents_model_test))"
   ]
  },
  {
   "cell_type": "code",
   "execution_count": 57,
   "metadata": {},
   "outputs": [
    {
     "name": "stdout",
     "output_type": "stream",
     "text": [
      "Fitting 2 folds for each of 30 candidates, totalling 60 fits\n"
     ]
    },
    {
     "name": "stderr",
     "output_type": "stream",
     "text": [
      "[Parallel(n_jobs=8)]: Using backend LokyBackend with 8 concurrent workers.\n",
      "[Parallel(n_jobs=8)]: Done  34 tasks      | elapsed:    3.5s\n",
      "[Parallel(n_jobs=8)]: Done  45 out of  60 | elapsed:    4.4s remaining:    1.4s\n"
     ]
    },
    {
     "name": "stdout",
     "output_type": "stream",
     "text": [
      "The test mean squared error is: 94.49816966472521\n"
     ]
    },
    {
     "name": "stderr",
     "output_type": "stream",
     "text": [
      "[Parallel(n_jobs=8)]: Done  60 out of  60 | elapsed:    5.0s finished\n"
     ]
    }
   ],
   "source": [
    "noevents_model_xgb = \"No Events - RBF XGBRegressor\"\n",
    "\n",
    "params = {\n",
    "'eta':[0.02, 0.01, 0.1, 0.5],\n",
    "'max_depth':[4,6,8,10],\n",
    "'n_estimators':[5,10,20,50,100]\n",
    "}\n",
    "reg_age_noevents = xgb.XGBRegressor()\n",
    "x = vstack((noevents_x_train, noevents_x_cv))\n",
    "y = np.concatenate([df_noevents_train['age'], df_noevents_cv['age']])\n",
    "#trying out 30 possible combinations of hyperparameters\n",
    "rs_reg = RandomizedSearchCV(reg_age_noevents, params, verbose = 2, cv = 2, n_iter = 30, n_jobs=8)\n",
    "rs_reg.fit(x,y)\n",
    "best_reg_age_noevents = rs_reg.best_estimator_\n",
    "predict_y = best_reg_age_noevents.predict(noevents_x_test)\n",
    "noevents_mse_xgb = mean_squared_error(df_noevents_test['age'], predict_y)\n",
    "print(\"The test mean squared error is:\",noevents_mse_xgb)"
   ]
  },
  {
   "cell_type": "code",
   "execution_count": 58,
   "metadata": {},
   "outputs": [],
   "source": [
    "events_x_train = hstack((events_brand_train, events_model_train, events_installed_labels_train, events_active_labels_train,\n",
    "                         events_lat_train, events_long_train, events_travels_train, df_events_train['location_available'].values.reshape(-1,1), \n",
    "                         np.array(df_events_train['activity_hour'].to_list()), np.array(df_events_train['activity_day'].to_list()), \n",
    "                         df_events_train['app_usage'].values.reshape(-1,1), df_events_train['app_usage_session'].values.reshape(-1,1), \n",
    "                         np.array(df_events_train['installed_app_counts'].to_list()), np.array(df_events_train['active_app_usage_counts'].to_list()), \n",
    "                         np.array(df_events_train['active_app_usage'].to_list())))"
   ]
  },
  {
   "cell_type": "code",
   "execution_count": 59,
   "metadata": {},
   "outputs": [],
   "source": [
    "events_x_cv = hstack((events_brand_cv, events_model_cv, events_installed_labels_cv, events_active_labels_cv,\n",
    "                         events_lat_cv, events_long_cv, events_travels_cv, df_events_cv['location_available'].values.reshape(-1,1), \n",
    "                         np.array(df_events_cv['activity_hour'].to_list()), np.array(df_events_cv['activity_day'].to_list()), \n",
    "                         df_events_cv['app_usage'].values.reshape(-1,1), df_events_cv['app_usage_session'].values.reshape(-1,1), \n",
    "                         np.array(df_events_cv['installed_app_counts'].to_list()), np.array(df_events_cv['active_app_usage_counts'].to_list()), \n",
    "                         np.array(df_events_cv['active_app_usage'].to_list())))"
   ]
  },
  {
   "cell_type": "code",
   "execution_count": 60,
   "metadata": {},
   "outputs": [],
   "source": [
    "events_x_test = hstack((events_brand_test, events_model_test, events_installed_labels_test, events_active_labels_test,\n",
    "                         events_lat_test, events_long_test, events_travels_test, df_events_test['location_available'].values.reshape(-1,1), \n",
    "                         np.array(df_events_test['activity_hour'].to_list()), np.array(df_events_test['activity_day'].to_list()), \n",
    "                         df_events_test['app_usage'].values.reshape(-1,1), df_events_test['app_usage_session'].values.reshape(-1,1), \n",
    "                         np.array(df_events_test['installed_app_counts'].to_list()), np.array(df_events_test['active_app_usage_counts'].to_list()), \n",
    "                         np.array(df_events_test['active_app_usage'].to_list())))"
   ]
  },
  {
   "cell_type": "code",
   "execution_count": 61,
   "metadata": {},
   "outputs": [
    {
     "name": "stdout",
     "output_type": "stream",
     "text": [
      "Fitting 2 folds for each of 30 candidates, totalling 60 fits\n"
     ]
    },
    {
     "name": "stderr",
     "output_type": "stream",
     "text": [
      "[Parallel(n_jobs=8)]: Using backend LokyBackend with 8 concurrent workers.\n",
      "[Parallel(n_jobs=8)]: Done  25 tasks      | elapsed:  2.5min\n",
      "[Parallel(n_jobs=8)]: Done  60 out of  60 | elapsed:  5.9min finished\n"
     ]
    },
    {
     "name": "stdout",
     "output_type": "stream",
     "text": [
      "The test mean squared error is: 73.72729043354077\n"
     ]
    }
   ],
   "source": [
    "events_model_xgb = \"Events - RBF XGBRegressor\"\n",
    "\n",
    "params = {\n",
    "'eta':[0.02, 0.01, 0.1, 0.5],\n",
    "'max_depth':[4,6,8,10],\n",
    "'n_estimators':[5,10,20,50,100]\n",
    "}\n",
    "reg_age_events = xgb.XGBRegressor()\n",
    "x = vstack((events_x_train, events_x_cv))\n",
    "y = np.concatenate([df_events_train['age'], df_events_cv['age']])\n",
    "#trying out 30 possible combinations of hyperparameters\n",
    "rs_reg = RandomizedSearchCV(reg_age_events, params, verbose = 2, cv = 2, n_iter = 30, n_jobs=8)\n",
    "rs_reg.fit(x,y)\n",
    "best_reg_age_events = rs_reg.best_estimator_\n",
    "predict_y = best_reg_age_events.predict(events_x_test)\n",
    "events_mse_xgb = mean_squared_error(df_events_test['age'], predict_y)\n",
    "print(\"The test mean squared error is:\",events_mse_xgb)"
   ]
  },
  {
   "cell_type": "code",
   "execution_count": 83,
   "metadata": {},
   "outputs": [],
   "source": [
    "df_train_noevents = pd.read_pickle(\"dataset/gender_predictions/df_train_noevents.pkl\")\n",
    "df_train_events = pd.read_pickle(\"dataset/gender_predictions/df_train_events.pkl\")\n",
    "df_test_noevents = pd.read_pickle(\"dataset/gender_predictions/df_test_noevents.pkl\")\n",
    "df_test_events = pd.read_pickle(\"dataset/gender_predictions/df_test_events.pkl\")"
   ]
  },
  {
   "cell_type": "code",
   "execution_count": 84,
   "metadata": {},
   "outputs": [],
   "source": [
    "df_train_events.loc[df_train_events['app_usage'].isna(),'app_usage']=0\n",
    "df_train_events.loc[df_train_events['app_usage_session'].isna(),'app_usage_session']=0"
   ]
  },
  {
   "cell_type": "code",
   "execution_count": 85,
   "metadata": {},
   "outputs": [],
   "source": [
    "df_test_events.loc[df_test_events['app_usage'].isna(),'app_usage']=0\n",
    "df_test_events.loc[df_test_events['app_usage_session'].isna(),'app_usage_session']=0"
   ]
  },
  {
   "cell_type": "markdown",
   "metadata": {},
   "source": [
    "### No Events"
   ]
  },
  {
   "cell_type": "code",
   "execution_count": 86,
   "metadata": {},
   "outputs": [],
   "source": [
    "noevents_brand_train = noevents_brand_encoder.transform(df_train_noevents['brand'])\n",
    "noevents_brand_test = noevents_brand_encoder.transform(df_test_noevents['brand'])"
   ]
  },
  {
   "cell_type": "code",
   "execution_count": 87,
   "metadata": {},
   "outputs": [],
   "source": [
    "noevents_model_train = noevents_model_encoder.transform(df_train_noevents['model'])\n",
    "noevents_model_test = noevents_model_encoder.transform(df_test_noevents['model'])"
   ]
  },
  {
   "cell_type": "code",
   "execution_count": 88,
   "metadata": {},
   "outputs": [],
   "source": [
    "noevents_x_train = hstack((noevents_brand_train, noevents_model_train))\n",
    "noevents_x_test = hstack((noevents_brand_test, noevents_model_test))"
   ]
  },
  {
   "cell_type": "code",
   "execution_count": 89,
   "metadata": {},
   "outputs": [],
   "source": [
    "age_pred_train = best_reg_age_noevents.predict(noevents_x_train)\n",
    "age_pred_test = best_reg_age_noevents.predict(noevents_x_test)"
   ]
  },
  {
   "cell_type": "code",
   "execution_count": 90,
   "metadata": {},
   "outputs": [],
   "source": [
    "df_train_noevents['pred_age'] = age_pred_train\n",
    "df_test_noevents['pred_age'] = age_pred_test"
   ]
  },
  {
   "cell_type": "markdown",
   "metadata": {},
   "source": [
    "### Events"
   ]
  },
  {
   "cell_type": "code",
   "execution_count": 91,
   "metadata": {},
   "outputs": [],
   "source": [
    "events_brand_train = events_brand_encoder.transform(df_train_events['brand'])\n",
    "events_brand_test = events_brand_encoder.transform(df_test_events['brand'])"
   ]
  },
  {
   "cell_type": "code",
   "execution_count": 92,
   "metadata": {},
   "outputs": [],
   "source": [
    "events_model_train = events_model_encoder.transform(df_train_events['model'])\n",
    "events_model_test = events_model_encoder.transform(df_test_events['model'])"
   ]
  },
  {
   "cell_type": "code",
   "execution_count": 93,
   "metadata": {},
   "outputs": [],
   "source": [
    "events_active_labels_train = events_active_labels_encoder.transform(df_train_events['active_app_labels'])\n",
    "events_active_labels_test = events_active_labels_encoder.transform(df_test_events['active_app_labels'])"
   ]
  },
  {
   "cell_type": "code",
   "execution_count": 94,
   "metadata": {},
   "outputs": [],
   "source": [
    "events_installed_labels_train = events_installed_labels_encoder.transform(df_train_events['installed_app_labels'])\n",
    "events_installed_labels_test = events_installed_labels_encoder.transform(df_test_events['installed_app_labels'])"
   ]
  },
  {
   "cell_type": "code",
   "execution_count": 95,
   "metadata": {},
   "outputs": [],
   "source": [
    "scaler = StandardScaler()"
   ]
  },
  {
   "cell_type": "code",
   "execution_count": 96,
   "metadata": {},
   "outputs": [],
   "source": [
    "events_lat_train = scaler.fit_transform(df_train_events['mean_latitude'].values.reshape(-1,1))\n",
    "events_lat_test = scaler.transform(df_test_events['mean_latitude'].values.reshape(-1,1))"
   ]
  },
  {
   "cell_type": "code",
   "execution_count": 97,
   "metadata": {},
   "outputs": [],
   "source": [
    "events_long_train = scaler.fit_transform(df_train_events['mean_longitude'].values.reshape(-1,1))\n",
    "events_long_test = scaler.transform(df_test_events['mean_longitude'].values.reshape(-1,1))"
   ]
  },
  {
   "cell_type": "code",
   "execution_count": 98,
   "metadata": {},
   "outputs": [],
   "source": [
    "events_travels_train = scaler.fit_transform(df_train_events['num_travels'].values.reshape(-1,1))\n",
    "events_travels_test = scaler.transform(df_test_events['num_travels'].values.reshape(-1,1))"
   ]
  },
  {
   "cell_type": "code",
   "execution_count": 99,
   "metadata": {},
   "outputs": [],
   "source": [
    "events_x_train = hstack((events_brand_train, events_model_train, events_installed_labels_train, events_active_labels_train,\n",
    "                         events_lat_train, events_long_train, events_travels_train, df_train_events['location_available'].values.reshape(-1,1), \n",
    "                         np.array(df_train_events['activity_hour'].to_list()), np.array(df_train_events['activity_day'].to_list()), \n",
    "                         df_train_events['app_usage'].values.reshape(-1,1), df_train_events['app_usage_session'].values.reshape(-1,1), \n",
    "                         np.array(df_train_events['installed_app_counts'].to_list()), np.array(df_train_events['active_app_usage_counts'].to_list()), \n",
    "                         np.array(df_train_events['active_app_usage'].to_list())))"
   ]
  },
  {
   "cell_type": "code",
   "execution_count": 100,
   "metadata": {},
   "outputs": [],
   "source": [
    "events_x_test = hstack((events_brand_test, events_model_test, events_installed_labels_test, events_active_labels_test,\n",
    "                         events_lat_test, events_long_test, events_travels_test, df_test_events['location_available'].values.reshape(-1,1), \n",
    "                         np.array(df_test_events['activity_hour'].to_list()), np.array(df_test_events['activity_day'].to_list()), \n",
    "                         df_test_events['app_usage'].values.reshape(-1,1), df_test_events['app_usage_session'].values.reshape(-1,1), \n",
    "                         np.array(df_test_events['installed_app_counts'].to_list()), np.array(df_test_events['active_app_usage_counts'].to_list()), \n",
    "                         np.array(df_test_events['active_app_usage'].to_list())))"
   ]
  },
  {
   "cell_type": "code",
   "execution_count": 101,
   "metadata": {},
   "outputs": [],
   "source": [
    "age_pred_train = best_reg_age_events.predict(events_x_train)\n",
    "age_pred_test = best_reg_age_events.predict(events_x_test)"
   ]
  },
  {
   "cell_type": "code",
   "execution_count": 102,
   "metadata": {},
   "outputs": [],
   "source": [
    "df_train_events['pred_age'] = age_pred_train\n",
    "df_test_events['pred_age'] = age_pred_test"
   ]
  },
  {
   "cell_type": "code",
   "execution_count": 103,
   "metadata": {},
   "outputs": [
    {
     "name": "stdout",
     "output_type": "stream",
     "text": [
      "              device_id    brand          model gender  age   group  \\\n",
      "4  -5827952925479472594   xiaomi    mi one plus      M   30  M29-31   \n",
      "8    773248989809697210     vivo          x5pro      M   20    M22-   \n",
      "14 -5913071468598874323  samsung          s7566      M   40    M39+   \n",
      "30   375031242916141301     sony       xperia z      M   32  M32-38   \n",
      "36 -1025284795963440768  samsung  galaxy note 2      M   56    M39+   \n",
      "\n",
      "    app_usage  app_usage_session  \\\n",
      "4    0.390244           0.167480   \n",
      "8    0.607143           0.084127   \n",
      "14   1.000000           0.660131   \n",
      "30   0.945946           0.485220   \n",
      "36   0.521739           0.521739   \n",
      "\n",
      "                              active_app_usage_counts  \\\n",
      "4   [0.049575070821529746, 0.0, 0.0750708215297450...   \n",
      "8   [0.11339962121212122, 0.010179924242424242, 0....   \n",
      "14  [0.09965635738831616, 0.0, 0.08132875143184422...   \n",
      "30  [0.07363304981773998, 0.012393681652490888, 0....   \n",
      "36  [0.08, 0.013333333333333334, 0.146666666666666...   \n",
      "\n",
      "                                        activity_hour  ...  \\\n",
      "4   [0.14414414414414414, 0.0, 0.0, 0.0, 0.0, 0.0,...  ...   \n",
      "8   [0.050292397660818715, 0.03742690058479532, 0....  ...   \n",
      "14  [0.0, 0.0, 0.05660377358490566, 0.0, 0.0, 0.0,...  ...   \n",
      "30  [0.0644883920894239, 0.06534823731728288, 0.0,...  ...   \n",
      "36  [0.0, 0.0, 0.0, 0.0, 0.0, 0.0, 0.0, 0.0, 0.0, ...  ...   \n",
      "\n",
      "                                 installed_app_labels  \\\n",
      "4   online malls online shopping by group, like gr...   \n",
      "8   game-Music and Dance game-Cartoon poker game_d...   \n",
      "14  IM Finance Wealth Management Debit and credit ...   \n",
      "30  joke Financial Information Technology Informat...   \n",
      "36  game-Fishing Cute style comic education outsid...   \n",
      "\n",
      "                                    active_app_labels  \\\n",
      "4   online malls online shopping navigation IM Acc...   \n",
      "8   game-Music and Dance game-Cartoon poker game_d...   \n",
      "14  IM Finance Wealth Management Debit and credit ...   \n",
      "30  joke Financial Information Technology Informat...   \n",
      "36  education outside class novels reading platfor...   \n",
      "\n",
      "                                 installed_app_counts  \\\n",
      "4   [0.04897959183673469, 0.02040816326530612, 0.0...   \n",
      "8   [0.07334525939177101, 0.026833631484794274, 0....   \n",
      "14  [0.1044776119402985, 0.0, 0.07462686567164178,...   \n",
      "30  [0.058394160583941604, 0.014598540145985401, 0...   \n",
      "36  [0.09022556390977443, 0.022556390977443608, 0....   \n",
      "\n",
      "                                     active_app_usage  location_available  \\\n",
      "4   [0.6285714285714286, 0.11428571428571428, 0.08...                   0   \n",
      "8   [0.21085594989561587, 0.2609603340292276, 0.32...                   0   \n",
      "14  [0.3103448275862069, 0.16091954022988506, 0.41...                   1   \n",
      "30  [0.23102310231023102, 0.20957095709570958, 0.3...                   0   \n",
      "36  [0.0, 0.0, 1.0, 0.0, 0.0, 0.0, 1.0, 0.0, 0.0, ...                   0   \n",
      "\n",
      "    specs_available  female_pred male_pred release_bin   pred_age  \n",
      "4                 1     0.416651  0.583349          22  34.888489  \n",
      "8                 1     0.335204  0.664796          26  31.006329  \n",
      "14                1     0.155353  0.844647          15  35.284527  \n",
      "30                1     0.117424  0.882576          17  33.936726  \n",
      "36                1     0.252346  0.747654          15  50.940662  \n",
      "\n",
      "[5 rows x 27 columns]\n"
     ]
    }
   ],
   "source": [
    "print(df_train_events.head())"
   ]
  },
  {
   "cell_type": "code",
   "execution_count": 107,
   "metadata": {},
   "outputs": [],
   "source": [
    "df_train_noevents.to_pickle(\"dataset/age_predictions/df_train_noevents.pkl\")\n",
    "df_train_events.to_pickle(\"dataset/age_predictions/df_train_events.pkl\")\n",
    "df_test_noevents.to_pickle(\"dataset/age_predictions/df_test_noevents.pkl\")\n",
    "df_test_events.to_pickle(\"dataset/age_predictions/df_test_events.pkl\")"
   ]
  }
 ],
 "metadata": {
  "kernelspec": {
   "display_name": "Python 3",
   "language": "python",
   "name": "python3"
  },
  "language_info": {
   "codemirror_mode": {
    "name": "ipython",
    "version": 3
   },
   "file_extension": ".py",
   "mimetype": "text/x-python",
   "name": "python",
   "nbconvert_exporter": "python",
   "pygments_lexer": "ipython3",
   "version": "3.6.10"
  }
 },
 "nbformat": 4,
 "nbformat_minor": 4
}
