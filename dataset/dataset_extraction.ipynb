{
 "cells": [
  {
   "cell_type": "markdown",
   "metadata": {},
   "source": [
    "## Import Libraries"
   ]
  },
  {
   "cell_type": "code",
   "execution_count": null,
   "metadata": {},
   "outputs": [],
   "source": [
    "import pandas as pd            #to import the csv files\n",
    "from tqdm import tqdm          #to track progress\n",
    "tqdm.pandas()"
   ]
  },
  {
   "cell_type": "markdown",
   "metadata": {},
   "source": [
    "## Data Import"
   ]
  },
  {
   "cell_type": "code",
   "execution_count": null,
   "metadata": {},
   "outputs": [],
   "source": [
    "app_events = pd.read_csv(\"dataset/app_events.csv\")\n",
    "app_labels = pd.read_csv(\"dataset/app_labels.csv\")\n",
    "events = pd.read_csv(\"dataset/events.csv\")\n",
    "gender_age_test = pd.read_csv(\"dataset/gender_age_test.csv\")\n",
    "gender_age_train = pd.read_csv(\"dataset/gender_age_train.csv\")\n",
    "label_categories = pd.read_csv(\"dataset/label_categories.csv\")\n",
    "phone_brand_device_model = pd.read_csv(\"dataset/phone_brand_device_model.csv\")"
   ]
  },
  {
   "cell_type": "code",
   "execution_count": null,
   "metadata": {},
   "outputs": [],
   "source": [
    "print(app_events.columns)\n",
    "print(app_labels.columns)\n",
    "print(events.columns)\n",
    "print(gender_age_train.columns)\n",
    "print(label_categories.columns)\n",
    "print(phone_brand_device_model.columns)"
   ]
  },
  {
   "cell_type": "code",
   "execution_count": null,
   "metadata": {},
   "outputs": [],
   "source": [
    "#initialize an empty dataframe to store records\n",
    "record_df = pd.DataFrame(columns=['device_id','brand','model','events'])"
   ]
  },
  {
   "cell_type": "markdown",
   "metadata": {},
   "source": [
    "## Utility Functions"
   ]
  },
  {
   "cell_type": "code",
   "execution_count": null,
   "metadata": {},
   "outputs": [],
   "source": [
    "def get_app_activity(row):\n",
    "    \"\"\"Function that details about the events triggered by a particular device\"\"\"\n",
    "    \n",
    "    event_id = row['event_id']\n",
    "    timestamp = row['timestamp']\n",
    "    coordinates = (row['latitude'], row['longitude'])\n",
    "    \n",
    "    activity = []\n",
    "    \n",
    "    apps_df = app_events[app_events['event_id']==event_id]\n",
    "    \n",
    "    installed_apps = list(apps_df['app_id'].drop_duplicates())\n",
    "    \n",
    "    active_apps = list(apps_df[apps_df['is_active']==1]['app_id'])\n",
    "    \n",
    "    activity = [[i, timestamp, coordinates] for i in active_apps]\n",
    "   \n",
    "    return installed_apps, activity"
   ]
  },
  {
   "cell_type": "code",
   "execution_count": null,
   "metadata": {},
   "outputs": [],
   "source": [
    "def get_device_info(row):\n",
    "    \"\"\"Function that gets details about a particular device\"\"\"\n",
    "    \n",
    "    device_id = row['device_id']\n",
    "    brand = row['phone_brand']\n",
    "    model = row['device_model']\n",
    "    \n",
    "    events_df = events[events['device_id']==device_id]\n",
    "    \n",
    "    activity = []\n",
    "    installed_apps = []\n",
    "        \n",
    "    for index, row in events_df.iterrows():\n",
    "        i, a = get_app_activity(row)\n",
    "        installed_apps.extend(i)\n",
    "        activity.extend(a)\n",
    "    \n",
    "    installed_apps = set(installed_apps)\n",
    "    \n",
    "    record_df.loc[len(record_df)] =  [device_id, brand, model, installed_apps, activity]"
   ]
  },
  {
   "cell_type": "code",
   "execution_count": null,
   "metadata": {},
   "outputs": [],
   "source": [
    "#store datta in format device, brand, model, event_details\n",
    "phone_brand_device_model.progress_apply(get_device_info, axis = 1)"
   ]
  },
  {
   "cell_type": "code",
   "execution_count": null,
   "metadata": {},
   "outputs": [],
   "source": [
    "records_df.to_pickle(\"dataset_records.pkl\")"
   ]
  }
 ],
 "metadata": {
  "kernelspec": {
   "display_name": "Python 3",
   "language": "python",
   "name": "python3"
  },
  "language_info": {
   "codemirror_mode": {
    "name": "ipython",
    "version": 3
   },
   "file_extension": ".py",
   "mimetype": "text/x-python",
   "name": "python",
   "nbconvert_exporter": "python",
   "pygments_lexer": "ipython3",
   "version": "3.6.10"
  }
 },
 "nbformat": 4,
 "nbformat_minor": 4
}
