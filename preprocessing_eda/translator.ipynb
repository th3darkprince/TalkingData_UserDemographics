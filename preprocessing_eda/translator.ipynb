{
 "cells": [
  {
   "cell_type": "code",
   "execution_count": null,
   "metadata": {},
   "outputs": [],
   "source": [
    "from textblob import TextBlob                        #to split words to support the translation\n",
    "import pandas as pd                                  #dataset import"
   ]
  },
  {
   "cell_type": "code",
   "execution_count": 4,
   "metadata": {},
   "outputs": [],
   "source": [
    "df = pd.read_pickle(\"../dataset/dataset_records.pkl\")"
   ]
  },
  {
   "cell_type": "code",
   "execution_count": 5,
   "metadata": {},
   "outputs": [
    {
     "name": "stdout",
     "output_type": "stream",
     "text": [
      "Index(['device_id', 'brand', 'model', 'installed_apps', 'activity'], dtype='object')\n"
     ]
    }
   ],
   "source": [
    "print(df.columns)"
   ]
  },
  {
   "cell_type": "code",
   "execution_count": 7,
   "metadata": {},
   "outputs": [],
   "source": [
    "#dictionary that will contain the word translation\n",
    "#TextBlob uses GoogleTranslate in background\n",
    "brand_english = {}\n",
    "\n",
    "for i in list(df['brand'].drop_duplicates()):\n",
    "    if (TextBlob(i).detect_language()=='zh-CN') or (TextBlob(i).detect_language()=='ja'):\n",
    "        brand_english[i] = TextBlob(i).translate(to='es')"
   ]
  },
  {
   "cell_type": "code",
   "execution_count": 18,
   "metadata": {},
   "outputs": [],
   "source": [
    "#save the model\n",
    "np.save('brand_english.npy', brand_english)"
   ]
  },
  {
   "cell_type": "code",
   "execution_count": 86,
   "metadata": {},
   "outputs": [],
   "source": [
    "#dictionary that will contain the word translation\n",
    "#TextBlob uses GoogleTranslate in background\n",
    "model_english = {}\n",
    "\n",
    "for i in list(df['model'].drop_duplicates()[1599:]):\n",
    "    if (TextBlob(i).detect_language()=='zh-CN') or (TextBlob(i).detect_language()=='ja'):\n",
    "        model_english[i] = TextBlob(i).translate(to='es')"
   ]
  },
  {
   "cell_type": "code",
   "execution_count": 90,
   "metadata": {},
   "outputs": [],
   "source": [
    "#save the model\n",
    "np.save('model_english.npy', model_english)"
   ]
  }
 ],
 "metadata": {
  "kernelspec": {
   "display_name": "Python 3",
   "language": "python",
   "name": "python3"
  },
  "language_info": {
   "codemirror_mode": {
    "name": "ipython",
    "version": 3
   },
   "file_extension": ".py",
   "mimetype": "text/x-python",
   "name": "python",
   "nbconvert_exporter": "python",
   "pygments_lexer": "ipython3",
   "version": "3.6.10"
  }
 },
 "nbformat": 4,
 "nbformat_minor": 4
}
