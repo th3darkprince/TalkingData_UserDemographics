{
 "cells": [
  {
   "cell_type": "markdown",
   "metadata": {},
   "source": [
    "## Import Libraries"
   ]
  },
  {
   "cell_type": "code",
   "execution_count": 1,
   "metadata": {},
   "outputs": [],
   "source": [
    "import pandas as pd            #to import dataset\n",
    "from tqdm import tqdm          #to track progress"
   ]
  },
  {
   "cell_type": "markdown",
   "metadata": {},
   "source": [
    "## Data Import"
   ]
  },
  {
   "cell_type": "code",
   "execution_count": 2,
   "metadata": {},
   "outputs": [],
   "source": [
    "df_specs = pd.read_csv(\"dataset/dataset_specifications.csv\")           #dataset containing the phone specifications\n",
    "df_train = pd.read_pickle(\"dataset/dataset_train.pkl\")\n",
    "df_test = pd.read_pickle(\"dataset/dataset_test.pkl\")"
   ]
  },
  {
   "cell_type": "code",
   "execution_count": 4,
   "metadata": {},
   "outputs": [
    {
     "name": "stderr",
     "output_type": "stream",
     "text": [
      "100%|██████████████████████████████████████████████████████████████████████████| 74645/74645 [00:12<00:00, 6055.77it/s]\n",
      "100%|████████████████████████████████████████████████████████████████████████| 112071/112071 [00:16<00:00, 6625.02it/s]\n"
     ]
    }
   ],
   "source": [
    "tqdm.pandas()\n",
    "df_train = df_train.progress_apply(transform_lowercase, axis = 1)\n",
    "df_test = df_test.progress_apply(transform_lowercase, axis = 1)"
   ]
  },
  {
   "cell_type": "markdown",
   "metadata": {},
   "source": [
    "## Data Cleaning"
   ]
  },
  {
   "cell_type": "code",
   "execution_count": 5,
   "metadata": {},
   "outputs": [],
   "source": [
    "df_specs = df_specs[df_specs['screen_size'].notnull()]"
   ]
  },
  {
   "cell_type": "code",
   "execution_count": 6,
   "metadata": {},
   "outputs": [],
   "source": [
    "def add_specs(row):\n",
    "    \"\"\"Function that adds the phone specifications for a given brand and model\"\"\"\n",
    "    \n",
    "    row['screen_size']=0\n",
    "    row['ram_gb']=0\n",
    "    row['release_month']=0\n",
    "    row['release_year']=0\n",
    "    row['camera']=0\n",
    "    \n",
    "    phone = df_specs[(df_specs['phone_brand']==row['brand']) & (df_specs['device_model']==row['model'])]\n",
    "    \n",
    "    if len(phone)>0:\n",
    "        \n",
    "        row['screen_size']=phone['screen_size'].values[0]\n",
    "        row['ram_gb']=phone['ram_gb'].values[0]\n",
    "        row['release_month']=phone['release_month'].values[0]\n",
    "        row['release_year']=phone['release_year'].values[0]\n",
    "        row['camera']=phone['camera'].values[0]\n",
    "     \n",
    "    return row"
   ]
  },
  {
   "cell_type": "code",
   "execution_count": 7,
   "metadata": {},
   "outputs": [
    {
     "name": "stderr",
     "output_type": "stream",
     "text": [
      "100%|███████████████████████████████████████████████████████████████████████████| 74645/74645 [05:06<00:00, 243.79it/s]\n",
      "100%|█████████████████████████████████████████████████████████████████████████| 112071/112071 [07:38<00:00, 244.68it/s]\n"
     ]
    }
   ],
   "source": [
    "df_train_specs = df_train.progress_apply(add_specs, axis = 1)\n",
    "df_test_specs = df_test.progress_apply(add_specs, axis = 1)"
   ]
  },
  {
   "cell_type": "code",
   "execution_count": 9,
   "metadata": {},
   "outputs": [],
   "source": [
    "df_train_specs.to_pickle(\"dataset/dataset_train_with_specs.pkl\")\n",
    "df_test_specs.to_pickle(\"dataset/dataset_test_with_specs.pkl\")"
   ]
  }
 ],
 "metadata": {
  "kernelspec": {
   "display_name": "Python 3",
   "language": "python",
   "name": "python3"
  },
  "language_info": {
   "codemirror_mode": {
    "name": "ipython",
    "version": 3
   },
   "file_extension": ".py",
   "mimetype": "text/x-python",
   "name": "python",
   "nbconvert_exporter": "python",
   "pygments_lexer": "ipython3",
   "version": "3.6.10"
  }
 },
 "nbformat": 4,
 "nbformat_minor": 4
}
